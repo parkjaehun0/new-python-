{
 "cells": [
  {
   "cell_type": "code",
   "execution_count": 1,
   "id": "13ed9f04-ba95-4dbe-949b-c153724c634f",
   "metadata": {},
   "outputs": [],
   "source": [
    "# + 는 덧셈연산자\n",
    "# - 는 뺄셈연산자\n",
    "# * 는 곱셈연산자\n",
    "# / 는 나눗셈연산자\n",
    "# // 는 나누기(몫)연산자\n",
    "# % 는 나눈 나머지연산자\n",
    "# ** 는 제곱연산자"
   ]
  },
  {
   "cell_type": "code",
   "execution_count": 25,
   "id": "0099064a-778a-4908-b274-6ae99c766bcf",
   "metadata": {},
   "outputs": [
    {
     "name": "stdout",
     "output_type": "stream",
     "text": [
      "False\n",
      "<class 'bool'>\n",
      "False\n",
      "True\n",
      "True\n",
      "False\n",
      "True\n",
      "--------------------------------------------------\n",
      "300\n",
      "3.0\n",
      "3\n",
      "0\n",
      "--------------------------------------------------\n",
      "False\n",
      "True\n",
      "--------------------------------------------------\n"
     ]
    },
    {
     "name": "stdin",
     "output_type": "stream",
     "text": [
      "숫자 50\n",
      "숫자 520\n"
     ]
    },
    {
     "name": "stdout",
     "output_type": "stream",
     "text": [
      "False\n",
      "False\n",
      "True\n",
      "True\n",
      "False\n",
      "True\n"
     ]
    }
   ],
   "source": [
    "data = 10\n",
    "score = 30\n",
    "print(data > score)\n",
    "a = data > score\n",
    "print(type(a))\n",
    "print(data >= score)\n",
    "print(data < score)\n",
    "print(data <= score)\n",
    "print(data == score) # 같은면 True\n",
    "print(data != score) # 다르면 True\n",
    "\n",
    "print('-'*50)\n",
    "c = data * score ; print(c)\n",
    "s = score / data ; print(s)\n",
    "d = score // data ; print(d)\n",
    "w = score % data ; print(w)\n",
    "\n",
    "print('-'*50)\n",
    "forr = 10\n",
    "print( forr >= 50 and forr <= 100) # 둘다 같아야 True\n",
    "print( forr >= 0 or forr <= 100) # 둘 중 하나라도 같으면 True\n",
    "\n",
    "print('-'*50)\n",
    "dat = int(input('숫자'))\n",
    "scoe = int(input('숫자'))\n",
    "print(dat > scoe)          \n",
    "print(dat >= scoe)\n",
    "print(dat < scoe)\n",
    "print(dat <= scoe)\n",
    "print(dat == scoe) \n",
    "print(dat != scoe)"
   ]
  },
  {
   "cell_type": "code",
   "execution_count": null,
   "id": "2f078b2a-b6a5-4a9f-96f7-3f2f9af1b66b",
   "metadata": {},
   "outputs": [],
   "source": [
    "\n"
   ]
  },
  {
   "cell_type": "code",
   "execution_count": null,
   "id": "90c03a7b-be34-4cb5-bda0-fe8c13699761",
   "metadata": {},
   "outputs": [],
   "source": []
  }
 ],
 "metadata": {
  "kernelspec": {
   "display_name": "Python 3 (ipykernel)",
   "language": "python",
   "name": "python3"
  },
  "language_info": {
   "codemirror_mode": {
    "name": "ipython",
    "version": 3
   },
   "file_extension": ".py",
   "mimetype": "text/x-python",
   "name": "python",
   "nbconvert_exporter": "python",
   "pygments_lexer": "ipython3",
   "version": "3.9.7"
  }
 },
 "nbformat": 4,
 "nbformat_minor": 5
}
