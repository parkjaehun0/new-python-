{
 "cells": [
  {
   "cell_type": "code",
   "execution_count": 8,
   "id": "a406573e-0856-4270-91b6-275fada8a089",
   "metadata": {},
   "outputs": [
    {
     "name": "stdout",
     "output_type": "stream",
     "text": [
      "1.4142135623730951\n",
      "['__doc__', '__loader__', '__name__', '__package__', '__spec__', 'acos', 'acosh', 'asin', 'asinh', 'atan', 'atan2', 'atanh', 'ceil', 'comb', 'copysign', 'cos', 'cosh', 'degrees', 'dist', 'e', 'erf', 'erfc', 'exp', 'expm1', 'fabs', 'factorial', 'floor', 'fmod', 'frexp', 'fsum', 'gamma', 'gcd', 'hypot', 'inf', 'isclose', 'isfinite', 'isinf', 'isnan', 'isqrt', 'lcm', 'ldexp', 'lgamma', 'log', 'log10', 'log1p', 'log2', 'modf', 'nan', 'nextafter', 'perm', 'pi', 'pow', 'prod', 'radians', 'remainder', 'sin', 'sinh', 'sqrt', 'tan', 'tanh', 'tau', 'trunc', 'ulp']\n"
     ]
    }
   ],
   "source": [
    "import math\n",
    "\n",
    "math.sqrt(2)\n",
    "print(math.sqrt(2))\n",
    "\n",
    "print(dir(math))  # dir은 그 모듈에 함수들을 볼 수 있다.\n"
   ]
  },
  {
   "cell_type": "code",
   "execution_count": 9,
   "id": "9bcda116-c3e6-45ac-8b23-67f3488afa39",
   "metadata": {},
   "outputs": [
    {
     "name": "stdout",
     "output_type": "stream",
     "text": [
      "2022-01-04 14:38:18.042066\n",
      "2022\n",
      "1\n",
      "4\n",
      "Tuesday <class 'str'>\n",
      "2022/01/04\n",
      "<class 'datetime.datetime'>\n"
     ]
    }
   ],
   "source": [
    "#import datetime\n",
    "from datetime import datetime\n",
    "\n",
    "#x = datetime.datetime.now()\n",
    "x = datetime.now()\n",
    "print(x)\n",
    "\n",
    "print(x.year)\n",
    "print(x.month)\n",
    "print(x.day)\n",
    "\n",
    "s = x.strftime('%A')\n",
    "print(s, type(s))\n",
    "print(x.strftime('%Y/%m/%d'))\n",
    "y = datetime.strptime(\"2022-01-30\", '%Y-%m-%d')\n",
    "print(type(y))"
   ]
  },
  {
   "cell_type": "code",
   "execution_count": 10,
   "id": "7d8732e0-75ae-4825-ac3e-0145cb4e806a",
   "metadata": {},
   "outputs": [
    {
     "name": "stdout",
     "output_type": "stream",
     "text": [
      "Windows\n"
     ]
    }
   ],
   "source": [
    "import platform\n",
    "\n",
    "x = platform.system()\n",
    "print(x)"
   ]
  },
  {
   "cell_type": "code",
   "execution_count": 12,
   "id": "24fc714e-c645-4b94-bd93-5c598d9c496b",
   "metadata": {},
   "outputs": [
    {
     "name": "stdout",
     "output_type": "stream",
     "text": [
      "88\n",
      "0.3882219966136655\n",
      "1\n"
     ]
    }
   ],
   "source": [
    "import random\n",
    "\n",
    "num = random.randint(1, 100) # 1~100사이에 랜덤숫자\n",
    "print(num)\n",
    "\n",
    "qum = random.random()   # 0.9999...까지에 랜덤숫자\n",
    "print(qum)\n",
    "\n",
    "wum = random.randrange(1, 9, 2)  # 1~9까지에 숫자중 1, 3, 5, 7, 9숫자 2칸씩 뜀\n",
    "print(wum)"
   ]
  },
  {
   "cell_type": "code",
   "execution_count": 13,
   "id": "c8af1433-e8b1-4ad7-bafe-733c73a0aa30",
   "metadata": {},
   "outputs": [
    {
     "name": "stdout",
     "output_type": "stream",
     "text": [
      "Hello World\n"
     ]
    }
   ],
   "source": [
    "import camelcase\n",
    "# import camelcase as cc  # 위에 대신 이렇게 사용 가능 as 패키지별명\n",
    "\n",
    "c = camelcase.CamelCase()\n",
    "# cc = cc.CamelCase()\n",
    "\n",
    "txt = 'hello world'\n",
    "print(c.hump(txt))"
   ]
  },
  {
   "cell_type": "code",
   "execution_count": 14,
   "id": "21186043-5625-43d1-94be-8d40a1717019",
   "metadata": {},
   "outputs": [
    {
     "name": "stdout",
     "output_type": "stream",
     "text": [
      "Note: you may need to restart the kernel to use updated packages.\n"
     ]
    },
    {
     "name": "stderr",
     "output_type": "stream",
     "text": [
      "명령 구문이 올바르지 않습니다.\n"
     ]
    }
   ],
   "source": [
    "pip install camelcase  # pip install 패키지이름 < 패키지 다운로드 다운받는법>"
   ]
  },
  {
   "cell_type": "code",
   "execution_count": 15,
   "id": "58ee2f29-cdbd-43bf-9558-d69c3ebeec12",
   "metadata": {},
   "outputs": [
    {
     "name": "stdout",
     "output_type": "stream",
     "text": [
      "Package                            Version\n",
      "---------------------------------- --------------------\n",
      "alabaster                          0.7.12\n",
      "anaconda-client                    1.9.0\n",
      "anaconda-navigator                 2.1.1\n",
      "anaconda-project                   0.10.1\n",
      "anyio                              2.2.0\n",
      "appdirs                            1.4.4\n",
      "argh                               0.26.2\n",
      "argon2-cffi                        20.1.0\n",
      "arrow                              0.13.1\n",
      "asn1crypto                         1.4.0\n",
      "astroid                            2.6.6\n",
      "astropy                            4.3.1\n",
      "async-generator                    1.10\n",
      "atomicwrites                       1.4.0\n",
      "attrs                              21.2.0\n",
      "autopep8                           1.5.7\n",
      "Babel                              2.9.1\n",
      "backcall                           0.2.0\n",
      "backports.functools-lru-cache      1.6.4\n",
      "backports.shutil-get-terminal-size 1.0.0\n",
      "backports.tempfile                 1.0\n",
      "backports.weakref                  1.0.post1\n",
      "bcrypt                             3.2.0\n",
      "beautifulsoup4                     4.10.0\n",
      "binaryornot                        0.4.4\n",
      "bitarray                           2.3.0\n",
      "bkcharts                           0.2\n",
      "black                              19.10b0\n",
      "bleach                             4.0.0\n",
      "bokeh                              2.4.1\n",
      "boto                               2.49.0\n",
      "Bottleneck                         1.3.2\n",
      "brotlipy                           0.7.0\n",
      "cached-property                    1.5.2\n",
      "camelcase                          0.2\n",
      "certifi                            2021.10.8\n",
      "cffi                               1.14.6\n",
      "chardet                            4.0.0\n",
      "charset-normalizer                 2.0.4\n",
      "click                              8.0.3\n",
      "cloudpickle                        2.0.0\n",
      "clyent                             1.2.2\n",
      "colorama                           0.4.4\n",
      "comtypes                           1.1.10\n",
      "conda                              4.10.3\n",
      "conda-build                        3.21.6\n",
      "conda-content-trust                0+unknown\n",
      "conda-pack                         0.6.0\n",
      "conda-package-handling             1.7.3\n",
      "conda-repo-cli                     1.0.4\n",
      "conda-token                        0.3.0\n",
      "conda-verify                       3.4.2\n",
      "contextlib2                        0.6.0.post1\n",
      "cookiecutter                       1.7.2\n",
      "cryptography                       3.4.8\n",
      "cycler                             0.10.0\n",
      "Cython                             0.29.24\n",
      "cytoolz                            0.11.0\n",
      "daal4py                            2021.3.0\n",
      "dask                               2021.10.0\n",
      "debugpy                            1.4.1\n",
      "decorator                          5.1.0\n",
      "defusedxml                         0.7.1\n",
      "diff-match-patch                   20200713\n",
      "distributed                        2021.10.0\n",
      "docutils                           0.17.1\n",
      "entrypoints                        0.3\n",
      "et-xmlfile                         1.1.0\n",
      "fastcache                          1.1.0\n",
      "filelock                           3.3.1\n",
      "flake8                             3.9.2\n",
      "Flask                              1.1.2\n",
      "fonttools                          4.25.0\n",
      "fsspec                             2021.10.1\n",
      "future                             0.18.2\n",
      "gevent                             21.8.0\n",
      "glob2                              0.7\n",
      "greenlet                           1.1.1\n",
      "h5py                               3.2.1\n",
      "HeapDict                           1.0.1\n",
      "html5lib                           1.1\n",
      "idna                               3.2\n",
      "imagecodecs                        2021.8.26\n",
      "imageio                            2.9.0\n",
      "imagesize                          1.2.0\n",
      "importlib-metadata                 4.8.1\n",
      "inflection                         0.5.1\n",
      "iniconfig                          1.1.1\n",
      "intervaltree                       3.1.0\n",
      "ipykernel                          6.4.1\n",
      "ipython                            7.29.0\n",
      "ipython-genutils                   0.2.0\n",
      "ipywidgets                         7.6.5\n",
      "isort                              5.9.3\n",
      "itsdangerous                       2.0.1\n",
      "jdcal                              1.4.1\n",
      "jedi                               0.18.0\n",
      "Jinja2                             2.11.3\n",
      "jinja2-time                        0.2.0\n",
      "joblib                             1.1.0\n",
      "json5                              0.9.6\n",
      "jsonschema                         3.2.0\n",
      "jupyter                            1.0.0\n",
      "jupyter-client                     6.1.12\n",
      "jupyter-console                    6.4.0\n",
      "jupyter-core                       4.8.1\n",
      "jupyter-server                     1.4.1\n",
      "jupyterlab                         3.2.1\n",
      "jupyterlab-pygments                0.1.2\n",
      "jupyterlab-server                  2.8.2\n",
      "jupyterlab-widgets                 1.0.0\n",
      "keyring                            23.1.0\n",
      "kiwisolver                         1.3.1\n",
      "lazy-object-proxy                  1.6.0\n",
      "libarchive-c                       2.9\n",
      "llvmlite                           0.37.0\n",
      "locket                             0.2.1\n",
      "lxml                               4.6.3\n",
      "MarkupSafe                         1.1.1\n",
      "matplotlib                         3.4.3\n",
      "matplotlib-inline                  0.1.2\n",
      "mccabe                             0.6.1\n",
      "menuinst                           1.4.18\n",
      "mistune                            0.8.4\n",
      "mkl-fft                            1.3.1\n",
      "mkl-random                         1.2.2\n",
      "mkl-service                        2.4.0\n",
      "mock                               4.0.3\n",
      "more-itertools                     8.10.0\n",
      "mpmath                             1.2.1\n",
      "msgpack                            1.0.2\n",
      "multipledispatch                   0.6.0\n",
      "munkres                            1.1.4\n",
      "mypy-extensions                    0.4.3\n",
      "navigator-updater                  0.2.1\n",
      "nbclassic                          0.2.6\n",
      "nbclient                           0.5.3\n",
      "nbconvert                          6.1.0\n",
      "nbformat                           5.1.3\n",
      "nest-asyncio                       1.5.1\n",
      "networkx                           2.6.3\n",
      "nltk                               3.6.5\n",
      "nose                               1.3.7\n",
      "notebook                           6.4.5\n",
      "numba                              0.54.1\n",
      "numexpr                            2.7.3\n",
      "numpy                              1.20.3\n",
      "numpydoc                           1.1.0\n",
      "olefile                            0.46\n",
      "openpyxl                           3.0.9\n",
      "packaging                          21.0\n",
      "pandas                             1.3.4\n",
      "pandocfilters                      1.4.3\n",
      "paramiko                           2.7.2\n",
      "parso                              0.8.2\n",
      "partd                              1.2.0\n",
      "path                               16.0.0\n",
      "pathlib2                           2.3.6\n",
      "pathspec                           0.7.0\n",
      "patsy                              0.5.2\n",
      "pep8                               1.7.1\n",
      "pexpect                            4.8.0\n",
      "pickleshare                        0.7.5\n",
      "Pillow                             8.4.0\n",
      "pip                                21.2.4\n",
      "pkginfo                            1.7.1\n",
      "pluggy                             0.13.1\n",
      "ply                                3.11\n",
      "poyo                               0.5.0\n",
      "prometheus-client                  0.11.0\n",
      "prompt-toolkit                     3.0.20\n",
      "psutil                             5.8.0\n",
      "ptyprocess                         0.7.0\n",
      "py                                 1.10.0\n",
      "pycodestyle                        2.7.0\n",
      "pycosat                            0.6.3\n",
      "pycparser                          2.20\n",
      "pycurl                             7.44.1\n",
      "pydocstyle                         6.1.1\n",
      "pyerfa                             2.0.0\n",
      "pyflakes                           2.3.1\n",
      "Pygments                           2.10.0\n",
      "PyJWT                              2.1.0\n",
      "pylint                             2.9.6\n",
      "pyls-spyder                        0.4.0\n",
      "PyNaCl                             1.4.0\n",
      "pyodbc                             4.0.0-unsupported\n",
      "pyOpenSSL                          21.0.0\n",
      "pyparsing                          3.0.4\n",
      "pyreadline                         2.1\n",
      "pyrsistent                         0.18.0\n",
      "PySocks                            1.7.1\n",
      "pytest                             6.2.4\n",
      "python-dateutil                    2.8.2\n",
      "python-lsp-black                   1.0.0\n",
      "python-lsp-jsonrpc                 1.0.0\n",
      "python-lsp-server                  1.2.4\n",
      "python-slugify                     5.0.2\n",
      "pytz                               2021.3\n",
      "PyWavelets                         1.1.1\n",
      "pywin32                            228\n",
      "pywin32-ctypes                     0.2.0\n",
      "pywinpty                           0.5.7\n",
      "PyYAML                             6.0\n",
      "pyzmq                              22.2.1\n",
      "QDarkStyle                         3.0.2\n",
      "qstylizer                          0.1.10\n",
      "QtAwesome                          1.0.2\n",
      "qtconsole                          5.1.1\n",
      "QtPy                               1.10.0\n",
      "regex                              2021.8.3\n",
      "requests                           2.26.0\n",
      "rope                               0.19.0\n",
      "Rtree                              0.9.7\n",
      "ruamel-yaml-conda                  0.15.100\n",
      "scikit-image                       0.18.3\n",
      "scikit-learn                       0.24.2\n",
      "scikit-learn-intelex               2021.20210714.120553\n",
      "scipy                              1.7.1\n",
      "seaborn                            0.11.2\n",
      "Send2Trash                         1.8.0\n",
      "setuptools                         58.0.4\n",
      "simplegeneric                      0.8.1\n",
      "singledispatch                     3.7.0\n",
      "sip                                4.19.13\n",
      "six                                1.16.0\n",
      "sniffio                            1.2.0\n",
      "snowballstemmer                    2.1.0\n",
      "sortedcollections                  2.1.0\n",
      "sortedcontainers                   2.4.0\n",
      "soupsieve                          2.2.1\n",
      "Sphinx                             4.2.0\n",
      "sphinxcontrib-applehelp            1.0.2\n",
      "sphinxcontrib-devhelp              1.0.2\n",
      "sphinxcontrib-htmlhelp             2.0.0\n",
      "sphinxcontrib-jsmath               1.0.1\n",
      "sphinxcontrib-qthelp               1.0.3\n",
      "sphinxcontrib-serializinghtml      1.1.5\n",
      "sphinxcontrib-websupport           1.2.4\n",
      "spyder                             5.1.5\n",
      "spyder-kernels                     2.1.3\n",
      "SQLAlchemy                         1.4.22\n",
      "statsmodels                        0.12.2\n",
      "sympy                              1.9\n",
      "tables                             3.6.1\n",
      "TBB                                0.2\n",
      "tblib                              1.7.0\n",
      "terminado                          0.9.4\n",
      "testpath                           0.5.0\n",
      "text-unidecode                     1.3\n",
      "textdistance                       4.2.1\n",
      "threadpoolctl                      2.2.0\n",
      "three-merge                        0.1.1\n",
      "tifffile                           2021.7.2\n",
      "tinycss                            0.4\n",
      "toml                               0.10.2\n",
      "toolz                              0.11.1\n",
      "tornado                            6.1\n",
      "tqdm                               4.62.3\n",
      "traitlets                          5.1.0\n",
      "typed-ast                          1.4.3\n",
      "typing-extensions                  3.10.0.2\n",
      "ujson                              4.0.2\n",
      "unicodecsv                         0.14.1\n",
      "Unidecode                          1.2.0\n",
      "urllib3                            1.26.7\n",
      "watchdog                           2.1.3\n",
      "wcwidth                            0.2.5\n",
      "webencodings                       0.5.1\n",
      "Werkzeug                           2.0.2\n",
      "wheel                              0.37.0\n",
      "whichcraft                         0.6.1\n",
      "widgetsnbextension                 3.5.1\n",
      "win-inet-pton                      1.1.0\n",
      "win-unicode-console                0.5\n",
      "wincertstore                       0.2\n",
      "wrapt                              1.12.1\n",
      "xlrd                               2.0.1\n",
      "XlsxWriter                         3.0.1\n",
      "xlwings                            0.24.9\n",
      "xlwt                               1.3.0\n",
      "xmltodict                          0.12.0\n",
      "yapf                               0.31.0\n",
      "zict                               2.0.0\n",
      "zipp                               3.6.0\n",
      "zope.event                         4.5.0\n",
      "zope.interface                     5.4.0\n",
      "Note: you may need to restart the kernel to use updated packages.\n"
     ]
    }
   ],
   "source": [
    "\n",
    "pip list  # 내컴퓨터에 설치된 패키지를 알 수 있다."
   ]
  },
  {
   "cell_type": "code",
   "execution_count": 16,
   "id": "687f0af4-f10d-4404-a7cb-7b635533125e",
   "metadata": {},
   "outputs": [
    {
     "name": "stdout",
     "output_type": "stream",
     "text": [
      "<class 'list'> [{'name': 'John', 'age': 30, 'city': 'New York'}, {'name': 'Park', 'age': 19, 'city': 'Gwang Ju'}]\n",
      "John\n",
      "New York\n"
     ]
    }
   ],
   "source": [
    "import json    \n",
    "\n",
    "# json 문자열을 딕셔너리로 바꾸는 법         # {...} 은 딕셔너리타입 ,  [{....}] 은 리스트 타입 여러개의 데이터를 넣을때 사용\n",
    "json_string = '''[{ \"name\" : \"John\",      \n",
    "                 \"age\" : 30, \n",
    "                 \"city\": \"New York\"},\n",
    "                 { \"name\" : \"Park\", \n",
    "                 \"age\" : 19, \n",
    "                 \"city\": \"Gwang Ju\"}]'''  # ''' ~~ ''' 를 사용\n",
    "\n",
    "\n",
    "python_dict = json.loads(json_string)    # json 문자열을 딕셔너리로 바꾸는 법 \n",
    "\n",
    "print(type(python_dict), python_dict)\n",
    "#print(python_dict[\"age\"])\n",
    "for n in python_dict:\n",
    "    if n['age'] >= 20:    # 나이가 20살 이상인 사람에 이름 호출\n",
    "        print(n['name'])\n",
    "        print(n['city'])\n",
    "     "
   ]
  },
  {
   "cell_type": "code",
   "execution_count": 17,
   "id": "6d9e120b-d1f4-431d-98c5-60c2efd00354",
   "metadata": {},
   "outputs": [
    {
     "name": "stdout",
     "output_type": "stream",
     "text": [
      "[{\"name\": \"John\", \"age\": 30, \"city\": \"New York\"}, {\"name\": \"Park\", \"age\": 19, \"city\": \"Gwang Ju\"}] <class 'str'>\n"
     ]
    }
   ],
   "source": [
    "# 딕셔너리를 json문자열로 바꾸는 법\n",
    "\n",
    "python_dict = [{ \"name\" : \"John\",  \n",
    "                 \"age\" : 30, \n",
    "                 \"city\": \"New York\"},\n",
    "                 { \"name\" : \"Park\", \n",
    "                 \"age\" : 19, \n",
    "                 \"city\": \"Gwang Ju\"}]\n",
    "\n",
    "json_string = json.dumps(python_dict)     # 딕셔너리를 json문자열로 바꾸는 법\n",
    "\n",
    "print(json_string, type(json_string))"
   ]
  },
  {
   "cell_type": "code",
   "execution_count": 18,
   "id": "6763cdb5-8aa8-4141-ab5a-ae17d690d9ab",
   "metadata": {},
   "outputs": [],
   "source": [
    "f = open('text.txt', 'wt')  # 'w'라고 써도됨 t는 기본값이므로 안써도됨\n",
    "\n",
    "f.write('텍스트 파일을 새로 만들고 텍스트를 씁니다\\n')\n",
    "f.write('텍스트 파일을 새로 만들고 텍스트를 씁니다..\\n')\n",
    "f.close()   # close를 꼭써줘야 파일이 써짐"
   ]
  },
  {
   "cell_type": "code",
   "execution_count": 19,
   "id": "6fabc5ad-908b-4dac-a2f1-75fb6786b8a7",
   "metadata": {},
   "outputs": [],
   "source": [
    "f = open('text.txt', 'wt', encoding = 'utf-8')  # utf-8 한글을 불러올때 써줘야함 영어만 있는 텍스트파일이면 상관없음.\n",
    "\n",
    "f.write('텍스트 파일을 새로 만들고 텍스트를 씁니다\\n')\n",
    "f.write('텍스트 파일을 새로 만들고 텍스트를 씁니다..\\n')\n",
    "f.close()  # close를 꼭써줘야 파일이 써짐"
   ]
  },
  {
   "cell_type": "code",
   "execution_count": 20,
   "id": "d9c548b9-3511-4014-9e90-38e0385ab216",
   "metadata": {},
   "outputs": [
    {
     "name": "stdout",
     "output_type": "stream",
     "text": [
      "텍스트 파일을 새로 만들고 텍스트를 씁니다\n",
      "\n",
      "텍스트 파일을 새로 만들고 텍스트를 씁니다..\n",
      "\n"
     ]
    }
   ],
   "source": [
    "f = open('text.txt', 'r', encoding = 'utf-8')\n",
    "\n",
    "# print(f.read(1))    # 한글자식 읽어옴  \n",
    "#print(f.readline())  # 한줄을 읽음\n",
    "#print(f.readline())  # 한줄을 읽음    만약 텍스트 파일에 두줄바께 없으면 두줄까지만 호출함\n",
    "\n",
    "#while True:             # 텍스트파일에 몇 줄이 있는 지 모를때 쓰는 함수\n",
    "#    x = f.readline()\n",
    "#    print(type(x))\n",
    "#    if x :\n",
    "#        print(x)\n",
    "#    else:\n",
    "#        break\n",
    "        \n",
    "akk = f.readlines()   # 텍스트파일에 텍스트를 모두 읽어옴 위에 while문이랑 같음\n",
    "for k in akk:\n",
    "    print(k)\n",
    "\n",
    "f.close()"
   ]
  },
  {
   "cell_type": "code",
   "execution_count": 21,
   "id": "0efe8958-95b3-4941-8975-cb7b4a164bd4",
   "metadata": {},
   "outputs": [
    {
     "name": "stdout",
     "output_type": "stream",
     "text": [
      "테스트1 입니다.\n",
      "\n",
      "테스트2 입니다.\n",
      "\n"
     ]
    }
   ],
   "source": [
    "with open('test.txt', 'a', encoding = 'utf-8') as test:   # 자동으로 close됨\n",
    "    test.write('테스트1 입니다.\\n')\n",
    "    test.write('테스트2 입니다.\\n')\n",
    "with open('test.txt', 'r', encoding = 'utf-8') as test:\n",
    "    print(test.readline())\n",
    "    print(test.readline())"
   ]
  },
  {
   "cell_type": "markdown",
   "id": "6c907fcf-ff60-46cf-b793-98e342c2e47e",
   "metadata": {},
   "source": [
    "json파일 만들기."
   ]
  },
  {
   "cell_type": "code",
   "execution_count": 2,
   "id": "74bf052d-09cc-4932-bdde-e34c59a2c5a3",
   "metadata": {},
   "outputs": [],
   "source": [
    "with open('test.json', 'a', encoding = 'utf-8') as teet:\n",
    "    teet.write('''[{ \"name\" : \"John\",      \n",
    "                 \"age\" : 30, \n",
    "                 \"city\": \"New York\"},L\n",
    "                 { \"name\" : \"Park\", \n",
    "                 \"age\" : 19, \n",
    "                 \"city\": \"Gwang Ju\"}]''')"
   ]
  },
  {
   "cell_type": "code",
   "execution_count": 3,
   "id": "dedd688a-6a42-4da2-b3c4-b693ba2db6b2",
   "metadata": {},
   "outputs": [
    {
     "ename": "NameError",
     "evalue": "name 'json' is not defined",
     "output_type": "error",
     "traceback": [
      "\u001b[1;31m---------------------------------------------------------------------------\u001b[0m",
      "\u001b[1;31mNameError\u001b[0m                                 Traceback (most recent call last)",
      "\u001b[1;32m~\\AppData\\Local\\Temp/ipykernel_8628/89004701.py\u001b[0m in \u001b[0;36m<module>\u001b[1;34m\u001b[0m\n\u001b[0;32m      1\u001b[0m \u001b[1;32mwith\u001b[0m \u001b[0mopen\u001b[0m\u001b[1;33m(\u001b[0m\u001b[1;34m'test.json'\u001b[0m\u001b[1;33m,\u001b[0m \u001b[1;34m'r'\u001b[0m\u001b[1;33m)\u001b[0m \u001b[1;32mas\u001b[0m \u001b[0mf\u001b[0m\u001b[1;33m:\u001b[0m    \u001b[1;31m# json파일을 한번에 읽는다.\u001b[0m\u001b[1;33m\u001b[0m\u001b[1;33m\u001b[0m\u001b[0m\n\u001b[1;32m----> 2\u001b[1;33m     \u001b[0mpp\u001b[0m \u001b[1;33m=\u001b[0m \u001b[0mjson\u001b[0m\u001b[1;33m.\u001b[0m\u001b[0mload\u001b[0m\u001b[1;33m(\u001b[0m\u001b[0mf\u001b[0m\u001b[1;33m)\u001b[0m    \u001b[1;31m# 파일을 문자열로 바꿈\u001b[0m\u001b[1;33m\u001b[0m\u001b[1;33m\u001b[0m\u001b[0m\n\u001b[0m\u001b[0;32m      3\u001b[0m     \u001b[0mprint\u001b[0m\u001b[1;33m(\u001b[0m\u001b[0mpp\u001b[0m\u001b[1;33m,\u001b[0m \u001b[0mtype\u001b[0m\u001b[1;33m(\u001b[0m\u001b[0mpp\u001b[0m\u001b[1;33m)\u001b[0m\u001b[1;33m)\u001b[0m\u001b[1;33m\u001b[0m\u001b[1;33m\u001b[0m\u001b[0m\n",
      "\u001b[1;31mNameError\u001b[0m: name 'json' is not defined"
     ]
    }
   ],
   "source": [
    "with open('test.json', 'r') as f:    # json파일을 한번에 읽는다.\n",
    "    pp = json.load(f)    # 파일을 문자열로 바꿈\n",
    "    print(pp, type(pp))"
   ]
  },
  {
   "cell_type": "markdown",
   "id": "14406807-d671-41f2-9619-0a0e402559b7",
   "metadata": {},
   "source": [
    "# response 상태코드\n",
    "https://ko.wikipedia.org/wiki/HTTP_%EC%83%81%ED%83%9C_%EC%BD%94%EB%93%9C#4xx_(%EC%9A%94%EC%B2%AD_%EC%98%A4%EB%A5%98)"
   ]
  },
  {
   "cell_type": "code",
   "execution_count": 26,
   "id": "6720d209-e20c-44bc-ab9a-9bba8b73f3da",
   "metadata": {},
   "outputs": [
    {
     "name": "stdout",
     "output_type": "stream",
     "text": [
      "<class 'str'>\n"
     ]
    }
   ],
   "source": [
    "import requests\n",
    "import json\n",
    "\n",
    "response = requests.get('https://api.github.com')\n",
    "print(type(response.text))\n",
    "\n",
    "\n",
    "#if response.status_code == 200:      # response상태코드 확인하기 200번이면 성공 \n",
    "    #print(response.text)\n",
    "    #json_object = json.loads(response.text)\n",
    "    \n",
    "with open('text.json', 'a', encoding = 'utf-8') as trrt:\n",
    "    trrt.write(response.text)"
   ]
  },
  {
   "cell_type": "code",
   "execution_count": 127,
   "id": "3f9067b3-0d77-4a89-81ae-d0a8ac26a125",
   "metadata": {},
   "outputs": [],
   "source": [
    "import re"
   ]
  },
  {
   "cell_type": "code",
   "execution_count": 28,
   "id": "a34dc4eb-8973-4981-8d4f-aaabebaa0411",
   "metadata": {},
   "outputs": [
    {
     "name": "stdout",
     "output_type": "stream",
     "text": [
      "<class 're.Pattern'>\n",
      "<re.Match object; span=(0, 1), match='a'>\n",
      "<re.Match object; span=(0, 1), match='z'>\n",
      "None\n",
      "None\n"
     ]
    }
   ],
   "source": [
    "p = re.compile('[a-z]')   # [a '-' z ] -는 문자와 문자사이에 값들이다\n",
    "print(type(p))\n",
    "print(p.match('a'))  # match는 맨앞글자만 찾는다.\n",
    "print(p.match('z'))\n",
    "print(p.match('A'))\n",
    "print(p.match('B'))"
   ]
  },
  {
   "cell_type": "code",
   "execution_count": 29,
   "id": "827e234c-c28f-4bf6-a34f-2e8b84efdcb9",
   "metadata": {},
   "outputs": [
    {
     "name": "stdout",
     "output_type": "stream",
     "text": [
      "<re.Match object; span=(0, 3), match='a\\nb'>\n"
     ]
    }
   ],
   "source": [
    "#p = re.compile('a.b')     # 값을 찾지 못한다.\n",
    "p = re.compile('a.b', re.DOTALL)   # DOTALL을 쓰면 나온다\n",
    "\n",
    "print(p.match('a\\nb'))"
   ]
  },
  {
   "cell_type": "code",
   "execution_count": 30,
   "id": "e08e97f0-f5d2-4083-9bd5-e5b238b32bf9",
   "metadata": {},
   "outputs": [
    {
     "name": "stdout",
     "output_type": "stream",
     "text": [
      "<re.Match object; span=(0, 1), match='p'>\n",
      "<re.Match object; span=(0, 1), match='p'>\n",
      "<re.Match object; span=(0, 1), match='P'>\n"
     ]
    }
   ],
   "source": [
    "#p = re.compile('[a-z]') \n",
    "p = re.compile('[a-z]', re.I)   \n",
    "\n",
    "print(p.match('python'))\n",
    "print(p.match('pyThon'))\n",
    "print(p.match('PYTHON'))"
   ]
  },
  {
   "cell_type": "code",
   "execution_count": 31,
   "id": "a96055ae-d67e-4046-a56b-1c7f6bfedfb8",
   "metadata": {},
   "outputs": [
    {
     "name": "stdout",
     "output_type": "stream",
     "text": [
      "['python one', 'python two', 'python three']\n",
      "<re.Match object; span=(0, 10), match='python one'>\n"
     ]
    }
   ],
   "source": [
    "#q = re.compile('^python\\s\\w+')\n",
    "q = re.compile('^python\\s\\w+', re.MULTILINE)\n",
    "\n",
    "data = '''python one\n",
    "life is too short\n",
    "python two\n",
    "you need python\n",
    "python three'''\n",
    "\n",
    "print(q.findall(data))   \n",
    "print(q.match(data))    "
   ]
  },
  {
   "cell_type": "code",
   "execution_count": 41,
   "id": "1a3c8745-2187-4771-8891-0dd2bccf1a24",
   "metadata": {},
   "outputs": [
    {
     "name": "stdout",
     "output_type": "stream",
     "text": [
      "<re.Match object; span=(0, 5), match='aaaaa'>\n",
      "<re.Match object; span=(0, 8), match='bbbbbbbb'>\n",
      "None\n",
      "<re.Match object; span=(0, 3), match='aaa'>\n",
      "0\n",
      "4\n",
      "<re.Match object; span=(0, 5), match='aaaaa'>\n",
      "<re.Match object; span=(2, 7), match='aaaaa'>\n",
      "<re.Match object; span=(0, 3), match='aaa'>\n",
      "<re.Match object; span=(1, 4), match='aaa'>\n",
      "1\n",
      "4\n"
     ]
    }
   ],
   "source": [
    "w = re.compile('[a-z]+')\n",
    "\n",
    "print(w.match('aaaaa'))\n",
    "print(w.match('bbbbbbbb'))\n",
    "print(w.match('1aaaaa'))\n",
    "print(w.match('aaa1aaa'))\n",
    "\n",
    "x = w.match('baaa1aaa')\n",
    "print(x.start()) # 어디서 시작하는지  인덱스번호로 출력\n",
    "print(x.end())   # 어디서 끝나는지  인덱스번호로 출력\n",
    "\n",
    "print(w.search('aaaaa'))\n",
    "print(w.search('11aaaaa'))\n",
    "print(w.search('aaa11aaa')) \n",
    "print(w.search('1aaa11aaaa1'))\n",
    "z = w.search('1aaa11aaaa1')\n",
    "print(z.start())\n",
    "print(z.end())"
   ]
  },
  {
   "cell_type": "code",
   "execution_count": 47,
   "id": "938c40b3-f698-4214-8cdd-c1bc023002ea",
   "metadata": {},
   "outputs": [
    {
     "name": "stdout",
     "output_type": "stream",
     "text": [
      "['aaa']\n",
      "['aaa']\n",
      "['a', 'a', 'a', 'a', 'a']\n",
      "['aa', 'aaa', 'a', 'aa', 'aaa']\n",
      "<re.Match object; span=(2, 5), match='aaa'>\n",
      "<re.Match object; span=(6, 8), match='bb'>\n",
      "<re.Match object; span=(9, 11), match='cc'>\n"
     ]
    }
   ],
   "source": [
    "# findall은 리스트로 호출한다.\n",
    "print(w.findall('aaa'))\n",
    "print(w.findall('11aaa'))\n",
    "print(w.findall('1a1a1a1a1a'))\n",
    "print(w.findall('1aa1aaa1a1aa1aaa'))\n",
    "\n",
    "# finditerator  finditer은 match처럼 호출한다.\n",
    "iterator = w.finditer('11aaa1bb1cc')\n",
    "for i in iterator:\n",
    "    print(i)"
   ]
  },
  {
   "cell_type": "code",
   "execution_count": 116,
   "id": "fbde7a3b-575a-4b9c-ad57-e53b8fa8e073",
   "metadata": {},
   "outputs": [
    {
     "name": "stdout",
     "output_type": "stream",
     "text": [
      "['22', '33', '44', '21']\n",
      "['Janice', 'Theon', 'Gabriel', 'Joey']\n",
      "{'Janice': '22', 'Theon': '33', 'Gabriel': '44', 'Joey': '21'}\n"
     ]
    }
   ],
   "source": [
    "nameage = '''\n",
    "Janice is 22 and Theon is 33\n",
    "Gabriel is 44 and Joey is 21\n",
    "'''\n",
    "#r = re.compile('\\d{1,3}')\n",
    "#print(r.findall(nameage))   # 이렇게해도 되고 \n",
    "age = re.findall('\\d{1,3}', nameage)   # 이렇게 해도된다. 변수가 두개들어갈수있다.\n",
    "print(age)\n",
    "\n",
    "#n = re.compile('[A-Z][a-z]+')\n",
    "#print(n.findall(nameage))\n",
    "name = re.findall('[A-Z][a-z]+', nameage)\n",
    "print(name)\n",
    "\n",
    "\n",
    "myDict = {}        # findall은  리스트로 불러 온다.   list를 Dict로 변경 \n",
    "i = 0              #  list를 Dict로 변경 \n",
    "for s in name:\n",
    "    myDict[s] = age[i]\n",
    "    i = i + 1\n",
    "print(myDict)"
   ]
  },
  {
   "cell_type": "code",
   "execution_count": 207,
   "id": "f7d068c6-c6dd-4ff2-b207-745e0366d7d1",
   "metadata": {},
   "outputs": [],
   "source": [
    "phone_num = requests.get('http://www.summet.com/dmsi/html/codesamples/addresses.html')\n",
    "phone_num.text\n",
    "\n",
    "o = re.compile('\\(\\d{3}\\) \\d{3}-\\d{4}')\n",
    "#print(o.findall(phone_num.text))\n",
    "\n",
    "num = o.findall(phone_num.text)\n",
    "\n",
    "c = re.compile('\\d{5}')\n",
    "nu_m = c.findall(phone_num.text)\n",
    "\n",
    "\n",
    "\n",
    "with open('phone.txt','w', encoding = 'utf-8') as phoone:\n",
    "    for m in num:\n",
    "        phoone.write(m + '\\n')\n",
    "        \n",
    "with open('pyeoun.txt','w', encoding = 'utf-8') as addd:\n",
    "    for y in nu_m:\n",
    "        addd.write(y + '\\n')\n",
    "\n",
    "\n",
    "with open('phone_pyeoun.csv', 'w', encoding = 'utf-8') as ooopp:\n",
    "    a = 0\n",
    "    for y in nu_m:\n",
    "        ooopp.write( y + ',' + num[a] + '\\n')\n",
    "        a = a + 1\n"
   ]
  }
 ],
 "metadata": {
  "kernelspec": {
   "display_name": "Python 3 (ipykernel)",
   "language": "python",
   "name": "python3"
  },
  "language_info": {
   "codemirror_mode": {
    "name": "ipython",
    "version": 3
   },
   "file_extension": ".py",
   "mimetype": "text/x-python",
   "name": "python",
   "nbconvert_exporter": "python",
   "pygments_lexer": "ipython3",
   "version": "3.9.7"
  }
 },
 "nbformat": 4,
 "nbformat_minor": 5
}
