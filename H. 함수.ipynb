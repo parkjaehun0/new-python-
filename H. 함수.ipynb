{
 "cells": [
  {
   "cell_type": "code",
   "execution_count": 4,
   "id": "3c40cce8-01cc-484e-99f2-e9d550359780",
   "metadata": {
    "tags": []
   },
   "outputs": [],
   "source": [
    "# 함수\n",
    "# def 함수명([매개변수 = 초기값], ....):  [ ]은 생략가능하다는 표시\n",
    "#    수행할 문장\n",
    "#    수행할 문장\n",
    "# .....\n",
    "# [return값] 리턴값이 없으면 생략가능"
   ]
  },
  {
   "cell_type": "code",
   "execution_count": 1,
   "id": "1b34b5fe-0fea-4501-8ddb-b2bac4946b5a",
   "metadata": {},
   "outputs": [],
   "source": [
    "def my_function():\n",
    "    print('_' * 50)\n",
    "    print('my function')\n",
    "    print('_' * 50)"
   ]
  },
  {
   "cell_type": "code",
   "execution_count": 2,
   "id": "8604b687-2069-407f-b966-40d4ce4842de",
   "metadata": {},
   "outputs": [
    {
     "name": "stdout",
     "output_type": "stream",
     "text": [
      "__________________________________________________\n",
      "my function\n",
      "__________________________________________________\n",
      "__________________________________________________\n",
      "my function\n",
      "__________________________________________________\n",
      "함수호출 끝\n"
     ]
    }
   ],
   "source": [
    "my_function()\n",
    "my_function()\n",
    "print('함수호출 끝')"
   ]
  },
  {
   "cell_type": "code",
   "execution_count": 17,
   "id": "dd28a41c-f62b-47f2-8421-921956abc181",
   "metadata": {},
   "outputs": [],
   "source": [
    " def my_function(n, msg):\n",
    "        print('_' * n)\n",
    "        print(msg)\n",
    "        print('_' * n)"
   ]
  },
  {
   "cell_type": "code",
   "execution_count": 20,
   "id": "04d57646-a6e1-4640-8a11-d52d97bf8967",
   "metadata": {},
   "outputs": [
    {
     "name": "stdin",
     "output_type": "stream",
     "text": [
      " 11\n",
      " 11\n"
     ]
    },
    {
     "name": "stdout",
     "output_type": "stream",
     "text": [
      "___________\n",
      "11\n",
      "___________\n"
     ]
    }
   ],
   "source": [
    "x = int(input(''))\n",
    "msg = input('')\n",
    "my_function(x, msg)"
   ]
  },
  {
   "cell_type": "code",
   "execution_count": 41,
   "id": "44f7ef1b-ef97-4937-8210-f33c59c12e69",
   "metadata": {},
   "outputs": [],
   "source": [
    "def my_add(n, m):\n",
    "    print('합을 출력하겠습니다.')\n",
    "    print('%d + %d = %d' % (n,m,(n + m)))"
   ]
  },
  {
   "cell_type": "code",
   "execution_count": 43,
   "id": "18b5f9f7-1703-4825-bf04-006a9ea982d7",
   "metadata": {},
   "outputs": [
    {
     "name": "stdout",
     "output_type": "stream",
     "text": [
      "합을 출력하겠습니다.\n",
      "151 + 252 = 403\n"
     ]
    }
   ],
   "source": [
    "my_add(151, 252)"
   ]
  },
  {
   "cell_type": "markdown",
   "id": "5e15fb6c-9016-4988-acca-4ac4fc60b827",
   "metadata": {},
   "source": [
    "# 문제"
   ]
  },
  {
   "cell_type": "code",
   "execution_count": 57,
   "id": "947dd691-6b4d-47df-82f6-d9d08d19e067",
   "metadata": {},
   "outputs": [
    {
     "name": "stdin",
     "output_type": "stream",
     "text": [
      " 11\n",
      " 11\n"
     ]
    },
    {
     "name": "stdout",
     "output_type": "stream",
     "text": [
      "__________________________________________________\n",
      "덧셈\n",
      "11 + 11 = 22\n"
     ]
    }
   ],
   "source": [
    "def my_sum(q, w):\n",
    "    print('덧셈')\n",
    "    print('%d + %d = %d' % (q, w,(q + w)))\n",
    "\n",
    "q = int(input(''))\n",
    "w = int(input(''))\n",
    "\n",
    "print('_' * 50)\n",
    "\n",
    "my_sum(q, w)"
   ]
  },
  {
   "cell_type": "code",
   "execution_count": 75,
   "id": "02c822a6-ddf7-4f56-9932-5a58c3797d6d",
   "metadata": {},
   "outputs": [
    {
     "name": "stdin",
     "output_type": "stream",
     "text": [
      " 15\n",
      " 16\n"
     ]
    },
    {
     "name": "stdout",
     "output_type": "stream",
     "text": [
      "__________________________________________________\n",
      "뺄셈\n",
      "16 - 15 = 1\n"
     ]
    }
   ],
   "source": [
    "def my_bbe(q, w):\n",
    "    print('뺄셈')\n",
    "    if q >= w:\n",
    "        print('%d - %d = %d' % (q, w,(q - w)))\n",
    "    else:\n",
    "        print('%d - %d = %d' % (w, q,(w - q)))\n",
    "    \n",
    "q = int(input(''))\n",
    "w = int(input(''))\n",
    "\n",
    "print('_' * 50)\n",
    "\n",
    "my_bbe(q, w)"
   ]
  },
  {
   "cell_type": "code",
   "execution_count": 59,
   "id": "14e594c1-910e-4472-a8bb-ed656eb4f174",
   "metadata": {},
   "outputs": [
    {
     "name": "stdin",
     "output_type": "stream",
     "text": [
      " 11\n",
      " 11\n"
     ]
    },
    {
     "name": "stdout",
     "output_type": "stream",
     "text": [
      "__________________________________________________\n",
      "곱셈\n",
      "11 x 11 = 121\n"
     ]
    }
   ],
   "source": [
    "def my_gob(q, w):\n",
    "    print('곱셈')\n",
    "    print('%d x %d = %d' % (q, w,(q * w)))\n",
    "    \n",
    "q = int(input(''))\n",
    "w = int(input(''))\n",
    "\n",
    "print('_' * 50)\n",
    "\n",
    "my_gob(q, w)"
   ]
  },
  {
   "cell_type": "code",
   "execution_count": 72,
   "id": "a32aed75-012f-4572-b1a4-5542605b02ea",
   "metadata": {},
   "outputs": [
    {
     "name": "stdin",
     "output_type": "stream",
     "text": [
      " 15\n",
      " 150\n"
     ]
    },
    {
     "name": "stdout",
     "output_type": "stream",
     "text": [
      "__________________________________________________\n",
      "나눗셈\n",
      "150 / 15 = 10\n"
     ]
    }
   ],
   "source": [
    "def my_na(q, w):\n",
    "    print('나눗셈')\n",
    "    if q >= w:\n",
    "        print('%d / %d = %d' % (q, w,(q / w)))\n",
    "    else:\n",
    "        print('%d / %d = %d' % (w, q,(w / q)))\n",
    "    \n",
    "q = int(input(''))\n",
    "w = int(input(''))\n",
    "\n",
    "print('_' * 50)\n",
    "\n",
    "my_na(q, w)"
   ]
  },
  {
   "cell_type": "code",
   "execution_count": 122,
   "id": "2a5977a8-1f1c-4906-841f-02a43732e7f0",
   "metadata": {},
   "outputs": [],
   "source": [
    "def func_add(sdd):\n",
    "    aad = 0\n",
    "    for i in range(sdd+1):\n",
    "        aad = aad + i\n",
    "        print(aad)\n",
    "    print('_'*50)\n",
    "    print(aad)"
   ]
  },
  {
   "cell_type": "code",
   "execution_count": 123,
   "id": "74e1668a-2976-46f6-a8f5-b6ed91889509",
   "metadata": {},
   "outputs": [
    {
     "name": "stdin",
     "output_type": "stream",
     "text": [
      "숫자를 넣으세요 10\n"
     ]
    },
    {
     "name": "stdout",
     "output_type": "stream",
     "text": [
      "0\n",
      "1\n",
      "3\n",
      "6\n",
      "10\n",
      "15\n",
      "21\n",
      "28\n",
      "36\n",
      "45\n",
      "55\n",
      "__________________________________________________\n",
      "55\n"
     ]
    }
   ],
   "source": [
    "add = int(input('숫자를 넣으세요'))\n",
    "\n",
    "func_add(add)"
   ]
  },
  {
   "cell_type": "code",
   "execution_count": 130,
   "id": "00143813-656a-4996-ab1b-b2006cd34c50",
   "metadata": {},
   "outputs": [],
   "source": [
    "def list_func(klist):\n",
    "    m_ax = klist[0]\n",
    "    i = 0\n",
    "    for i in klist:\n",
    "        if i > m_ax:\n",
    "            m_ax = i\n",
    "    print('최대값은 %d 입니다' % m_ax)\n",
    "\n",
    "    m_in = klist[0]\n",
    "    j = 0\n",
    "    for j in klist:\n",
    "        if j < m_in:\n",
    "            m_in = j\n",
    "    print('최소값은 %d 입니다' % m_in)\n",
    "    "
   ]
  },
  {
   "cell_type": "code",
   "execution_count": 131,
   "id": "733d2438-b0ba-4d8c-ba87-970325cfdd0e",
   "metadata": {},
   "outputs": [
    {
     "name": "stdout",
     "output_type": "stream",
     "text": [
      "최대값은 654 입니다\n",
      "최소값은 50 입니다\n"
     ]
    }
   ],
   "source": [
    "llist = [50, 654, 159, 111, 554]\n",
    "list_func(llist)"
   ]
  },
  {
   "cell_type": "markdown",
   "id": "9cb358ad-8c2c-4fef-bd41-4464c3f0ffa1",
   "metadata": {},
   "source": [
    "# 리턴값"
   ]
  },
  {
   "cell_type": "code",
   "execution_count": 219,
   "id": "98296bdd-f868-410a-9e73-68bd2cd2ddc3",
   "metadata": {},
   "outputs": [],
   "source": [
    "def my_addd(a, b):\n",
    "    x = a + b\n",
    "    \n",
    "    \n",
    "    return x   # 리턴이 없으면 None이라고 뜸"
   ]
  },
  {
   "cell_type": "code",
   "execution_count": 220,
   "id": "143d1eaa-a2eb-4fcc-892b-7245ddf7baa2",
   "metadata": {},
   "outputs": [
    {
     "name": "stdout",
     "output_type": "stream",
     "text": [
      "30\n"
     ]
    }
   ],
   "source": [
    "y = my_addd(10, 20)\n",
    "print(y)"
   ]
  },
  {
   "cell_type": "code",
   "execution_count": 26,
   "id": "5c944b7a-ffaf-4ad7-851f-45fb0605c04c",
   "metadata": {},
   "outputs": [],
   "source": [
    "def evenodd(q):\n",
    "    if q % 2 == 0:\n",
    "        z = '짝수'\n",
    "    else:\n",
    "        z = '홀수'\n",
    "    \n",
    "    return z   "
   ]
  },
  {
   "cell_type": "code",
   "execution_count": 221,
   "id": "49e6f295-bf03-4cba-aa3a-e8fcc3f65564",
   "metadata": {},
   "outputs": [
    {
     "name": "stdout",
     "output_type": "stream",
     "text": [
      "홀수\n"
     ]
    }
   ],
   "source": [
    "z = evenodd(21)\n",
    "print(z)"
   ]
  },
  {
   "cell_type": "code",
   "execution_count": 29,
   "id": "5efec3f9-cd98-4cd6-80fd-4fa4624d5235",
   "metadata": {},
   "outputs": [],
   "source": [
    "def my_addsub(a, b):\n",
    "    s = a + b    \n",
    "    f = a - b\n",
    "    \n",
    "    return s, f"
   ]
  },
  {
   "cell_type": "code",
   "execution_count": 31,
   "id": "2ed7be25-9604-4bdd-882c-3c02207d6861",
   "metadata": {},
   "outputs": [
    {
     "name": "stdout",
     "output_type": "stream",
     "text": [
      "(15, 5) <class 'tuple'> 15 5\n"
     ]
    }
   ],
   "source": [
    "y = my_addsub(10, 5)\n",
    "print(y, type(y), y[0], y[1])"
   ]
  },
  {
   "cell_type": "code",
   "execution_count": 33,
   "id": "97454279-d411-4c84-a333-e9378ec918a8",
   "metadata": {},
   "outputs": [],
   "source": [
    "def circle_fuc(cir):\n",
    "    circ = 3.14 * (cir ** 2)\n",
    "    \n",
    "    return circ"
   ]
  },
  {
   "cell_type": "code",
   "execution_count": 34,
   "id": "0604dc3c-c303-4481-9504-aad8f6385eb1",
   "metadata": {},
   "outputs": [
    {
     "name": "stdin",
     "output_type": "stream",
     "text": [
      "원의 반지름 입력 10\n"
     ]
    },
    {
     "name": "stdout",
     "output_type": "stream",
     "text": [
      "314.0 <class 'float'>\n"
     ]
    }
   ],
   "source": [
    "cir = float(input('원의 반지름 입력'))\n",
    "\n",
    "circ = circle_fuc(cir)\n",
    "print(circ, type(circ))"
   ]
  },
  {
   "cell_type": "code",
   "execution_count": 50,
   "id": "b44bfa11-059b-4ad6-94ec-4b2180832232",
   "metadata": {},
   "outputs": [],
   "source": [
    "def my_family(*name):  # (*매개변수) 는 매개변수가 몇개 인지 모를 때? 많을때\n",
    "    # print(type(name), name)\n",
    "    for i in name:\n",
    "        print(i)\n",
    "    "
   ]
  },
  {
   "cell_type": "code",
   "execution_count": 51,
   "id": "d540d9ed-5639-4e24-9a22-efc933e01552",
   "metadata": {},
   "outputs": [
    {
     "name": "stdout",
     "output_type": "stream",
     "text": [
      "a\n",
      "b\n",
      "a\n",
      "['b', 'a']\n"
     ]
    }
   ],
   "source": [
    "my_family('a')\n",
    "my_family('b', 'a')\n",
    "my_family(['b', 'a'])"
   ]
  },
  {
   "cell_type": "code",
   "execution_count": 65,
   "id": "ff4c61a7-ae7b-4182-8897-a5af2788c0b6",
   "metadata": {},
   "outputs": [],
   "source": [
    "def my_fam(**name):   # ** = dict에 key:value를 불러온다.\n",
    "    # print(type(name))\n",
    "    print(name)\n",
    "    print(name['fname'])\n",
    "    print(name['lname'])"
   ]
  },
  {
   "cell_type": "code",
   "execution_count": 66,
   "id": "25f7be84-1c5e-441c-b5cc-c40e2447f8e9",
   "metadata": {},
   "outputs": [
    {
     "name": "stdout",
     "output_type": "stream",
     "text": [
      "{'fname': 'jaehun', 'lname': 'park'}\n",
      "jaehun\n",
      "park\n"
     ]
    }
   ],
   "source": [
    "my_fam(fname ='jaehun', lname ='park')"
   ]
  },
  {
   "cell_type": "code",
   "execution_count": 89,
   "id": "6b984f0c-78c4-43c3-9b70-d4f6d5b2fa77",
   "metadata": {},
   "outputs": [],
   "source": [
    "def random(*ran):\n",
    "    add = 0\n",
    "    \n",
    "    for r in ran:\n",
    "        add = add + r\n",
    "        \n",
    "    return add\n",
    "    "
   ]
  },
  {
   "cell_type": "code",
   "execution_count": 92,
   "id": "48e0f25d-ce46-4a6e-88b4-650aaa02a33d",
   "metadata": {},
   "outputs": [
    {
     "name": "stdout",
     "output_type": "stream",
     "text": [
      "30\n"
     ]
    }
   ],
   "source": [
    "add = random(1, 2, 3, 9, 15)\n",
    "print(add)"
   ]
  },
  {
   "cell_type": "code",
   "execution_count": 103,
   "id": "8e3251b4-06db-44cf-a7dc-7bdb205d885f",
   "metadata": {},
   "outputs": [],
   "source": [
    "def my_country(state, country = 'Korea'):   # 매개변수에 기본값을 줄 수 있다. 호출 할때 my_country() 하면 기본값인 코리아가 뜨고 \n",
    "    print(state, country)                   # my_country('USA')를 주면 기본값이 아닌 호출한 값이 뜬다.  ( 기본값이 있는 매개변수는 순서중 제일 마지막에 써준다.)"
   ]
  },
  {
   "cell_type": "code",
   "execution_count": 105,
   "id": "418f352b-6144-444c-a15d-8836d439bf58",
   "metadata": {},
   "outputs": [
    {
     "name": "stdout",
     "output_type": "stream",
     "text": [
      "SEOUL Korea\n",
      "GAJA USA\n"
     ]
    }
   ],
   "source": [
    " # my_country()  error. state의 값이 없어서\n",
    "my_country('SEOUL')            # state = SEOUL 이고 매개변수가 두개이므로 하나 남은 기본값인 'KOREA'가 뜬다.\n",
    "my_country('GAJA', 'USA')      # 값 두개를 넣어주면 값 두개를 호출."
   ]
  },
  {
   "cell_type": "code",
   "execution_count": 171,
   "id": "c07c92e4-b88f-459c-a566-0e7d97bcf674",
   "metadata": {},
   "outputs": [],
   "source": [
    "def add_sum(l_ist):\n",
    "    plus = 0\n",
    "    for i in l_ist:\n",
    "        plus = plus + i\n",
    "        \n",
    "    \n",
    "    \n",
    "    return plus"
   ]
  },
  {
   "cell_type": "code",
   "execution_count": 174,
   "id": "ae5914b1-a986-4073-9a46-3f105a037621",
   "metadata": {},
   "outputs": [
    {
     "name": "stdin",
     "output_type": "stream",
     "text": [
      "숫자입력 5\n",
      "원하는숫자 12\n",
      "원하는숫자 11\n",
      "원하는숫자 3\n",
      "원하는숫자 2\n",
      "원하는숫자 1\n"
     ]
    },
    {
     "name": "stdout",
     "output_type": "stream",
     "text": [
      "29\n",
      "[12, 11, 3, 2, 1]\n"
     ]
    }
   ],
   "source": [
    "sdd = int(input('숫자입력'))\n",
    "d = 0\n",
    "empty_li = []\n",
    "for i in range(sdd):\n",
    "    dss = int(input('원하는숫자'))\n",
    "    empty_li.append(dss)\n",
    "\n",
    "plus = add_sum(empty_li)\n",
    "print(plus)\n",
    "print(empty_li)"
   ]
  },
  {
   "cell_type": "code",
   "execution_count": 176,
   "id": "6781548a-bda8-4f94-b8b5-117bd2e4f932",
   "metadata": {},
   "outputs": [],
   "source": [
    "def sssum_fu(ll_ist):\n",
    "    lol = 0\n",
    "    for i in ll_ist:\n",
    "        lol = lol + i\n",
    "            \n",
    "    return lol"
   ]
  },
  {
   "cell_type": "code",
   "execution_count": 181,
   "id": "9df1df6f-afc7-4905-bded-e7f9ce04171f",
   "metadata": {},
   "outputs": [
    {
     "name": "stdin",
     "output_type": "stream",
     "text": [
      "넣고 싶은 숫자 개수 입력 3\n",
      "숫자 입력 3\n",
      "숫자 입력 4\n",
      "숫자 입력 7\n"
     ]
    },
    {
     "name": "stdout",
     "output_type": "stream",
     "text": [
      "14\n",
      "[3, 4, 7] <class 'list'>\n"
     ]
    }
   ],
   "source": [
    "sos = int(input('넣고 싶은 숫자 개수 입력'))\n",
    "empty_li = []\n",
    "\n",
    "for j in range(sos):\n",
    "    pop = int(input('숫자 입력'))\n",
    "    empty_li.append(pop)\n",
    "lol = sssum_fu(empty_li)\n",
    "\n",
    "print(lol)\n",
    "print(empty_li, type(empty_li))"
   ]
  },
  {
   "cell_type": "code",
   "execution_count": 187,
   "id": "a3f63558-ce77-4db5-a5fc-e0f13df062a2",
   "metadata": {},
   "outputs": [],
   "source": [
    "def susu_sum(want):\n",
    "    sim = 0\n",
    "    for i in range(want):\n",
    "        som = int(input('원하는 숫자:'))\n",
    "        sim = sim + som\n",
    "        \n",
    "    return sim    \n",
    "        \n",
    "        "
   ]
  },
  {
   "cell_type": "code",
   "execution_count": 188,
   "id": "e3684ac5-4559-4db4-a5f0-7e74e0403fa7",
   "metadata": {},
   "outputs": [
    {
     "name": "stdin",
     "output_type": "stream",
     "text": [
      "몇번 돌릴지 입력 5\n",
      "원하는 숫자: 22\n",
      "원하는 숫자: 22\n",
      "원하는 숫자: 22\n",
      "원하는 숫자: 22\n",
      "원하는 숫자: 22\n"
     ]
    },
    {
     "name": "stdout",
     "output_type": "stream",
     "text": [
      "110\n"
     ]
    }
   ],
   "source": [
    "want = int(input('몇번 돌릴지 입력'))\n",
    "\n",
    "sim = susu_sum(want)\n",
    "print(sim)"
   ]
  },
  {
   "cell_type": "code",
   "execution_count": 190,
   "id": "d1725138-8d96-4c8d-9d91-fff76972fa41",
   "metadata": {},
   "outputs": [],
   "source": [
    "def siim_li(ada):\n",
    "    mom = 0\n",
    "    for i in ada:\n",
    "        mom = mom + i\n",
    "        \n",
    "    return mom"
   ]
  },
  {
   "cell_type": "code",
   "execution_count": 203,
   "id": "b713187b-dd6e-4b46-824f-2280a43b6687",
   "metadata": {},
   "outputs": [],
   "source": [
    "def soom_fu(jant):\n",
    "    jam = []\n",
    "    for i in range(jant):\n",
    "        odo = int(input('더할 값들'))\n",
    "        jam.append(odo)\n",
    "        \n",
    "    return jam"
   ]
  },
  {
   "cell_type": "code",
   "execution_count": 218,
   "id": "9c8f0d18-e9b5-45c2-8737-2345b8eda01e",
   "metadata": {},
   "outputs": [
    {
     "name": "stdin",
     "output_type": "stream",
     "text": [
      "숫자입력: 4\n",
      "더할 값들 1\n",
      "더할 값들 1\n",
      "더할 값들 1\n",
      "더할 값들 1\n"
     ]
    },
    {
     "name": "stdout",
     "output_type": "stream",
     "text": [
      "4\n"
     ]
    }
   ],
   "source": [
    "jant = int(input('숫자입력:'))\n",
    "\n",
    "\n",
    "jam = soom_fu(jant)\n",
    "mom = siim_li(jam)\n",
    "print(mom)"
   ]
  },
  {
   "cell_type": "code",
   "execution_count": 216,
   "id": "6ec3e7dc-0f11-4e07-997f-025d81ff8f4e",
   "metadata": {},
   "outputs": [
    {
     "name": "stdout",
     "output_type": "stream",
     "text": [
      "3\n"
     ]
    }
   ],
   "source": [
    "p = sum([1,2])\n",
    "print(p)"
   ]
  },
  {
   "cell_type": "code",
   "execution_count": 217,
   "id": "51a3962c-6add-4401-8ce5-53e290b37a2c",
   "metadata": {},
   "outputs": [
    {
     "data": {
      "text/plain": [
       "27"
      ]
     },
     "execution_count": 217,
     "metadata": {},
     "output_type": "execute_result"
    }
   ],
   "source": [
    "pow(3,3)"
   ]
  },
  {
   "cell_type": "code",
   "execution_count": null,
   "id": "a3d16d1c-4f10-4a18-899d-57512efe44a4",
   "metadata": {},
   "outputs": [],
   "source": []
  }
 ],
 "metadata": {
  "kernelspec": {
   "display_name": "Python 3 (ipykernel)",
   "language": "python",
   "name": "python3"
  },
  "language_info": {
   "codemirror_mode": {
    "name": "ipython",
    "version": 3
   },
   "file_extension": ".py",
   "mimetype": "text/x-python",
   "name": "python",
   "nbconvert_exporter": "python",
   "pygments_lexer": "ipython3",
   "version": "3.9.7"
  }
 },
 "nbformat": 4,
 "nbformat_minor": 5
}
