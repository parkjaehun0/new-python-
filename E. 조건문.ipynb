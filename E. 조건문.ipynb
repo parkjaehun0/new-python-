{
 "cells": [
  {
   "cell_type": "code",
   "execution_count": 32,
   "id": "d7c40657-3954-451c-8cf5-426ca028212c",
   "metadata": {},
   "outputs": [
    {
     "name": "stdout",
     "output_type": "stream",
     "text": [
      "성인입니다\n",
      "당신은 25 입니다.\n",
      "__________________________________________________\n"
     ]
    },
    {
     "name": "stdin",
     "output_type": "stream",
     "text": [
      "당신의 나이를 입력하세요 55\n"
     ]
    },
    {
     "name": "stdout",
     "output_type": "stream",
     "text": [
      "당신은 성인입니다\n",
      "__________________________________________________\n"
     ]
    },
    {
     "name": "stdin",
     "output_type": "stream",
     "text": [
      "나이를 입력하세여 55\n"
     ]
    },
    {
     "name": "stdout",
     "output_type": "stream",
     "text": [
      "불혹이 지났습니다.\n"
     ]
    }
   ],
   "source": [
    "age = 25\n",
    "if age >= 20:\n",
    "    print('성인입니다')\n",
    "    print('당신은 %d 입니다.' % age)\n",
    "\n",
    "print('_'*50)\n",
    "agee = int(input('당신의 나이를 입력하세요'))    \n",
    "if agee >= 20:\n",
    "        print('당신은 성인입니다')\n",
    "else:\n",
    "    print('당신은 민짜입니다.')\n",
    "\n",
    "print('_'*50)\n",
    "ag_e = int(input('나이를 입력하세여'))\n",
    "if ag_e >= 61:\n",
    "    print('환갑이 지났습니다')\n",
    "elif ag_e >= 40:\n",
    "    print('불혹이 지났습니다.')\n",
    "elif ag_e >= 20:\n",
    "    print('아직 젊습니다.')\n",
    "else:\n",
    "    print('어립니다')\n",
    "    "
   ]
  },
  {
   "cell_type": "code",
   "execution_count": 37,
   "id": "d99ef2d4-f28b-4f12-95b5-92c9390f3516",
   "metadata": {},
   "outputs": [
    {
     "name": "stdin",
     "output_type": "stream",
     "text": [
      "당신의 점수를 입력하세요 11\n"
     ]
    },
    {
     "name": "stdout",
     "output_type": "stream",
     "text": [
      "F\n"
     ]
    }
   ],
   "source": [
    "jumsu = int(input('당신의 점수를 입력하세요'))\n",
    "\n",
    "if jumsu >= 90:\n",
    "            print('A')\n",
    "elif jumsu >= 80:\n",
    "            print('B')\n",
    "elif jumsu >= 70:\n",
    "            print('C')\n",
    "elif jumsu >= 60:\n",
    "            print('D')\n",
    "else:\n",
    "            print('F')"
   ]
  },
  {
   "cell_type": "code",
   "execution_count": 53,
   "id": "9fedc47f-559b-4e7d-bfb6-61c467de102d",
   "metadata": {},
   "outputs": [
    {
     "name": "stdin",
     "output_type": "stream",
     "text": [
      "홀~짝 1\n"
     ]
    },
    {
     "name": "stdout",
     "output_type": "stream",
     "text": [
      "홀수\n"
     ]
    }
   ],
   "source": [
    "number = int(input('홀~짝'))\n",
    "\n",
    "if number % 2 == 0:\n",
    "             print('짝수')\n",
    "else:\n",
    "    print('홀수')"
   ]
  },
  {
   "cell_type": "code",
   "execution_count": 56,
   "id": "9066c449-b474-4ec9-9d5b-5a3d4d3d7ab5",
   "metadata": {},
   "outputs": [
    {
     "name": "stdout",
     "output_type": "stream",
     "text": [
      "음수\n"
     ]
    }
   ],
   "source": [
    "num = -5\n",
    "\n",
    "if num > 0:\n",
    "    if num % 2 == 0:\n",
    "        print('짝수')\n",
    "    else:\n",
    "        print('홀수')\n",
    "            \n",
    "else:\n",
    "    print('음수')"
   ]
  },
  {
   "cell_type": "code",
   "execution_count": null,
   "id": "a821849b-7376-4cd5-82a3-29cd03b3748d",
   "metadata": {},
   "outputs": [],
   "source": []
  }
 ],
 "metadata": {
  "kernelspec": {
   "display_name": "Python 3 (ipykernel)",
   "language": "python",
   "name": "python3"
  },
  "language_info": {
   "codemirror_mode": {
    "name": "ipython",
    "version": 3
   },
   "file_extension": ".py",
   "mimetype": "text/x-python",
   "name": "python",
   "nbconvert_exporter": "python",
   "pygments_lexer": "ipython3",
   "version": "3.9.7"
  }
 },
 "nbformat": 4,
 "nbformat_minor": 5
}
