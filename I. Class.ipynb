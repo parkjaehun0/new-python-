{
 "cells": [
  {
   "cell_type": "code",
   "execution_count": 12,
   "id": "b8fbd8ed-9f42-49b3-bd95-5b6a5324dbbe",
   "metadata": {},
   "outputs": [],
   "source": [
    "class Car():\n",
    "    id = '1234'\n",
    "    name = 'bmw'\n",
    "    speed = 100"
   ]
  },
  {
   "cell_type": "code",
   "execution_count": 14,
   "id": "a47f276e-5ebe-4e31-8a9f-decf5974f56a",
   "metadata": {},
   "outputs": [
    {
     "name": "stdout",
     "output_type": "stream",
     "text": [
      "20 bmw 100\n",
      "1234 Volvo 100\n"
     ]
    }
   ],
   "source": [
    "c1 = Car()    # 객체 생성 객체는 여러개 생성가능\n",
    "c2 = Car()  \n",
    "\n",
    "# print(id, name, speed) 클래스는 print로 불러올수 없다.\n",
    "\n",
    "c1.id = '20'    # 이러면 값이 변경됨\n",
    "c2.name = 'Volvo'\n",
    "print(c1.id, c1.name, c1.speed)\n",
    "print(c2.id, c2.name, c2.speed)"
   ]
  },
  {
   "cell_type": "code",
   "execution_count": 42,
   "id": "2fdd3005-e1f7-4518-85eb-bc47f1f3facf",
   "metadata": {},
   "outputs": [
    {
     "name": "stdout",
     "output_type": "stream",
     "text": [
      "jaehun 51\n",
      "jaehun 51\n"
     ]
    }
   ],
   "source": [
    "class Person():\n",
    "    name = 'Park'\n",
    "    age = 23\n",
    "    \n",
    "    def __init__(self, name, age) : \n",
    "        self.name = name\n",
    "        self.age = age\n",
    "        \n",
    "    def my_print(self):\n",
    "        print(self.name, self.age)\n",
    "        \n",
    "        \n",
    "        \n",
    "p1 = Person('jaehun', 51)\n",
    "\n",
    "print(p1.name, p1.age)\n",
    "p1.my_print()"
   ]
  },
  {
   "cell_type": "code",
   "execution_count": 51,
   "id": "1be390e4-e332-4121-9335-7ad8afe29895",
   "metadata": {},
   "outputs": [
    {
     "name": "stdout",
     "output_type": "stream",
     "text": [
      "5555 volvo 100\n",
      "5555 volvo\n",
      "4444 bmw\n",
      "<class '__main__.Car'>\n",
      "5555 volvo\n",
      "4444 bmw <class 'str'>\n",
      "5555\n"
     ]
    }
   ],
   "source": [
    "class Car():\n",
    "    id = '1234'\n",
    "    name = 'bmw'\n",
    "    speed = 100\n",
    "    \n",
    "    def __init__(self, id, name) :  # 생성자 (초기화 함수)\n",
    "        self.id = id\n",
    "        self.name = name\n",
    "        \n",
    "    def my_print(self):   # self 는 함수.\n",
    "        print(self.id, self.name)\n",
    "\n",
    "    def get_id(self):\n",
    "        return self.id\n",
    "    def get_name(self):\n",
    "        return self.name\n",
    "\n",
    "c1 = Car('5555', 'volvo')      # 위에서 초기화 되었으니 객체에 값설정을 다시해줘야한다.\n",
    "c2 = Car('4444', 'bmw')\n",
    "print(c1.id, c1.name, c1.speed)\n",
    "\n",
    "c1.my_print()\n",
    "c2.my_print()\n",
    "print(type(c1))\n",
    "\n",
    "\n",
    "f = c1.get_id()\n",
    "s = c1.get_name()\n",
    "print(f, s)\n",
    "g = c2.get_id()\n",
    "d = c2.get_name()\n",
    "print(g, d,type(g))\n",
    "\n",
    "\n",
    "cars = [c1, c2]      # 객체는 리스트에 들어간다.\n",
    "w = cars[0].get_id()   # 카타입이여서 함수가 가능하다.\n",
    "print(w)"
   ]
  },
  {
   "cell_type": "code",
   "execution_count": 92,
   "id": "c1d48afd-5bd7-4b1d-b99b-b6f811fe0edf",
   "metadata": {},
   "outputs": [
    {
     "name": "stdout",
     "output_type": "stream",
     "text": [
      "박재훈 98 6 6\n",
      "110\n"
     ]
    }
   ],
   "source": [
    "class Smdent(): # 한명의 국 영 수 합계 구하기\n",
    "    name = ''\n",
    "    kor = 1\n",
    "    eng = 2\n",
    "    math = 3\n",
    "    \n",
    "    def __init__(self, name, kor, eng, math):\n",
    "        self.name = name\n",
    "        self.kor = kor\n",
    "        self.eng = eng\n",
    "        self.math = math\n",
    "        \n",
    "    def get_name(self):\n",
    "        return self.name\n",
    "    def get_kor(self):\n",
    "        return self.kor\n",
    "    def get_eng(self):\n",
    "        return self.eng\n",
    "    def get_math(self):\n",
    "        return self.math\n",
    "    def get_sum(self):\n",
    "        su_m  = self.kor + self.eng + self.math\n",
    "        \n",
    "        return su_m\n",
    "    \n",
    "    \n",
    "    \n",
    "Sm1 = Smdent('박재훈', 98, 6, 6)\n",
    "\n",
    "qoo = Sm1.get_name()\n",
    "woo = Sm1.get_kor()\n",
    "eoo = Sm1.get_eng()\n",
    "roo = Sm1.get_math()\n",
    "su_m =Sm1.get_sum()\n",
    "print(qoo, woo, eoo, roo)  \n",
    "print(su_m)\n"
   ]
  },
  {
   "cell_type": "code",
   "execution_count": 107,
   "id": "264e8069-2c15-44ae-804e-99fee50fc84f",
   "metadata": {},
   "outputs": [],
   "source": [
    "class Smdent():    # 5섯명의 점수 개별 총합 구하기\n",
    "    def __init__(self, name, kor, eng, math):\n",
    "        self.name = name\n",
    "        self.kor = kor\n",
    "        self.eng = eng\n",
    "        self.math = math\n",
    "        \n",
    "    def get_name(self):\n",
    "        return self.name\n",
    "    def get_kor(self):\n",
    "        return self.kor\n",
    "    def get_eng(self):\n",
    "        return self.eng\n",
    "    def get_math(self):\n",
    "        return self.math\n",
    "    def get_sum(self):\n",
    "        su_m = self.kor + self.eng + self.math\n",
    "        \n",
    "        return su_m\n",
    "    \n",
    " "
   ]
  },
  {
   "cell_type": "code",
   "execution_count": 108,
   "id": "e393d6f8-71c3-46ab-a3a9-eb2575e54c70",
   "metadata": {},
   "outputs": [
    {
     "name": "stdin",
     "output_type": "stream",
     "text": [
      "  2\n",
      "이름입력: 박재\n",
      "국: 1\n",
      "영: 2\n",
      "수: 3\n",
      "이름입력: 훈\n",
      "국: 5\n",
      "영: 1\n",
      "수: 1\n"
     ]
    },
    {
     "name": "stdout",
     "output_type": "stream",
     "text": [
      "박재의 총 점은 6 입니다\n",
      "훈의 총 점은 7 입니다\n"
     ]
    }
   ],
   "source": [
    "empty = []\n",
    "aa = int(input(' '))\n",
    "for i in range(aa):\n",
    "    name = input('이름입력:')\n",
    "    kor = int(input('국:'))\n",
    "    eng = int(input('영:'))\n",
    "    math = int(input('수:'))\n",
    "    oio = Smdent(name, kor, eng, math)\n",
    "    empty.append(oio)\n",
    "\n",
    "kkor = 0\n",
    "eeng = 0\n",
    "mmath = 0\n",
    "for j in empty:\n",
    "    print('%s의 총 점은 %d 입니다' % (j.get_name(), j.get_sum()))  # .get~~는 함수로 만들었을때만  () 쓰기!!\n",
    "    \n",
    "    \n",
    "    \n",
    "    "
   ]
  },
  {
   "cell_type": "code",
   "execution_count": 42,
   "id": "8a047019-32f6-4733-aa26-ed618704b81d",
   "metadata": {},
   "outputs": [],
   "source": [
    "class Account:\n",
    "    account_cnt = 0\n",
    "    \n",
    "    def __init__(self, num):  # 생성자\n",
    "        self.__num = num    # self.__ << 로 쓰면 다른 곳에서는 불러오는것이 불가능하다 \n",
    "        self.__balance = 0\n",
    "        Account.account_cnt = Account.account_cnt + 1\n",
    "        \n",
    "        \n",
    "    def get_num(self):      # get 함수를 쓰면 다른 곳에서 불러 오는 것이 가능하다.\n",
    "        return self.__num     # self.__ << 작성하면 __ 을 꼭 같이 붙여줘야한다.\n",
    "    def get_balance(self):\n",
    "        return self.__balance\n",
    "    \n",
    "    def set_num(self, num):  # set함수는 외부값을 주면 내부에 설정한다.\n",
    "        self.__num = num\n",
    "    def set_balance(self, balance):\n",
    "        self.__balance = balance\n",
    "        \n",
    "    # 입금\n",
    "    def deposit(self, money):\n",
    "        self.__balance = self.__balance + money\n",
    "        \n",
    "    #출금\n",
    "    def withdraw(self, won):\n",
    "        if self.__balance - won < 0:\n",
    "            print('잔액이 부족합니다')\n",
    "        else:\n",
    "            self.__balance = self.__balance - won\n",
    "        \n",
    "    # 정보출력\n",
    "    def print_info(self):\n",
    "        print('User%d의 잔액 %d 원' % (self.__num, self.__balance))\n",
    "        \n",
    "        \n",
    "    # 계좌 개수 출력\n",
    "    @classmethod\n",
    "    def print_account_cnt(cls):\n",
    "        print(cls.account_cnt)\n",
    "        \n",
    "    # 송금\n",
    "    def transfer(self, money, other):\n",
    "        if self.__balance - money < 0:\n",
    "            print('잔액부족')\n",
    "        else:\n",
    "            self.__balance = self.__balance - money\n",
    "            other.set_balance(other.get_balance() + money)\n",
    "        \n",
    "        \n",
    "        \n",
    "        "
   ]
  },
  {
   "cell_type": "code",
   "execution_count": 23,
   "id": "438262a5-98a5-41ac-be0f-d87bf0ee9c09",
   "metadata": {},
   "outputs": [],
   "source": [
    "# Function"
   ]
  },
  {
   "cell_type": "code",
   "execution_count": 44,
   "id": "cea233bb-6084-4fc6-a411-d73f1f6e2e2c",
   "metadata": {},
   "outputs": [
    {
     "name": "stdout",
     "output_type": "stream",
     "text": [
      "1 0\n",
      "2 0\n",
      "_____________입 금_____________\n",
      "100\n",
      "____________잔액알림___________\n",
      "User1의 잔액 500 원\n",
      "_____________출 금_____________\n",
      "____________잔액알림___________\n",
      "User1의 잔액 250 원\n",
      "User2의 잔액 0 원\n",
      "____________계좌개수___________\n",
      "4\n",
      "_____________송 금_____________\n",
      "잔액부족\n",
      "User1의 잔액 250 원\n",
      "User2의 잔액 0 원\n"
     ]
    }
   ],
   "source": [
    "# Main\n",
    "user1 = Account(1)\n",
    "user2 = Account(2)\n",
    "\n",
    "print(user1.get_num(), user1.get_balance())\n",
    "print(user2.get_num(), user2.get_balance())\n",
    "\n",
    "print('_____________입 금_____________')\n",
    "user1.deposit(100)\n",
    "print(user1.get_balance())\n",
    "user1.deposit(400)\n",
    "\n",
    "user2.deposit(100)\n",
    "print('____________잔액알림___________')   # 리턴값이 없으면 print() 안에 쓰지않는다.\n",
    "user1.print_info()\n",
    "\n",
    "\n",
    "print('_____________출 금_____________')\n",
    "user1.withdraw(50)\n",
    "\n",
    "user1.withdraw(200)\n",
    "user2.withdraw(100)\n",
    "\n",
    "print('____________잔액알림___________')   \n",
    "user1.print_info()\n",
    "user2.print_info()\n",
    "\n",
    "print('____________계좌개수___________') \n",
    "Account.print_account_cnt()\n",
    "\n",
    "print('_____________송 금_____________')\n",
    " \n",
    "user1.transfer(500, user2)\n",
    "\n"
   ]
  },
  {
   "cell_type": "markdown",
   "id": "af0c01e9-8d78-4701-9d4d-0c78bdc5c5a8",
   "metadata": {},
   "source": [
    "input으로 계좌개설하기 입금하기 송금하기 출금하기 만들기<<\n"
   ]
  },
  {
   "cell_type": "code",
   "execution_count": 224,
   "id": "7c0a94b6-6449-47a7-9006-a0ca9ddf503e",
   "metadata": {},
   "outputs": [],
   "source": [
    "class Rectangle:\n",
    "    \n",
    "    def __init__(self, garo, sero):\n",
    "        self.__garo = garo\n",
    "        self.__sero = sero\n",
    "        \n",
    "        \n",
    "    def get_garo(self):     # 내부에 있는걸 외부로\n",
    "        return self.__garo\n",
    "    def set_garo(self):    # 외부에 있는걸 내부로\n",
    "        self.__garo = garo\n",
    "        \n",
    "    def get_sero(self): \n",
    "        return self.__sero\n",
    "    def set_sero(self):\n",
    "        self.__sero = sero\n",
    "        \n",
    "        \n",
    "    def doolle(self):\n",
    "        return 2 * (self.__garo + self.__sero) \n",
    "        \n",
    "    def nulbi(self):\n",
    "        return self.__garo * self.__sero\n",
    "    \n",
    "    def __str__(self):\n",
    "        return '가로 : %d '% self.__garo \n",
    "    \n",
    "    def __eq__(self, other_rect):   # 같은것을 구하는것 == <<\n",
    "        return self.nulbi() == other_rect.nulbi()\n",
    "    \n",
    "    def __gt__(self, other_rect):     # 크다 >   # __ge__ >= , __le__ >=\n",
    "        return self.get_garo() > other_rect.get_garo()"
   ]
  },
  {
   "cell_type": "code",
   "execution_count": 226,
   "id": "b5684e12-6aac-44fe-9536-e20b0343fa54",
   "metadata": {},
   "outputs": [
    {
     "name": "stdout",
     "output_type": "stream",
     "text": [
      "20\n",
      "21\n",
      "가로 : 7 \n",
      "[<__main__.Rectangle object at 0x00000233999CCC70>, <__main__.Rectangle object at 0x00000233999CCAF0>, <__main__.Rectangle object at 0x00000233999CCCA0>, <__main__.Rectangle object at 0x00000233999CCA00>, <__main__.Rectangle object at 0x00000233999CC880>]\n",
      "21\n",
      "15\n",
      "21\n",
      "21\n",
      "21\n",
      "False\n",
      "True\n"
     ]
    }
   ],
   "source": [
    "rect_list = []\n",
    "\n",
    "r1 = Rectangle(7,3)\n",
    "r2 = Rectangle(5,3)\n",
    "r3 = Rectangle(7,3)\n",
    "r4 = Rectangle(7,3)\n",
    "r5 = Rectangle(7,3)\n",
    "\n",
    "print(r1.doolle())\n",
    "print(r1.nulbi())\n",
    "\n",
    "rect_list.append(r1)\n",
    "rect_list.append(r2)\n",
    "rect_list.append(r3)\n",
    "rect_list.append(r4)\n",
    "rect_list.append(r5)\n",
    "\n",
    "print(r1)\n",
    "print(rect_list)\n",
    "\n",
    "for r in rect_list :\n",
    "    print(r.nulbi())\n",
    "\n",
    "print(r1 == r2)\n",
    "print(r1 > r2)"
   ]
  },
  {
   "cell_type": "code",
   "execution_count": null,
   "id": "da797559-2200-42be-9f26-60d7c5d9568c",
   "metadata": {},
   "outputs": [],
   "source": []
  },
  {
   "cell_type": "code",
   "execution_count": null,
   "id": "dab5e2a3-f3ee-4609-afff-0f5433610344",
   "metadata": {},
   "outputs": [],
   "source": []
  },
  {
   "cell_type": "code",
   "execution_count": null,
   "id": "4efb28ba-2c9c-48c8-9edf-45b86a429edb",
   "metadata": {},
   "outputs": [],
   "source": []
  }
 ],
 "metadata": {
  "kernelspec": {
   "display_name": "Python 3 (ipykernel)",
   "language": "python",
   "name": "python3"
  },
  "language_info": {
   "codemirror_mode": {
    "name": "ipython",
    "version": 3
   },
   "file_extension": ".py",
   "mimetype": "text/x-python",
   "name": "python",
   "nbconvert_exporter": "python",
   "pygments_lexer": "ipython3",
   "version": "3.9.7"
  }
 },
 "nbformat": 4,
 "nbformat_minor": 5
}
