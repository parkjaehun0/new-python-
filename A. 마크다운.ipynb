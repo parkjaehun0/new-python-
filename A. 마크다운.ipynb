{
 "cells": [
  {
   "cell_type": "markdown",
   "id": "f577202c-8db6-443e-86a0-fa62fced92ac",
   "metadata": {
    "tags": []
   },
   "source": [
    "# 첫번째 파이썬\n",
    "## 첫번째 파이썬\n",
    "### 첫번째 파이썬\n",
    "###### 첫번째 파이썬\n",
    "**첫번째** 첫번째 "
   ]
  },
  {
   "cell_type": "markdown",
   "id": "3b9e26b0-9322-40e0-a7a9-fbedbb775694",
   "metadata": {},
   "source": [
    "<u>가나</u> 다라"
   ]
  },
  {
   "cell_type": "code",
   "execution_count": 22,
   "id": "ca63ca0a-6821-4775-a046-a4f93cc971f8",
   "metadata": {},
   "outputs": [
    {
     "name": "stdout",
     "output_type": "stream",
     "text": [
      "Banana\n"
     ]
    }
   ],
   "source": [
    "print('Banana')"
   ]
  },
  {
   "cell_type": "code",
   "execution_count": null,
   "id": "15c1745b-da4f-45ce-96b4-39054cb46502",
   "metadata": {},
   "outputs": [],
   "source": []
  }
 ],
 "metadata": {
  "kernelspec": {
   "display_name": "Python 3 (ipykernel)",
   "language": "python",
   "name": "python3"
  },
  "language_info": {
   "codemirror_mode": {
    "name": "ipython",
    "version": 3
   },
   "file_extension": ".py",
   "mimetype": "text/x-python",
   "name": "python",
   "nbconvert_exporter": "python",
   "pygments_lexer": "ipython3",
   "version": "3.9.7"
  }
 },
 "nbformat": 4,
 "nbformat_minor": 5
}
