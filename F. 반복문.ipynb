{
 "cells": [
  {
   "cell_type": "code",
   "execution_count": 14,
   "id": "95611000-9eb0-48e9-930b-a8b48554f350",
   "metadata": {},
   "outputs": [
    {
     "name": "stdout",
     "output_type": "stream",
     "text": [
      "1\n",
      "hello1\n",
      "2\n",
      "hello2\n",
      "3\n",
      "hello3\n",
      "4\n",
      "hello4\n",
      "5\n",
      "hello5\n",
      "6\n",
      "hello6\n",
      "7\n",
      "hello7\n",
      "8\n",
      "hello8\n",
      "9\n",
      "hello9\n",
      "10\n",
      "hello10\n",
      "1\n",
      "3\n",
      "5\n",
      "7\n",
      "9\n"
     ]
    }
   ],
   "source": [
    "i = 1\n",
    "while i <= 10:\n",
    "    print(i)\n",
    "    print('hello'+ str(i))\n",
    "    i = i + 1\n",
    "    \n",
    "j = 1\n",
    "while j <= 10:\n",
    "    print(j)\n",
    "    j = j + 2"
   ]
  },
  {
   "cell_type": "code",
   "execution_count": null,
   "id": "5e9e1ae3-5da2-44de-86da-753b86a933d9",
   "metadata": {},
   "outputs": [],
   "source": []
  },
  {
   "cell_type": "code",
   "execution_count": 4,
   "id": "72750ba4-fa38-45d7-8989-f5c3202d4df7",
   "metadata": {},
   "outputs": [
    {
     "name": "stdout",
     "output_type": "stream",
     "text": [
      "5\n",
      "10\n",
      "15\n",
      "20\n",
      "25\n",
      "30\n",
      "35\n",
      "40\n",
      "45\n",
      "50\n",
      "55\n",
      "60\n",
      "65\n",
      "70\n",
      "75\n",
      "80\n",
      "85\n",
      "90\n",
      "95\n",
      "100\n"
     ]
    }
   ],
   "source": [
    "k = 1\n",
    "while k <= 100:\n",
    "    if k % 5 == 0:\n",
    "        print(k)\n",
    "    k = k + 1\n",
    "    \n"
   ]
  },
  {
   "cell_type": "code",
   "execution_count": 7,
   "id": "78b7be67-d90c-4907-b936-6db7f14148b1",
   "metadata": {},
   "outputs": [
    {
     "name": "stdout",
     "output_type": "stream",
     "text": [
      "6\n",
      "12\n",
      "18\n",
      "24\n",
      "30\n",
      "36\n",
      "42\n",
      "48\n",
      "54\n",
      "60\n"
     ]
    }
   ],
   "source": [
    "u = 1\n",
    "while u <= 60:\n",
    "    if u % 6 == 0:\n",
    "        print(u)\n",
    "    u = u + 1"
   ]
  },
  {
   "cell_type": "code",
   "execution_count": 17,
   "id": "56ae4c2b-708f-43a5-a0d9-cdb389782492",
   "metadata": {},
   "outputs": [
    {
     "name": "stdout",
     "output_type": "stream",
     "text": [
      "range(0, 5)\n",
      "range(0, 10)\n"
     ]
    }
   ],
   "source": [
    "print(range(5))  # 0 에서 4까지\n",
    "print(range(10)) # 0 에서 9까지"
   ]
  },
  {
   "cell_type": "code",
   "execution_count": 16,
   "id": "736e8994-e153-435f-9460-4d8e078d617b",
   "metadata": {},
   "outputs": [
    {
     "name": "stdout",
     "output_type": "stream",
     "text": [
      "0\n",
      "1\n",
      "2\n",
      "3\n",
      "4\n",
      "5\n",
      "6\n",
      "7\n",
      "8\n",
      "9\n",
      "1\n",
      "2\n",
      "3\n",
      "4\n",
      "5\n",
      "6\n",
      "7\n",
      "8\n",
      "9\n",
      "10\n"
     ]
    }
   ],
   "source": [
    "for i in range(10):\n",
    "    print(i)\n",
    "\n",
    "for i in range(10):\n",
    "    print(i + 1)"
   ]
  },
  {
   "cell_type": "code",
   "execution_count": 18,
   "id": "38dfa030-7ea1-47d5-b55d-2b94060a637c",
   "metadata": {},
   "outputs": [
    {
     "name": "stdout",
     "output_type": "stream",
     "text": [
      "1\n",
      "2\n"
     ]
    }
   ],
   "source": [
    "q = 1\n",
    "while q < 6:\n",
    "    if q == 3:\n",
    "        break  # break를 사용하면 3에서 멈추고 그전까지에 숫자가 입력된다.\n",
    "    print(q)\n",
    "    \n",
    "    q = q + 1  # q += 1 같은 식  "
   ]
  },
  {
   "cell_type": "code",
   "execution_count": 13,
   "id": "86964b95-ff4b-494a-a2fd-dd64bb2ad580",
   "metadata": {},
   "outputs": [
    {
     "name": "stdout",
     "output_type": "stream",
     "text": [
      "1\n",
      "2\n",
      "4\n",
      "5\n",
      "6\n"
     ]
    }
   ],
   "source": [
    "e = 0\n",
    "while e < 6:\n",
    "    e = e + 1\n",
    "    \n",
    "    if e == 3:\n",
    "        continue\n",
    "    print(e)"
   ]
  },
  {
   "cell_type": "code",
   "execution_count": 25,
   "id": "3a829281-11d6-4c38-a136-a311ec5f1bcf",
   "metadata": {},
   "outputs": [
    {
     "name": "stdout",
     "output_type": "stream",
     "text": [
      "1\n",
      "2\n",
      "3\n",
      "4\n",
      "5\n",
      "r is no longer less than 6\n",
      "g\n"
     ]
    }
   ],
   "source": [
    "r = 1\n",
    "while r < 6:\n",
    "    print(r)\n",
    "    r += 1\n",
    "else:\n",
    "    print('r is no longer less than 6')\n",
    "\n",
    "print('g')"
   ]
  },
  {
   "cell_type": "code",
   "execution_count": null,
   "id": "c997fd55-5e42-4e29-957a-80adca9dc04e",
   "metadata": {},
   "outputs": [],
   "source": [
    "for x in range(2,30,3): # 2부터 시작해서 30까지 3씩 증가를 의미.\n",
    "    print(x)"
   ]
  },
  {
   "cell_type": "code",
   "execution_count": null,
   "id": "31447df4-b088-445d-9605-0fe72a31b159",
   "metadata": {},
   "outputs": [],
   "source": [
    "for x in range(2,30,3):\n",
    "    print(x)\n",
    "    \n",
    "print('_'*50)\n",
    "\n",
    "for h in range(3,50,8):\n",
    "    print(h)"
   ]
  },
  {
   "cell_type": "code",
   "execution_count": 31,
   "id": "2f03a7cf-28a2-4cd7-9c9b-e7c35bcb2f95",
   "metadata": {},
   "outputs": [
    {
     "name": "stdout",
     "output_type": "stream",
     "text": [
      "x\n",
      "x\n"
     ]
    }
   ],
   "source": [
    "i = 1\n",
    "while i < 3:\n",
    "    print('x')\n",
    "    i = i + 1"
   ]
  },
  {
   "cell_type": "code",
   "execution_count": 35,
   "id": "338f1907-906d-4d53-9319-434da3b86cc5",
   "metadata": {},
   "outputs": [
    {
     "name": "stdout",
     "output_type": "stream",
     "text": [
      "x\n",
      "x\n",
      "x\n",
      "x\n",
      "x\n",
      "x\n",
      "x\n",
      "x\n"
     ]
    }
   ],
   "source": [
    "i = 1\n",
    "while i < 3:\n",
    "    print('x')\n",
    "    for j in range(3):\n",
    "        print('x')\n",
    "    i = i + 1"
   ]
  },
  {
   "cell_type": "code",
   "execution_count": 37,
   "id": "e5e2f45d-ccee-49f4-8cf7-6e1bc1b64d32",
   "metadata": {},
   "outputs": [
    {
     "name": "stdout",
     "output_type": "stream",
     "text": [
      "3\n",
      "6\n",
      "9\n",
      "12\n",
      "15\n",
      "18\n",
      "21\n",
      "24\n",
      "27\n",
      "30\n",
      "33\n",
      "36\n",
      "39\n",
      "42\n",
      "45\n",
      "48\n",
      "51\n",
      "54\n",
      "57\n",
      "60\n",
      "63\n",
      "66\n",
      "69\n",
      "72\n",
      "75\n",
      "78\n",
      "81\n",
      "84\n",
      "87\n",
      "90\n",
      "93\n",
      "96\n",
      "99\n"
     ]
    }
   ],
   "source": [
    "i = 1\n",
    "while i <= 100:\n",
    "    if i % 3 == 0:\n",
    "        print(i)\n",
    "    i = i + 1"
   ]
  },
  {
   "cell_type": "code",
   "execution_count": 43,
   "id": "e15c3c29-51e3-49e0-bf15-bd7e47212927",
   "metadata": {},
   "outputs": [
    {
     "name": "stdout",
     "output_type": "stream",
     "text": [
      "650\n"
     ]
    }
   ],
   "source": [
    "j = 1\n",
    "add = 0\n",
    "while j <= 50:\n",
    "    if j % 2 == 0:\n",
    "        add = add + j\n",
    "    j = j + 1\n",
    "print(add)"
   ]
  },
  {
   "cell_type": "code",
   "execution_count": null,
   "id": "31c46d56-6558-4afc-b650-85ab58876749",
   "metadata": {},
   "outputs": [],
   "source": []
  }
 ],
 "metadata": {
  "kernelspec": {
   "display_name": "Python 3 (ipykernel)",
   "language": "python",
   "name": "python3"
  },
  "language_info": {
   "codemirror_mode": {
    "name": "ipython",
    "version": 3
   },
   "file_extension": ".py",
   "mimetype": "text/x-python",
   "name": "python",
   "nbconvert_exporter": "python",
   "pygments_lexer": "ipython3",
   "version": "3.9.7"
  }
 },
 "nbformat": 4,
 "nbformat_minor": 5
}
