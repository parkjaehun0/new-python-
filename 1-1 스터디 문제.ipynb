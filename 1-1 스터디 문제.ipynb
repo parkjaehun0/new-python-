{
 "cells": [
  {
   "cell_type": "code",
   "execution_count": 1,
   "id": "1aeaaa76-6242-4201-86ad-e6bdcc22cb58",
   "metadata": {},
   "outputs": [
    {
     "name": "stdout",
     "output_type": "stream",
     "text": [
      "최대값은 111 입니다\n",
      "최소값은 11 입니다\n"
     ]
    }
   ],
   "source": [
    "number = [11,22,33,44,55,66,77,88,99,111]\n",
    "\n",
    "m_ax = number[0]\n",
    "i = 0\n",
    "\n",
    "for i in number:\n",
    "    if i > m_ax:\n",
    "        m_ax = i\n",
    "print('최대값은 %d 입니다' % m_ax)\n",
    "\n",
    "m_in = number[0]\n",
    "j = 0\n",
    "for j in number:\n",
    "    if j < m_in:\n",
    "        m_in = j\n",
    "print('최소값은 %d 입니다' % m_in)"
   ]
  },
  {
   "cell_type": "code",
   "execution_count": 2,
   "id": "1598184c-e8d3-4100-9f50-74ee0a0a7f84",
   "metadata": {},
   "outputs": [
    {
     "name": "stdin",
     "output_type": "stream",
     "text": [
      "숫자1 111\n",
      "숫자2 222\n",
      "숫자3 333\n"
     ]
    },
    {
     "name": "stdout",
     "output_type": "stream",
     "text": [
      "__________________________________________________\n",
      "333\n",
      "111\n",
      "__________________________________________________\n",
      "최대값은 333 입니다\n",
      "최소값은 111 입니다\n"
     ]
    }
   ],
   "source": [
    "q = int(input('숫자1'))\n",
    "w = int(input('숫자2'))\n",
    "e = int(input('숫자3'))\n",
    "\n",
    "print('_'*50)\n",
    "if q > w and q > e:\n",
    "        ma_x = q\n",
    "elif w > q and w > e:\n",
    "        ma_x = w\n",
    "else:\n",
    "        ma_x = e\n",
    "print(ma_x)\n",
    "\n",
    "if q < w and q < e:\n",
    "        mi_n = q\n",
    "elif w < q and w < e:\n",
    "        mi_n = w\n",
    "else:\n",
    "        mi_n = e\n",
    "print(mi_n)\n",
    "\n",
    "print('_'*50)\n",
    "print('최대값은 %d 입니다' % ma_x)\n",
    "print('최소값은 %d 입니다' % mi_n)"
   ]
  },
  {
   "cell_type": "code",
   "execution_count": null,
   "id": "66a4acd8-fe73-45f6-8638-e148c8d0d849",
   "metadata": {},
   "outputs": [
    {
     "name": "stdin",
     "output_type": "stream",
     "text": [
      "숫자입력 49\n"
     ]
    },
    {
     "name": "stdout",
     "output_type": "stream",
     "text": [
      "down\n"
     ]
    }
   ],
   "source": [
    "answer = 48\n",
    "get = 0\n",
    "while ran != get:\n",
    "    get = int(input('숫자입력'))\n",
    "    if ran == get:\n",
    "        print('정답')\n",
    "    elif ran <= get:\n",
    "        print('down')\n",
    "    else:\n",
    "        print('up')"
   ]
  },
  {
   "cell_type": "code",
   "execution_count": 8,
   "id": "7d0de1fd-324b-4a9f-91de-cab7aafeeefc",
   "metadata": {},
   "outputs": [
    {
     "name": "stdout",
     "output_type": "stream",
     "text": [
      "8410\n",
      "22\n"
     ]
    }
   ],
   "source": [
    "alist = [22, 55, 56, 54, 8410]\n",
    "\n",
    "ma_x = alist[0]\n",
    "\n",
    "for q in alist:\n",
    "    if q > ma_x:\n",
    "        ma_x = q\n",
    "print(ma_x)\n",
    "\n",
    "mi_n = alist[1]\n",
    "\n",
    "for a in alist:\n",
    "    if a < mi_n:\n",
    "        mi_n = a\n",
    "print(mi_n)"
   ]
  },
  {
   "cell_type": "code",
   "execution_count": null,
   "id": "eacdb815-23c8-4005-b6c9-43cc34f092de",
   "metadata": {},
   "outputs": [],
   "source": []
  }
 ],
 "metadata": {
  "kernelspec": {
   "display_name": "Python 3 (ipykernel)",
   "language": "python",
   "name": "python3"
  },
  "language_info": {
   "codemirror_mode": {
    "name": "ipython",
    "version": 3
   },
   "file_extension": ".py",
   "mimetype": "text/x-python",
   "name": "python",
   "nbconvert_exporter": "python",
   "pygments_lexer": "ipython3",
   "version": "3.9.7"
  }
 },
 "nbformat": 4,
 "nbformat_minor": 5
}
