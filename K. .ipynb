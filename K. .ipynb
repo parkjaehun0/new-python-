{
 "cells": [
  {
   "cell_type": "code",
   "execution_count": 90,
   "id": "f2cd8e93-ed52-42e3-9172-ef5b8d43ca28",
   "metadata": {},
   "outputs": [
    {
     "data": {
      "text/plain": [
       "'\\nprint(type(response), response)\\nprint(response.status_code)\\nprint(response.encoding)\\nprint(response.text)\\nprint(response.content) '"
      ]
     },
     "execution_count": 90,
     "metadata": {},
     "output_type": "execute_result"
    }
   ],
   "source": [
    "#response = requests.get('http://httpbin.org/ip')\n",
    "#response = requests.put('http://httpbin.org/put')\n",
    "#response = requests.post('http://httpbin.org/post')\n",
    "#response = requests.head('http://httpbin.org/get')\n",
    "#response = requests.patch('http://httpbin.org/patch')\n",
    "#response = requests.delete('http://httpbin.org/delete')\n",
    "#response = requests.options('http://httpbin.org/get')\n",
    "\n",
    "# response정보확인\n",
    "'''\n",
    "print(type(response), response)\n",
    "print(response.status_code)\n",
    "print(response.encoding)\n",
    "print(response.text)\n",
    "print(response.content) '''"
   ]
  },
  {
   "cell_type": "code",
   "execution_count": 89,
   "id": "17024ff1-578d-48d5-a8b0-e9b1220e17a2",
   "metadata": {},
   "outputs": [],
   "source": [
    "import requests\n",
    "from bs4 import BeautifulSoup"
   ]
  },
  {
   "cell_type": "code",
   "execution_count": 110,
   "id": "29309a62-2a7e-4e4a-9b6c-f08de82b7632",
   "metadata": {},
   "outputs": [
    {
     "name": "stdout",
     "output_type": "stream",
     "text": [
      "NAVER\n"
     ]
    }
   ],
   "source": [
    "naver = requests.get('https://www.naver.com')\n",
    "#print(naver.text)\n",
    "html_doc = naver.text\n",
    "\n",
    "soup = BeautifulSoup(html_doc, 'html.parser')\n",
    "#soup \n",
    "#print 로 변수를 불러도되고 안불러도된다.\n",
    "#print(soup.title)   # 하지만 여러개의 변수를 불러올때는 사용해야한다.\n",
    "#print(soup.title.name)\n",
    "#print(soup.title.string)\n",
    "#print(soup.title.text)  # string과 똑같다.\n",
    "#print(soup.ul.li)  # <ul>안에 소속된 <li>하나를 불러온다.\n",
    "#print(soup.li)\n",
    "#li_list = soup.find_all('li')\n",
    "#for li in li_list:\n",
    "    #print(li.get_text())\n",
    "#print(soup.find('h1'))  #  하나만 찾는다\n",
    "#print(soup.find_all('h1'))  # 설정한 값 모두를 찾는다. 리스트로 리턴해옴"
   ]
  },
  {
   "cell_type": "code",
   "execution_count": 92,
   "id": "8bb37911-eb1e-49af-a1f5-959c61b86ae9",
   "metadata": {},
   "outputs": [
    {
     "data": {
      "text/plain": [
       "[<span class=\"blind\">쥬니어네이버</span>]"
      ]
     },
     "execution_count": 92,
     "metadata": {},
     "output_type": "execute_result"
    }
   ],
   "source": [
    "#soup.find_all('a', {'href' : '#newsstand'})\n",
    "#soup.find_all('button', {'type' : 'button'}) 버튼타입을 찾는것.\n",
    "\n",
    "soup.select('#header > div.special_bg > div > div.service_area > a.link_jrnaver > span')   # a태그 안에 있는 span이라는 값을 가져오는것."
   ]
  },
  {
   "cell_type": "code",
   "execution_count": 153,
   "id": "c23ec3f2-6128-427e-9ef6-83ae28bd3431",
   "metadata": {},
   "outputs": [
    {
     "name": "stdout",
     "output_type": "stream",
     "text": [
      "한 벌에 12만원…BTS도 놀란 ‘BTS 잠옷’ 가격\n",
      "['https://www.chosun.com/economy/industry-company/2022/01/04/5RBS7KTE6JFWVNJX4BCKC4VKJ4/?utm_source=naver&utm_medium=referral&utm_campaign=naver-news']\n",
      "['한 벌에 12만원…BTS도 놀란 ‘BTS 잠옷’ 가격']\n",
      "BTS 뷔가 부른 OST, 한국 첫 빌보드 ‘핫 100‘ 진입\n",
      "['https://www.seoul.co.kr/news/newsView.php?id=20220105500019&wlog_tag3=naver']\n",
      "['BTS 뷔가 부른 OST, 한국 첫 빌보드 ‘핫 100‘ 진입']\n",
      "네이버웹툰, BTS 슈퍼캐스팅 옥외광고 코엑스 케이팝 스퀘어에 공개\n",
      "['http://www.fnnews.com/news/202201040847465379']\n",
      "['네이버웹툰, BTS 슈퍼캐스팅 옥외광고 코엑스 케이팝 스퀘어에 공개']\n",
      "BTS 후보 오른 그래미 시상식, 오미크론 여파 연기 가능성\n",
      "['http://yna.kr/AKR20220105005100075?did=1195m']\n",
      "['BTS 후보 오른 그래미 시상식, 오미크론 여파 연기 가능성']\n",
      "\"BTS가 베개 팔아요\"…'팬더스트리' 공략 나선 미디어커머스 업계\n",
      "['https://www.news1.kr/articles/?4543183']\n",
      "['\"BTS가 베개 팔아요\"…\\'팬더스트리\\' 공략 나선 미디어커머스 업계']\n",
      "BTS, 7년간 달라진 위상 보여주는 파티 영상…\"열심히 살았다\"\n",
      "['http://news.mt.co.kr/mtview.php?no=2022010510192968626']\n",
      "['BTS, 7년간 달라진 위상 보여주는 파티 영상…\"열심히 살았다\"']\n",
      "BTS 뷔, 스포티파이 팔로워 500만 명 돌파\n",
      "['https://www.xportsnews.com/article/1520894']\n",
      "['BTS 뷔, 스포티파이 팔로워 500만 명 돌파']\n",
      "\"턴즈 1위 축하\"… BTS도 푹 빠진 '스걸파'\n",
      "['http://starin.edaily.co.kr/news/newspath.asp?newsid=01157846632194768']\n",
      "['\"턴즈 1위 축하\"… BTS도 푹 빠진 \\'스걸파\\'']\n",
      "BTS member-Billboard\n",
      "['http://yna.kr/AEN20220105002500315?did=2106m']\n",
      "['BTS member-Billboard']\n",
      "'BTS 잠옷' 고가 논란...제작 참여한 멤버도 '갸우뚱'\n",
      "['https://www.ytn.co.kr/_ln/0106_202201031802143766']\n",
      "[\"'BTS 잠옷' 고가 논란...제작 참여한 멤버도 '갸우뚱'\"]\n"
     ]
    }
   ],
   "source": [
    "bts = requests.get('https://search.naver.com/search.naver?where=news&query=bts&sm=tab_tmr&nso=so:r,p:all,a:all&sort=0')\n",
    "#print(naver.text)\n",
    "html_doc1 = bts.text\n",
    "\n",
    "soup1 = BeautifulSoup(html_doc1, 'html.parser')\n",
    "tag = soup1.select('#main_pack > section> div > div.group_news > ul > li > div > div > a')\n",
    "#print(tag)\n",
    "for i in tag:\n",
    "    print(i.get_text()) # 뉴스 제목 \n",
    "    print(i.get_attribute_list('href'))  # a안에 들어가있는 href를 불러드림  신문사 링크\n",
    "    print(i.get_attribute_list('title'))  #  a안에 들어가있는 title을 불러드림\n",
    "    \n",
    "\n",
    "    \n",
    "    \n",
    "# 또 다른 방법  select_one을 사용.\n",
    "#tag = soup1.select_one('#main_pack > section> div > div.group_news > ul ')\n",
    "#new_list = tag.select('li > div > div >a')\n",
    "\n",
    "#for i in new_list:\n",
    "    #print(i.get_text())"
   ]
  },
  {
   "cell_type": "code",
   "execution_count": 179,
   "id": "9b42d492-dfd7-4250-80f5-4bf7769db73b",
   "metadata": {},
   "outputs": [
    {
     "name": "stdout",
     "output_type": "stream",
     "text": [
      "  동영상 바로재생 버튼 2분 49초 \n",
      "['https://www.youtube.com/watch?v=fv3_xLObPpg']\n",
      " [BANGTAN BOMB] Run Jimin, Jung Kook, Run! - BTS (방탄소년단) \n",
      "['https://www.youtube.com/watch?v=fv3_xLObPpg']\n",
      "  동영상 바로재생 버튼 6분 55초 \n",
      "['https://www.youtube.com/watch?v=hZXO6k6RELQ']\n",
      " [BANGTAN BOMB] BTS at the News Interview - BTS (방탄소년단) \n",
      "['https://www.youtube.com/watch?v=hZXO6k6RELQ']\n",
      "  동영상 바로재생 버튼 6분 22초 \n",
      "['https://www.youtube.com/watch?v=KWI7DUW6CCg']\n",
      " BTS (방탄소년단) 'Butter' & 'Dynamite (Holiday Remix)' @ iHeartRadio Jingle Ball 2021 \n",
      "['https://www.youtube.com/watch?v=KWI7DUW6CCg']\n",
      "  동영상 바로재생 버튼 2분 55초 \n",
      "['https://www.youtube.com/watch?v=S50SYJbyXY4']\n",
      " [CHOREOGRAPHY] BTS (방탄소년단) ‘Butter (Holiday Remix)’ Dance Practice \n",
      "['https://www.youtube.com/watch?v=S50SYJbyXY4']\n",
      "  동영상 바로재생 버튼 50초 \n",
      "['https://www.youtube.com/watch?v=eeIoEKfERp8']\n",
      " [BANGTAN BOMB] The Photobomber - BTS (방탄소년단) \n",
      "['https://www.youtube.com/watch?v=eeIoEKfERp8']\n",
      "  동영상 바로재생 버튼 34분 00초 \n",
      "['https://www.youtube.com/watch?v=UZzHnuvI8mI']\n",
      " BTS (방탄소년단) CCTV LIVE 🔴 \n",
      "['https://www.youtube.com/watch?v=UZzHnuvI8mI']\n",
      "  동영상 바로재생 버튼 16초 \n",
      "['https://www.youtube.com/watch?v=jFAYxGwFPHk']\n",
      " BTS (방탄소년단) CCTV LIVE Teaser \n",
      "['https://www.youtube.com/watch?v=jFAYxGwFPHk']\n",
      "  동영상 바로재생 버튼 1분 00초 \n",
      "['https://www.youtube.com/watch?v=j_38Hx-DAjk']\n",
      " Thank you for a Butter-ful 2021🧈💜 \n",
      "['https://www.youtube.com/watch?v=j_38Hx-DAjk']\n",
      "  동영상 바로재생 버튼 1분 38초 \n",
      "['https://www.youtube.com/watch?v=DOMmaY2ptls']\n",
      " Butter-ful moments in 2021 - BTS (방탄소년단) \n",
      "['https://www.youtube.com/watch?v=DOMmaY2ptls']\n",
      "  동영상 바로재생 버튼 51초 \n",
      "['https://www.youtube.com/watch?v=Ro3biHIwooA']\n",
      " [BANGTAN BOMB] The Bangtan Choir - BTS (방탄소년단) \n",
      "['https://www.youtube.com/watch?v=Ro3biHIwooA']\n"
     ]
    }
   ],
   "source": [
    "bts1 = requests.get('https://search.naver.com/search.naver?where=nexearch&sm=tab_jum&query=bts')\n",
    "#print(naver.text)\n",
    "html_doc2 = bts1.text\n",
    "\n",
    "soup2 = BeautifulSoup(html_doc2, 'html.parser')\n",
    "tag1 = soup2.select('#main_pack > section > div.cm_content_wrap > div.cm_content_area._cm_content_area_latest > div.cm_pure_box._tab_panel > div > div > div > ul > li > div > a ')\n",
    "for q in tag1:\n",
    "    print(q.get_text())\n",
    "    print(q.get_attribute_list('href'))"
   ]
  },
  {
   "cell_type": "markdown",
   "id": "83c02140-78f4-4be4-990f-692efad1f275",
   "metadata": {},
   "source": [
    "# Selenium"
   ]
  },
  {
   "cell_type": "code",
   "execution_count": 249,
   "id": "bb05a4bd-bc7e-43c2-b293-c50d94dd6e56",
   "metadata": {},
   "outputs": [
    {
     "name": "stdout",
     "output_type": "stream",
     "text": [
      "Collecting selenium\n",
      "  Downloading selenium-4.1.0-py3-none-any.whl (958 kB)\n",
      "Requirement already satisfied: urllib3[secure]~=1.26 in c:\\users\\qw\\anaconda3\\lib\\site-packages (from selenium) (1.26.7)\n",
      "Collecting trio~=0.17\n",
      "  Downloading trio-0.19.0-py3-none-any.whl (356 kB)\n",
      "Collecting trio-websocket~=0.9\n",
      "  Downloading trio_websocket-0.9.2-py3-none-any.whl (16 kB)\n",
      "Requirement already satisfied: attrs>=19.2.0 in c:\\users\\qw\\anaconda3\\lib\\site-packages (from trio~=0.17->selenium) (21.2.0)\n",
      "Requirement already satisfied: async-generator>=1.9 in c:\\users\\qw\\anaconda3\\lib\\site-packages (from trio~=0.17->selenium) (1.10)\n",
      "Requirement already satisfied: sniffio in c:\\users\\qw\\anaconda3\\lib\\site-packages (from trio~=0.17->selenium) (1.2.0)\n",
      "Collecting outcome\n",
      "  Downloading outcome-1.1.0-py2.py3-none-any.whl (9.7 kB)\n",
      "Requirement already satisfied: sortedcontainers in c:\\users\\qw\\anaconda3\\lib\\site-packages (from trio~=0.17->selenium) (2.4.0)\n",
      "Requirement already satisfied: idna in c:\\users\\qw\\anaconda3\\lib\\site-packages (from trio~=0.17->selenium) (3.2)\n",
      "Requirement already satisfied: cffi>=1.14 in c:\\users\\qw\\anaconda3\\lib\\site-packages (from trio~=0.17->selenium) (1.14.6)\n",
      "Requirement already satisfied: pycparser in c:\\users\\qw\\anaconda3\\lib\\site-packages (from cffi>=1.14->trio~=0.17->selenium) (2.20)\n",
      "Collecting wsproto>=0.14\n",
      "  Downloading wsproto-1.0.0-py3-none-any.whl (24 kB)\n",
      "Requirement already satisfied: pyOpenSSL>=0.14 in c:\\users\\qw\\anaconda3\\lib\\site-packages (from urllib3[secure]~=1.26->selenium) (21.0.0)\n",
      "Requirement already satisfied: cryptography>=1.3.4 in c:\\users\\qw\\anaconda3\\lib\\site-packages (from urllib3[secure]~=1.26->selenium) (3.4.8)\n",
      "Requirement already satisfied: certifi in c:\\users\\qw\\anaconda3\\lib\\site-packages (from urllib3[secure]~=1.26->selenium) (2021.10.8)\n",
      "Requirement already satisfied: six>=1.5.2 in c:\\users\\qw\\anaconda3\\lib\\site-packages (from pyOpenSSL>=0.14->urllib3[secure]~=1.26->selenium) (1.16.0)\n",
      "Collecting h11<1,>=0.9.0\n",
      "  Downloading h11-0.12.0-py3-none-any.whl (54 kB)\n",
      "Installing collected packages: outcome, h11, wsproto, trio, trio-websocket, selenium\n",
      "Successfully installed h11-0.12.0 outcome-1.1.0 selenium-4.1.0 trio-0.19.0 trio-websocket-0.9.2 wsproto-1.0.0\n"
     ]
    }
   ],
   "source": [
    "!pip install selenium"
   ]
  },
  {
   "cell_type": "code",
   "execution_count": 259,
   "id": "73849975-3f71-40e7-8a35-01e7a63d3d41",
   "metadata": {},
   "outputs": [
    {
     "name": "stderr",
     "output_type": "stream",
     "text": [
      "C:\\Users\\qw\\AppData\\Local\\Temp/ipykernel_11652/2034420408.py:3: DeprecationWarning: executable_path has been deprecated, please pass in a Service object\n",
      "  driver = webdriver.Chrome('driver/chromedriver')\n"
     ]
    }
   ],
   "source": [
    "from selenium import webdriver\n",
    "\n",
    "driver = webdriver.Chrome('driver/chromedriver')\n",
    "driver.get('https://www.naver.com/')\n",
    "# driver.get('https://www.nike.com/kr/ko_kr/')\n",
    "# driver.get('https://www.youtube.com/channel/UC3SyT4_WLHzN7JmHQwKQZww')\n",
    "driver.save_screenshot('001.png')  # 화면 캡쳐\n",
    "driver.close()"
   ]
  },
  {
   "cell_type": "code",
   "execution_count": 346,
   "id": "a8ac2181-916b-4905-bd1e-545cdff7d6f5",
   "metadata": {},
   "outputs": [
    {
     "name": "stderr",
     "output_type": "stream",
     "text": [
      "C:\\Users\\qw\\AppData\\Local\\Temp/ipykernel_11652/3421143890.py:1: DeprecationWarning: executable_path has been deprecated, please pass in a Service object\n",
      "  driver2 = webdriver.Chrome('driver/chromedriver')\n"
     ]
    },
    {
     "ename": "KeyboardInterrupt",
     "evalue": "",
     "output_type": "error",
     "traceback": [
      "\u001b[1;31m---------------------------------------------------------------------------\u001b[0m",
      "\u001b[1;31mKeyboardInterrupt\u001b[0m                         Traceback (most recent call last)",
      "\u001b[1;32m~\\AppData\\Local\\Temp/ipykernel_11652/3421143890.py\u001b[0m in \u001b[0;36m<module>\u001b[1;34m\u001b[0m\n\u001b[0;32m      1\u001b[0m \u001b[0mdriver2\u001b[0m \u001b[1;33m=\u001b[0m \u001b[0mwebdriver\u001b[0m\u001b[1;33m.\u001b[0m\u001b[0mChrome\u001b[0m\u001b[1;33m(\u001b[0m\u001b[1;34m'driver/chromedriver'\u001b[0m\u001b[1;33m)\u001b[0m\u001b[1;33m\u001b[0m\u001b[1;33m\u001b[0m\u001b[0m\n\u001b[1;32m----> 2\u001b[1;33m \u001b[0mdriver\u001b[0m\u001b[1;33m.\u001b[0m\u001b[0mget\u001b[0m\u001b[1;33m(\u001b[0m\u001b[1;34m'https://nid.naver.com/nidlogin.login?mode=form&url=https%3A%2F%2Fwww.naver.com'\u001b[0m\u001b[1;33m)\u001b[0m\u001b[1;33m\u001b[0m\u001b[1;33m\u001b[0m\u001b[0m\n\u001b[0m\u001b[0;32m      3\u001b[0m \u001b[1;33m\u001b[0m\u001b[0m\n\u001b[0;32m      4\u001b[0m \u001b[0melem_login\u001b[0m \u001b[1;33m=\u001b[0m \u001b[0mdriver\u001b[0m\u001b[1;33m.\u001b[0m\u001b[0mfind_element_by_id\u001b[0m\u001b[1;33m(\u001b[0m\u001b[1;34m'id'\u001b[0m\u001b[1;33m)\u001b[0m\u001b[1;33m\u001b[0m\u001b[1;33m\u001b[0m\u001b[0m\n\u001b[0;32m      5\u001b[0m \u001b[0melem_login\u001b[0m\u001b[1;33m.\u001b[0m\u001b[0mclear\u001b[0m\u001b[1;33m(\u001b[0m\u001b[1;33m)\u001b[0m\u001b[1;33m\u001b[0m\u001b[1;33m\u001b[0m\u001b[0m\n",
      "\u001b[1;32m~\\Anaconda3\\lib\\site-packages\\selenium\\webdriver\\remote\\webdriver.py\u001b[0m in \u001b[0;36mget\u001b[1;34m(self, url)\u001b[0m\n\u001b[0;32m    434\u001b[0m         \u001b[0mLoads\u001b[0m \u001b[0ma\u001b[0m \u001b[0mweb\u001b[0m \u001b[0mpage\u001b[0m \u001b[1;32min\u001b[0m \u001b[0mthe\u001b[0m \u001b[0mcurrent\u001b[0m \u001b[0mbrowser\u001b[0m \u001b[0msession\u001b[0m\u001b[1;33m.\u001b[0m\u001b[1;33m\u001b[0m\u001b[1;33m\u001b[0m\u001b[0m\n\u001b[0;32m    435\u001b[0m         \"\"\"\n\u001b[1;32m--> 436\u001b[1;33m         \u001b[0mself\u001b[0m\u001b[1;33m.\u001b[0m\u001b[0mexecute\u001b[0m\u001b[1;33m(\u001b[0m\u001b[0mCommand\u001b[0m\u001b[1;33m.\u001b[0m\u001b[0mGET\u001b[0m\u001b[1;33m,\u001b[0m \u001b[1;33m{\u001b[0m\u001b[1;34m'url'\u001b[0m\u001b[1;33m:\u001b[0m \u001b[0murl\u001b[0m\u001b[1;33m}\u001b[0m\u001b[1;33m)\u001b[0m\u001b[1;33m\u001b[0m\u001b[1;33m\u001b[0m\u001b[0m\n\u001b[0m\u001b[0;32m    437\u001b[0m \u001b[1;33m\u001b[0m\u001b[0m\n\u001b[0;32m    438\u001b[0m     \u001b[1;33m@\u001b[0m\u001b[0mproperty\u001b[0m\u001b[1;33m\u001b[0m\u001b[1;33m\u001b[0m\u001b[0m\n",
      "\u001b[1;32m~\\Anaconda3\\lib\\site-packages\\selenium\\webdriver\\remote\\webdriver.py\u001b[0m in \u001b[0;36mexecute\u001b[1;34m(self, driver_command, params)\u001b[0m\n\u001b[0;32m    420\u001b[0m \u001b[1;33m\u001b[0m\u001b[0m\n\u001b[0;32m    421\u001b[0m         \u001b[0mparams\u001b[0m \u001b[1;33m=\u001b[0m \u001b[0mself\u001b[0m\u001b[1;33m.\u001b[0m\u001b[0m_wrap_value\u001b[0m\u001b[1;33m(\u001b[0m\u001b[0mparams\u001b[0m\u001b[1;33m)\u001b[0m\u001b[1;33m\u001b[0m\u001b[1;33m\u001b[0m\u001b[0m\n\u001b[1;32m--> 422\u001b[1;33m         \u001b[0mresponse\u001b[0m \u001b[1;33m=\u001b[0m \u001b[0mself\u001b[0m\u001b[1;33m.\u001b[0m\u001b[0mcommand_executor\u001b[0m\u001b[1;33m.\u001b[0m\u001b[0mexecute\u001b[0m\u001b[1;33m(\u001b[0m\u001b[0mdriver_command\u001b[0m\u001b[1;33m,\u001b[0m \u001b[0mparams\u001b[0m\u001b[1;33m)\u001b[0m\u001b[1;33m\u001b[0m\u001b[1;33m\u001b[0m\u001b[0m\n\u001b[0m\u001b[0;32m    423\u001b[0m         \u001b[1;32mif\u001b[0m \u001b[0mresponse\u001b[0m\u001b[1;33m:\u001b[0m\u001b[1;33m\u001b[0m\u001b[1;33m\u001b[0m\u001b[0m\n\u001b[0;32m    424\u001b[0m             \u001b[0mself\u001b[0m\u001b[1;33m.\u001b[0m\u001b[0merror_handler\u001b[0m\u001b[1;33m.\u001b[0m\u001b[0mcheck_response\u001b[0m\u001b[1;33m(\u001b[0m\u001b[0mresponse\u001b[0m\u001b[1;33m)\u001b[0m\u001b[1;33m\u001b[0m\u001b[1;33m\u001b[0m\u001b[0m\n",
      "\u001b[1;32m~\\Anaconda3\\lib\\site-packages\\selenium\\webdriver\\remote\\remote_connection.py\u001b[0m in \u001b[0;36mexecute\u001b[1;34m(self, command, params)\u001b[0m\n\u001b[0;32m    419\u001b[0m         \u001b[0mdata\u001b[0m \u001b[1;33m=\u001b[0m \u001b[0mutils\u001b[0m\u001b[1;33m.\u001b[0m\u001b[0mdump_json\u001b[0m\u001b[1;33m(\u001b[0m\u001b[0mparams\u001b[0m\u001b[1;33m)\u001b[0m\u001b[1;33m\u001b[0m\u001b[1;33m\u001b[0m\u001b[0m\n\u001b[0;32m    420\u001b[0m         \u001b[0murl\u001b[0m \u001b[1;33m=\u001b[0m \u001b[1;34mf\"{self._url}{path}\"\u001b[0m\u001b[1;33m\u001b[0m\u001b[1;33m\u001b[0m\u001b[0m\n\u001b[1;32m--> 421\u001b[1;33m         \u001b[1;32mreturn\u001b[0m \u001b[0mself\u001b[0m\u001b[1;33m.\u001b[0m\u001b[0m_request\u001b[0m\u001b[1;33m(\u001b[0m\u001b[0mcommand_info\u001b[0m\u001b[1;33m[\u001b[0m\u001b[1;36m0\u001b[0m\u001b[1;33m]\u001b[0m\u001b[1;33m,\u001b[0m \u001b[0murl\u001b[0m\u001b[1;33m,\u001b[0m \u001b[0mbody\u001b[0m\u001b[1;33m=\u001b[0m\u001b[0mdata\u001b[0m\u001b[1;33m)\u001b[0m\u001b[1;33m\u001b[0m\u001b[1;33m\u001b[0m\u001b[0m\n\u001b[0m\u001b[0;32m    422\u001b[0m \u001b[1;33m\u001b[0m\u001b[0m\n\u001b[0;32m    423\u001b[0m     \u001b[1;32mdef\u001b[0m \u001b[0m_request\u001b[0m\u001b[1;33m(\u001b[0m\u001b[0mself\u001b[0m\u001b[1;33m,\u001b[0m \u001b[0mmethod\u001b[0m\u001b[1;33m,\u001b[0m \u001b[0murl\u001b[0m\u001b[1;33m,\u001b[0m \u001b[0mbody\u001b[0m\u001b[1;33m=\u001b[0m\u001b[1;32mNone\u001b[0m\u001b[1;33m)\u001b[0m\u001b[1;33m:\u001b[0m\u001b[1;33m\u001b[0m\u001b[1;33m\u001b[0m\u001b[0m\n",
      "\u001b[1;32m~\\Anaconda3\\lib\\site-packages\\selenium\\webdriver\\remote\\remote_connection.py\u001b[0m in \u001b[0;36m_request\u001b[1;34m(self, method, url, body)\u001b[0m\n\u001b[0;32m    441\u001b[0m \u001b[1;33m\u001b[0m\u001b[0m\n\u001b[0;32m    442\u001b[0m         \u001b[1;32mif\u001b[0m \u001b[0mself\u001b[0m\u001b[1;33m.\u001b[0m\u001b[0mkeep_alive\u001b[0m\u001b[1;33m:\u001b[0m\u001b[1;33m\u001b[0m\u001b[1;33m\u001b[0m\u001b[0m\n\u001b[1;32m--> 443\u001b[1;33m             \u001b[0mresp\u001b[0m \u001b[1;33m=\u001b[0m \u001b[0mself\u001b[0m\u001b[1;33m.\u001b[0m\u001b[0m_conn\u001b[0m\u001b[1;33m.\u001b[0m\u001b[0mrequest\u001b[0m\u001b[1;33m(\u001b[0m\u001b[0mmethod\u001b[0m\u001b[1;33m,\u001b[0m \u001b[0murl\u001b[0m\u001b[1;33m,\u001b[0m \u001b[0mbody\u001b[0m\u001b[1;33m=\u001b[0m\u001b[0mbody\u001b[0m\u001b[1;33m,\u001b[0m \u001b[0mheaders\u001b[0m\u001b[1;33m=\u001b[0m\u001b[0mheaders\u001b[0m\u001b[1;33m)\u001b[0m\u001b[1;33m\u001b[0m\u001b[1;33m\u001b[0m\u001b[0m\n\u001b[0m\u001b[0;32m    444\u001b[0m             \u001b[0mstatuscode\u001b[0m \u001b[1;33m=\u001b[0m \u001b[0mresp\u001b[0m\u001b[1;33m.\u001b[0m\u001b[0mstatus\u001b[0m\u001b[1;33m\u001b[0m\u001b[1;33m\u001b[0m\u001b[0m\n\u001b[0;32m    445\u001b[0m         \u001b[1;32melse\u001b[0m\u001b[1;33m:\u001b[0m\u001b[1;33m\u001b[0m\u001b[1;33m\u001b[0m\u001b[0m\n",
      "\u001b[1;32m~\\Anaconda3\\lib\\site-packages\\urllib3\\request.py\u001b[0m in \u001b[0;36mrequest\u001b[1;34m(self, method, url, fields, headers, **urlopen_kw)\u001b[0m\n\u001b[0;32m     76\u001b[0m             )\n\u001b[0;32m     77\u001b[0m         \u001b[1;32melse\u001b[0m\u001b[1;33m:\u001b[0m\u001b[1;33m\u001b[0m\u001b[1;33m\u001b[0m\u001b[0m\n\u001b[1;32m---> 78\u001b[1;33m             return self.request_encode_body(\n\u001b[0m\u001b[0;32m     79\u001b[0m                 \u001b[0mmethod\u001b[0m\u001b[1;33m,\u001b[0m \u001b[0murl\u001b[0m\u001b[1;33m,\u001b[0m \u001b[0mfields\u001b[0m\u001b[1;33m=\u001b[0m\u001b[0mfields\u001b[0m\u001b[1;33m,\u001b[0m \u001b[0mheaders\u001b[0m\u001b[1;33m=\u001b[0m\u001b[0mheaders\u001b[0m\u001b[1;33m,\u001b[0m \u001b[1;33m**\u001b[0m\u001b[0murlopen_kw\u001b[0m\u001b[1;33m\u001b[0m\u001b[1;33m\u001b[0m\u001b[0m\n\u001b[0;32m     80\u001b[0m             )\n",
      "\u001b[1;32m~\\Anaconda3\\lib\\site-packages\\urllib3\\request.py\u001b[0m in \u001b[0;36mrequest_encode_body\u001b[1;34m(self, method, url, fields, headers, encode_multipart, multipart_boundary, **urlopen_kw)\u001b[0m\n\u001b[0;32m    168\u001b[0m         \u001b[0mextra_kw\u001b[0m\u001b[1;33m.\u001b[0m\u001b[0mupdate\u001b[0m\u001b[1;33m(\u001b[0m\u001b[0murlopen_kw\u001b[0m\u001b[1;33m)\u001b[0m\u001b[1;33m\u001b[0m\u001b[1;33m\u001b[0m\u001b[0m\n\u001b[0;32m    169\u001b[0m \u001b[1;33m\u001b[0m\u001b[0m\n\u001b[1;32m--> 170\u001b[1;33m         \u001b[1;32mreturn\u001b[0m \u001b[0mself\u001b[0m\u001b[1;33m.\u001b[0m\u001b[0murlopen\u001b[0m\u001b[1;33m(\u001b[0m\u001b[0mmethod\u001b[0m\u001b[1;33m,\u001b[0m \u001b[0murl\u001b[0m\u001b[1;33m,\u001b[0m \u001b[1;33m**\u001b[0m\u001b[0mextra_kw\u001b[0m\u001b[1;33m)\u001b[0m\u001b[1;33m\u001b[0m\u001b[1;33m\u001b[0m\u001b[0m\n\u001b[0m",
      "\u001b[1;32m~\\Anaconda3\\lib\\site-packages\\urllib3\\poolmanager.py\u001b[0m in \u001b[0;36murlopen\u001b[1;34m(self, method, url, redirect, **kw)\u001b[0m\n\u001b[0;32m    373\u001b[0m             \u001b[0mresponse\u001b[0m \u001b[1;33m=\u001b[0m \u001b[0mconn\u001b[0m\u001b[1;33m.\u001b[0m\u001b[0murlopen\u001b[0m\u001b[1;33m(\u001b[0m\u001b[0mmethod\u001b[0m\u001b[1;33m,\u001b[0m \u001b[0murl\u001b[0m\u001b[1;33m,\u001b[0m \u001b[1;33m**\u001b[0m\u001b[0mkw\u001b[0m\u001b[1;33m)\u001b[0m\u001b[1;33m\u001b[0m\u001b[1;33m\u001b[0m\u001b[0m\n\u001b[0;32m    374\u001b[0m         \u001b[1;32melse\u001b[0m\u001b[1;33m:\u001b[0m\u001b[1;33m\u001b[0m\u001b[1;33m\u001b[0m\u001b[0m\n\u001b[1;32m--> 375\u001b[1;33m             \u001b[0mresponse\u001b[0m \u001b[1;33m=\u001b[0m \u001b[0mconn\u001b[0m\u001b[1;33m.\u001b[0m\u001b[0murlopen\u001b[0m\u001b[1;33m(\u001b[0m\u001b[0mmethod\u001b[0m\u001b[1;33m,\u001b[0m \u001b[0mu\u001b[0m\u001b[1;33m.\u001b[0m\u001b[0mrequest_uri\u001b[0m\u001b[1;33m,\u001b[0m \u001b[1;33m**\u001b[0m\u001b[0mkw\u001b[0m\u001b[1;33m)\u001b[0m\u001b[1;33m\u001b[0m\u001b[1;33m\u001b[0m\u001b[0m\n\u001b[0m\u001b[0;32m    376\u001b[0m \u001b[1;33m\u001b[0m\u001b[0m\n\u001b[0;32m    377\u001b[0m         \u001b[0mredirect_location\u001b[0m \u001b[1;33m=\u001b[0m \u001b[0mredirect\u001b[0m \u001b[1;32mand\u001b[0m \u001b[0mresponse\u001b[0m\u001b[1;33m.\u001b[0m\u001b[0mget_redirect_location\u001b[0m\u001b[1;33m(\u001b[0m\u001b[1;33m)\u001b[0m\u001b[1;33m\u001b[0m\u001b[1;33m\u001b[0m\u001b[0m\n",
      "\u001b[1;32m~\\Anaconda3\\lib\\site-packages\\urllib3\\connectionpool.py\u001b[0m in \u001b[0;36murlopen\u001b[1;34m(self, method, url, body, headers, retries, redirect, assert_same_host, timeout, pool_timeout, release_conn, chunked, body_pos, **response_kw)\u001b[0m\n\u001b[0;32m    697\u001b[0m \u001b[1;33m\u001b[0m\u001b[0m\n\u001b[0;32m    698\u001b[0m             \u001b[1;31m# Make the request on the httplib connection object.\u001b[0m\u001b[1;33m\u001b[0m\u001b[1;33m\u001b[0m\u001b[0m\n\u001b[1;32m--> 699\u001b[1;33m             httplib_response = self._make_request(\n\u001b[0m\u001b[0;32m    700\u001b[0m                 \u001b[0mconn\u001b[0m\u001b[1;33m,\u001b[0m\u001b[1;33m\u001b[0m\u001b[1;33m\u001b[0m\u001b[0m\n\u001b[0;32m    701\u001b[0m                 \u001b[0mmethod\u001b[0m\u001b[1;33m,\u001b[0m\u001b[1;33m\u001b[0m\u001b[1;33m\u001b[0m\u001b[0m\n",
      "\u001b[1;32m~\\Anaconda3\\lib\\site-packages\\urllib3\\connectionpool.py\u001b[0m in \u001b[0;36m_make_request\u001b[1;34m(self, conn, method, url, timeout, chunked, **httplib_request_kw)\u001b[0m\n\u001b[0;32m    443\u001b[0m                     \u001b[1;31m# Python 3 (including for exceptions like SystemExit).\u001b[0m\u001b[1;33m\u001b[0m\u001b[1;33m\u001b[0m\u001b[0m\n\u001b[0;32m    444\u001b[0m                     \u001b[1;31m# Otherwise it looks like a bug in the code.\u001b[0m\u001b[1;33m\u001b[0m\u001b[1;33m\u001b[0m\u001b[0m\n\u001b[1;32m--> 445\u001b[1;33m                     \u001b[0msix\u001b[0m\u001b[1;33m.\u001b[0m\u001b[0mraise_from\u001b[0m\u001b[1;33m(\u001b[0m\u001b[0me\u001b[0m\u001b[1;33m,\u001b[0m \u001b[1;32mNone\u001b[0m\u001b[1;33m)\u001b[0m\u001b[1;33m\u001b[0m\u001b[1;33m\u001b[0m\u001b[0m\n\u001b[0m\u001b[0;32m    446\u001b[0m         \u001b[1;32mexcept\u001b[0m \u001b[1;33m(\u001b[0m\u001b[0mSocketTimeout\u001b[0m\u001b[1;33m,\u001b[0m \u001b[0mBaseSSLError\u001b[0m\u001b[1;33m,\u001b[0m \u001b[0mSocketError\u001b[0m\u001b[1;33m)\u001b[0m \u001b[1;32mas\u001b[0m \u001b[0me\u001b[0m\u001b[1;33m:\u001b[0m\u001b[1;33m\u001b[0m\u001b[1;33m\u001b[0m\u001b[0m\n\u001b[0;32m    447\u001b[0m             \u001b[0mself\u001b[0m\u001b[1;33m.\u001b[0m\u001b[0m_raise_timeout\u001b[0m\u001b[1;33m(\u001b[0m\u001b[0merr\u001b[0m\u001b[1;33m=\u001b[0m\u001b[0me\u001b[0m\u001b[1;33m,\u001b[0m \u001b[0murl\u001b[0m\u001b[1;33m=\u001b[0m\u001b[0murl\u001b[0m\u001b[1;33m,\u001b[0m \u001b[0mtimeout_value\u001b[0m\u001b[1;33m=\u001b[0m\u001b[0mread_timeout\u001b[0m\u001b[1;33m)\u001b[0m\u001b[1;33m\u001b[0m\u001b[1;33m\u001b[0m\u001b[0m\n",
      "\u001b[1;32m~\\Anaconda3\\lib\\site-packages\\urllib3\\packages\\six.py\u001b[0m in \u001b[0;36mraise_from\u001b[1;34m(value, from_value)\u001b[0m\n",
      "\u001b[1;32m~\\Anaconda3\\lib\\site-packages\\urllib3\\connectionpool.py\u001b[0m in \u001b[0;36m_make_request\u001b[1;34m(self, conn, method, url, timeout, chunked, **httplib_request_kw)\u001b[0m\n\u001b[0;32m    438\u001b[0m                 \u001b[1;31m# Python 3\u001b[0m\u001b[1;33m\u001b[0m\u001b[1;33m\u001b[0m\u001b[0m\n\u001b[0;32m    439\u001b[0m                 \u001b[1;32mtry\u001b[0m\u001b[1;33m:\u001b[0m\u001b[1;33m\u001b[0m\u001b[1;33m\u001b[0m\u001b[0m\n\u001b[1;32m--> 440\u001b[1;33m                     \u001b[0mhttplib_response\u001b[0m \u001b[1;33m=\u001b[0m \u001b[0mconn\u001b[0m\u001b[1;33m.\u001b[0m\u001b[0mgetresponse\u001b[0m\u001b[1;33m(\u001b[0m\u001b[1;33m)\u001b[0m\u001b[1;33m\u001b[0m\u001b[1;33m\u001b[0m\u001b[0m\n\u001b[0m\u001b[0;32m    441\u001b[0m                 \u001b[1;32mexcept\u001b[0m \u001b[0mBaseException\u001b[0m \u001b[1;32mas\u001b[0m \u001b[0me\u001b[0m\u001b[1;33m:\u001b[0m\u001b[1;33m\u001b[0m\u001b[1;33m\u001b[0m\u001b[0m\n\u001b[0;32m    442\u001b[0m                     \u001b[1;31m# Remove the TypeError from the exception chain in\u001b[0m\u001b[1;33m\u001b[0m\u001b[1;33m\u001b[0m\u001b[0m\n",
      "\u001b[1;32m~\\Anaconda3\\lib\\http\\client.py\u001b[0m in \u001b[0;36mgetresponse\u001b[1;34m(self)\u001b[0m\n\u001b[0;32m   1369\u001b[0m         \u001b[1;32mtry\u001b[0m\u001b[1;33m:\u001b[0m\u001b[1;33m\u001b[0m\u001b[1;33m\u001b[0m\u001b[0m\n\u001b[0;32m   1370\u001b[0m             \u001b[1;32mtry\u001b[0m\u001b[1;33m:\u001b[0m\u001b[1;33m\u001b[0m\u001b[1;33m\u001b[0m\u001b[0m\n\u001b[1;32m-> 1371\u001b[1;33m                 \u001b[0mresponse\u001b[0m\u001b[1;33m.\u001b[0m\u001b[0mbegin\u001b[0m\u001b[1;33m(\u001b[0m\u001b[1;33m)\u001b[0m\u001b[1;33m\u001b[0m\u001b[1;33m\u001b[0m\u001b[0m\n\u001b[0m\u001b[0;32m   1372\u001b[0m             \u001b[1;32mexcept\u001b[0m \u001b[0mConnectionError\u001b[0m\u001b[1;33m:\u001b[0m\u001b[1;33m\u001b[0m\u001b[1;33m\u001b[0m\u001b[0m\n\u001b[0;32m   1373\u001b[0m                 \u001b[0mself\u001b[0m\u001b[1;33m.\u001b[0m\u001b[0mclose\u001b[0m\u001b[1;33m(\u001b[0m\u001b[1;33m)\u001b[0m\u001b[1;33m\u001b[0m\u001b[1;33m\u001b[0m\u001b[0m\n",
      "\u001b[1;32m~\\Anaconda3\\lib\\http\\client.py\u001b[0m in \u001b[0;36mbegin\u001b[1;34m(self)\u001b[0m\n\u001b[0;32m    317\u001b[0m         \u001b[1;31m# read until we get a non-100 response\u001b[0m\u001b[1;33m\u001b[0m\u001b[1;33m\u001b[0m\u001b[0m\n\u001b[0;32m    318\u001b[0m         \u001b[1;32mwhile\u001b[0m \u001b[1;32mTrue\u001b[0m\u001b[1;33m:\u001b[0m\u001b[1;33m\u001b[0m\u001b[1;33m\u001b[0m\u001b[0m\n\u001b[1;32m--> 319\u001b[1;33m             \u001b[0mversion\u001b[0m\u001b[1;33m,\u001b[0m \u001b[0mstatus\u001b[0m\u001b[1;33m,\u001b[0m \u001b[0mreason\u001b[0m \u001b[1;33m=\u001b[0m \u001b[0mself\u001b[0m\u001b[1;33m.\u001b[0m\u001b[0m_read_status\u001b[0m\u001b[1;33m(\u001b[0m\u001b[1;33m)\u001b[0m\u001b[1;33m\u001b[0m\u001b[1;33m\u001b[0m\u001b[0m\n\u001b[0m\u001b[0;32m    320\u001b[0m             \u001b[1;32mif\u001b[0m \u001b[0mstatus\u001b[0m \u001b[1;33m!=\u001b[0m \u001b[0mCONTINUE\u001b[0m\u001b[1;33m:\u001b[0m\u001b[1;33m\u001b[0m\u001b[1;33m\u001b[0m\u001b[0m\n\u001b[0;32m    321\u001b[0m                 \u001b[1;32mbreak\u001b[0m\u001b[1;33m\u001b[0m\u001b[1;33m\u001b[0m\u001b[0m\n",
      "\u001b[1;32m~\\Anaconda3\\lib\\http\\client.py\u001b[0m in \u001b[0;36m_read_status\u001b[1;34m(self)\u001b[0m\n\u001b[0;32m    278\u001b[0m \u001b[1;33m\u001b[0m\u001b[0m\n\u001b[0;32m    279\u001b[0m     \u001b[1;32mdef\u001b[0m \u001b[0m_read_status\u001b[0m\u001b[1;33m(\u001b[0m\u001b[0mself\u001b[0m\u001b[1;33m)\u001b[0m\u001b[1;33m:\u001b[0m\u001b[1;33m\u001b[0m\u001b[1;33m\u001b[0m\u001b[0m\n\u001b[1;32m--> 280\u001b[1;33m         \u001b[0mline\u001b[0m \u001b[1;33m=\u001b[0m \u001b[0mstr\u001b[0m\u001b[1;33m(\u001b[0m\u001b[0mself\u001b[0m\u001b[1;33m.\u001b[0m\u001b[0mfp\u001b[0m\u001b[1;33m.\u001b[0m\u001b[0mreadline\u001b[0m\u001b[1;33m(\u001b[0m\u001b[0m_MAXLINE\u001b[0m \u001b[1;33m+\u001b[0m \u001b[1;36m1\u001b[0m\u001b[1;33m)\u001b[0m\u001b[1;33m,\u001b[0m \u001b[1;34m\"iso-8859-1\"\u001b[0m\u001b[1;33m)\u001b[0m\u001b[1;33m\u001b[0m\u001b[1;33m\u001b[0m\u001b[0m\n\u001b[0m\u001b[0;32m    281\u001b[0m         \u001b[1;32mif\u001b[0m \u001b[0mlen\u001b[0m\u001b[1;33m(\u001b[0m\u001b[0mline\u001b[0m\u001b[1;33m)\u001b[0m \u001b[1;33m>\u001b[0m \u001b[0m_MAXLINE\u001b[0m\u001b[1;33m:\u001b[0m\u001b[1;33m\u001b[0m\u001b[1;33m\u001b[0m\u001b[0m\n\u001b[0;32m    282\u001b[0m             \u001b[1;32mraise\u001b[0m \u001b[0mLineTooLong\u001b[0m\u001b[1;33m(\u001b[0m\u001b[1;34m\"status line\"\u001b[0m\u001b[1;33m)\u001b[0m\u001b[1;33m\u001b[0m\u001b[1;33m\u001b[0m\u001b[0m\n",
      "\u001b[1;32m~\\Anaconda3\\lib\\socket.py\u001b[0m in \u001b[0;36mreadinto\u001b[1;34m(self, b)\u001b[0m\n\u001b[0;32m    702\u001b[0m         \u001b[1;32mwhile\u001b[0m \u001b[1;32mTrue\u001b[0m\u001b[1;33m:\u001b[0m\u001b[1;33m\u001b[0m\u001b[1;33m\u001b[0m\u001b[0m\n\u001b[0;32m    703\u001b[0m             \u001b[1;32mtry\u001b[0m\u001b[1;33m:\u001b[0m\u001b[1;33m\u001b[0m\u001b[1;33m\u001b[0m\u001b[0m\n\u001b[1;32m--> 704\u001b[1;33m                 \u001b[1;32mreturn\u001b[0m \u001b[0mself\u001b[0m\u001b[1;33m.\u001b[0m\u001b[0m_sock\u001b[0m\u001b[1;33m.\u001b[0m\u001b[0mrecv_into\u001b[0m\u001b[1;33m(\u001b[0m\u001b[0mb\u001b[0m\u001b[1;33m)\u001b[0m\u001b[1;33m\u001b[0m\u001b[1;33m\u001b[0m\u001b[0m\n\u001b[0m\u001b[0;32m    705\u001b[0m             \u001b[1;32mexcept\u001b[0m \u001b[0mtimeout\u001b[0m\u001b[1;33m:\u001b[0m\u001b[1;33m\u001b[0m\u001b[1;33m\u001b[0m\u001b[0m\n\u001b[0;32m    706\u001b[0m                 \u001b[0mself\u001b[0m\u001b[1;33m.\u001b[0m\u001b[0m_timeout_occurred\u001b[0m \u001b[1;33m=\u001b[0m \u001b[1;32mTrue\u001b[0m\u001b[1;33m\u001b[0m\u001b[1;33m\u001b[0m\u001b[0m\n",
      "\u001b[1;31mKeyboardInterrupt\u001b[0m: "
     ]
    }
   ],
   "source": [
    "driver2 = webdriver.Chrome('driver/chromedriver')\n",
    "driver.get('https://nid.naver.com/nidlogin.login?mode=form&url=https%3A%2F%2Fwww.naver.com')\n",
    "\n",
    "elem_login = driver.find_element_by_id('id')\n",
    "elem_login.clear()\n",
    "elem_login.send_keys('qkrwogns0')\n",
    "\n",
    "elem_login = driver.find_element_by_id('pw')\n",
    "elem_login.clear()\n",
    "elem_login.send_keys('dlskfk0928')\n",
    "driver.implicitly_wait(9)\n",
    "xpath = '''//*[@id = 'log.login']'''      \n",
    "driver.find_element_by_xpath(xpath).click()"
   ]
  },
  {
   "cell_type": "code",
   "execution_count": 295,
   "id": "d46ddaf7-350c-4531-8b88-c25ee7d908ee",
   "metadata": {},
   "outputs": [
    {
     "name": "stderr",
     "output_type": "stream",
     "text": [
      "C:\\Users\\qw\\AppData\\Local\\Temp/ipykernel_11652/959069152.py:4: DeprecationWarning: executable_path has been deprecated, please pass in a Service object\n",
      "  driver3 = webdriver.Chrome('driver/chromedriver')\n",
      "C:\\Users\\qw\\AppData\\Local\\Temp/ipykernel_11652/959069152.py:9: DeprecationWarning: find_element_by_* commands are deprecated. Please use find_element() instead\n",
      "  search_box = driver3.find_element_by_xpath('/html/body/div[1]/div[3]/form/div[1]/div[1]/div[1]/div[2]/div[2]/input')\n"
     ]
    }
   ],
   "source": [
    "from selenium.webdriver.common.keys import Keys\n",
    "\n",
    "\n",
    "driver3 = webdriver.Chrome('driver/chromedriver')\n",
    "driver3.implicitly_wait(5)\n",
    "\n",
    "driver3.get('https://www.google.com/')\n",
    "\n",
    "search_box = driver3.find_element_by_xpath('/html/body/div[1]/div[3]/form/div[1]/div[1]/div[1]/div[2]/div[2]/input')\n",
    "search_box.send_keys('iu')\n",
    "search_box.send_keys(Keys.RETURN)\n",
    "\n",
    "# xpa = ('/html/body/div[1]/div[3]/form/div[1]/div[1]/div[2]/div[2]/div[5]/center/input[1]')\n",
    "# search_box.find_element_by_xpath(xpa).click()    \n",
    "\n",
    "\n",
    "\n"
   ]
  },
  {
   "cell_type": "code",
   "execution_count": 321,
   "id": "49a7aff4-e818-4716-bdc8-f8973e8c2b9b",
   "metadata": {},
   "outputs": [
    {
     "name": "stderr",
     "output_type": "stream",
     "text": [
      "C:\\Users\\qw\\AppData\\Local\\Temp/ipykernel_11652/2009930252.py:1: DeprecationWarning: executable_path has been deprecated, please pass in a Service object\n",
      "  driver5 = webdriver.Chrome('driver/chromedriver')\n",
      "C:\\Users\\qw\\AppData\\Local\\Temp/ipykernel_11652/2009930252.py:5: DeprecationWarning: find_element_by_* commands are deprecated. Please use find_element() instead\n",
      "  facelog = driver5.find_element_by_id('email')\n",
      "C:\\Users\\qw\\AppData\\Local\\Temp/ipykernel_11652/2009930252.py:7: DeprecationWarning: find_element_by_* commands are deprecated. Please use find_element() instead\n",
      "  facelog = driver5.find_element_by_id('pass')\n"
     ]
    }
   ],
   "source": [
    "driver5 = webdriver.Chrome('driver/chromedriver')\n",
    "\n",
    "driver5.get('https://www.facebook.com/')\n",
    "\n",
    "facelog = driver5.find_element_by_id('email')\n",
    "facelog.send_keys('01067791548')\n",
    "facelog = driver5.find_element_by_id('pass')\n",
    "facelog.send_keys('dkdldb19@')\n",
    "facelog.send_keys(Keys.RETURN)\n"
   ]
  },
  {
   "cell_type": "code",
   "execution_count": null,
   "id": "e9038cb1-edab-4235-be72-95c82e166f60",
   "metadata": {},
   "outputs": [],
   "source": []
  },
  {
   "cell_type": "code",
   "execution_count": 439,
   "id": "5bb43042-aa4b-4bfc-ad75-791c69b64609",
   "metadata": {},
   "outputs": [
    {
     "name": "stderr",
     "output_type": "stream",
     "text": [
      "C:\\Users\\qw\\AppData\\Local\\Temp/ipykernel_11652/356897814.py:3: DeprecationWarning: executable_path has been deprecated, please pass in a Service object\n",
      "  coupang = webdriver.Chrome('driver/chromedriver')\n",
      "C:\\Users\\qw\\AppData\\Local\\Temp/ipykernel_11652/356897814.py:7: DeprecationWarning: find_element_by_* commands are deprecated. Please use find_element() instead\n",
      "  search = coupang.find_element_by_xpath('//*[@id=\"tSearch\"]/form/fieldset/input')\n",
      "C:\\Users\\qw\\AppData\\Local\\Temp/ipykernel_11652/356897814.py:11: DeprecationWarning: find_element_by_* commands are deprecated. Please use find_element() instead\n",
      "  coupang.find_element_by_xpath(selec).click()\n"
     ]
    },
    {
     "name": "stdout",
     "output_type": "stream",
     "text": [
      "[<selenium.webdriver.remote.webelement.WebElement (session=\"f593a23ae66535af9bb78808db70fd06\", element=\"568a0edf-0e21-46df-bbc0-d2aa677a3ce5\")>, <selenium.webdriver.remote.webelement.WebElement (session=\"f593a23ae66535af9bb78808db70fd06\", element=\"e5ec18cc-d69c-4ded-8c73-3615d35436ed\")>, <selenium.webdriver.remote.webelement.WebElement (session=\"f593a23ae66535af9bb78808db70fd06\", element=\"acc088aa-7658-4230-98e1-88245b14f399\")>, <selenium.webdriver.remote.webelement.WebElement (session=\"f593a23ae66535af9bb78808db70fd06\", element=\"97e8c4aa-41cc-4c05-9db0-d7883e903936\")>, <selenium.webdriver.remote.webelement.WebElement (session=\"f593a23ae66535af9bb78808db70fd06\", element=\"0f9ba919-7541-496a-9a73-7661183d00d7\")>, <selenium.webdriver.remote.webelement.WebElement (session=\"f593a23ae66535af9bb78808db70fd06\", element=\"a4d68fd5-02b5-4c57-893c-295785c1f9b6\")>, <selenium.webdriver.remote.webelement.WebElement (session=\"f593a23ae66535af9bb78808db70fd06\", element=\"f1a00275-5c1e-44b1-bb42-b4e001b39769\")>]\n"
     ]
    },
    {
     "name": "stderr",
     "output_type": "stream",
     "text": [
      "C:\\Users\\qw\\AppData\\Local\\Temp/ipykernel_11652/356897814.py:13: DeprecationWarning: find_elements_by_* commands are deprecated. Please use find_elements() instead\n",
      "  ra_li = coupang.find_elements_by_css_selector('#layBodyWrap > div > div > div.l_search_content > div > section:nth-child(4) > ul > li')\n"
     ]
    }
   ],
   "source": [
    "from time import sleep\n",
    "\n",
    "coupang = webdriver.Chrome('driver/chromedriver')\n",
    "\n",
    "coupang.get('https://www.11st.co.kr/?gclid=Cj0KCQiAoNWOBhCwARIsAAiHnEj5aLPV6sivW7MU2vFUL137SAnR_pjoKjGgFdr4y5fAdkNzskJ_ZTkaAqruEALw_wcB&utm_term=E_11%B9%F8%B0%A1.&utm_campaign=%C0%CF%C4%A1+PC&utm_source=%B1%B8%B1%DB_PC_S&utm_medium=%B0%CB%BB%F6')\n",
    "\n",
    "search = coupang.find_element_by_xpath('//*[@id=\"tSearch\"]/form/fieldset/input')\n",
    "search.send_keys('라면')\n",
    "ramyeoun = search.send_keys(Keys.RETURN)\n",
    "selec = '''//*[@id=\"layBodyWrap\"]/div/div/div[3]/section/div[8]/div[2]/ul/li[1]/span'''\n",
    "coupang.find_element_by_xpath(selec).click()\n",
    "\n",
    "ra_li = coupang.find_elements_by_css_selector('#layBodyWrap > div > div > div.l_search_content > div > section:nth-child(4) > ul > li')\n",
    "print(ra_li)"
   ]
  },
  {
   "cell_type": "code",
   "execution_count": 440,
   "id": "745ba65f-db18-4575-9695-a40f91ee2a8b",
   "metadata": {},
   "outputs": [
    {
     "name": "stdout",
     "output_type": "stream",
     "text": [
      "상품에 적용된 프로모션\n",
      "↓즉시할인중\n",
      "범국민설\n",
      "[본사]더미식 장인라면 모음전\n",
      "판매자 평점 별5개 중 4.3개\n",
      "리뷰590건\n",
      "판매가\n",
      "14,960원~\n",
      "무료배송\n",
      "SK pay 최대 299P적립\n",
      "찜하기\n",
      "더미식\n",
      "__________________________________________________\n",
      "상품에 적용된 프로모션\n",
      "↓즉시할인중\n",
      "범국민설\n",
      "[본사] 더미식 장인라면 얼큰담백 혼합 (얼큰 8개 담백 4개)\n",
      "판매자 평점 별5개 중 4.4개\n",
      "리뷰203건\n",
      "판매가\n",
      "22,440원\n",
      "무료배송\n",
      "SK pay 최대 448P적립\n",
      "찜하기\n",
      "더미식\n",
      "오늘발송 (평일10시까지)\n",
      "__________________________________________________\n",
      "상품에 적용된 프로모션\n",
      "↓즉시할인중\n",
      "범국민설\n",
      "[본사] 더미식 장인라면 얼큰담백 혼합 (얼큰한맛 4개 담백한맛 4개)\n",
      "판매자 평점 별5개 중 4.1개\n",
      "리뷰52건\n",
      "판매가\n",
      "14,960원\n",
      "배송비 3,000원\n",
      "SK pay 최대 299P적립\n",
      "찜하기\n",
      "더미식\n",
      "오늘발송 (평일10시까지)\n",
      "__________________________________________________\n",
      "삼양라면 20봉 1BOX/야식/간식/멀티\n",
      "판매자 평점 별5개 중 4.6개\n",
      "리뷰61건\n",
      "판매가\n",
      "14,900원\n",
      "객단가\n",
      "745원/개당\n",
      "배송비 3,000원\n",
      "SK pay 최대 298P적립 L.POINT적립\n",
      "찜하기\n",
      "스낵월드\n",
      "__________________________________________________\n",
      "세상에서 가장 맛있게 매운 염라대왕라면 124g 3개\n",
      "판매자 평점 별5개 중 4.3개\n",
      "리뷰11건\n",
      "판매가\n",
      "8,800원\n",
      "객단가\n",
      "2,933원/개당\n",
      "무료배송\n",
      "SK pay 최대 176P적립\n",
      "찜하기\n",
      "호야네점빵\n",
      "오늘발송 (평일10시까지)\n",
      "__________________________________________________\n",
      "스낵면 5봉외 100종 최다구성 신라면 진라면 안성탕면 너구리 짜파게티 불닭볶음면 팔도비빔면 삼양라면\n",
      "판매자 평점 별5개 중 4.6개\n",
      "리뷰42,424건\n",
      "판매가\n",
      "2,550원~\n",
      "배송비 3,000원(수량별차등)\n",
      "SK pay 최대 51P적립 L.POINT적립\n",
      "찜하기\n",
      "킹스랜드\n",
      "__________________________________________________\n",
      "라면스틱 라면국물 스프 분말타입 20스틱\n",
      "판매자 평점 별5개 중 4.6개\n",
      "리뷰14건\n",
      "판매가\n",
      "9,900원\n",
      "배송비 2,500원\n",
      "SK pay 최대 198P적립\n",
      "찜하기\n",
      "주식회사초록마루\n",
      "__________________________________________________\n"
     ]
    }
   ],
   "source": [
    "\n",
    "for g in ra_li:\n",
    "    print(g.text)\n",
    "    print('_'*50)\n",
    "    \n",
    "    # aa = g.find_elements_by_css_selector('c_prd_thumb')\n",
    "    # print(aa)\n",
    "    "
   ]
  },
  {
   "cell_type": "code",
   "execution_count": null,
   "id": "9223f62a-71ed-4e97-b56b-210bacc91b78",
   "metadata": {},
   "outputs": [],
   "source": []
  }
 ],
 "metadata": {
  "kernelspec": {
   "display_name": "Python 3 (ipykernel)",
   "language": "python",
   "name": "python3"
  },
  "language_info": {
   "codemirror_mode": {
    "name": "ipython",
    "version": 3
   },
   "file_extension": ".py",
   "mimetype": "text/x-python",
   "name": "python",
   "nbconvert_exporter": "python",
   "pygments_lexer": "ipython3",
   "version": "3.9.7"
  }
 },
 "nbformat": 4,
 "nbformat_minor": 5
}
