{
 "cells": [
  {
   "cell_type": "markdown",
   "id": "7a17ca20-7c96-4aa3-854f-86c46e6f9304",
   "metadata": {},
   "source": [
    "# Day 01"
   ]
  },
  {
   "cell_type": "code",
   "execution_count": 8,
   "id": "e455683f-2446-4849-b4e9-150c7293b442",
   "metadata": {},
   "outputs": [
    {
     "name": "stdout",
     "output_type": "stream",
     "text": [
      "1\n"
     ]
    }
   ],
   "source": [
    "print(1)"
   ]
  },
  {
   "cell_type": "code",
   "execution_count": 9,
   "id": "b84e370f-02af-4e38-8af0-00d43d5b76d7",
   "metadata": {},
   "outputs": [
    {
     "name": "stdout",
     "output_type": "stream",
     "text": [
      "3.0\n"
     ]
    }
   ],
   "source": [
    "print(3.0)"
   ]
  },
  {
   "cell_type": "code",
   "execution_count": 10,
   "id": "84f5c32a-6469-491f-b70c-13612bbae172",
   "metadata": {},
   "outputs": [
    {
     "name": "stdout",
     "output_type": "stream",
     "text": [
      "5.0\n"
     ]
    }
   ],
   "source": [
    "print(5.0)"
   ]
  },
  {
   "cell_type": "code",
   "execution_count": 11,
   "id": "ea5c8c0f-e41e-4157-9514-ee73b27f651b",
   "metadata": {},
   "outputs": [
    {
     "name": "stdout",
     "output_type": "stream",
     "text": [
      "안녕하세요\n"
     ]
    }
   ],
   "source": [
    "print('안녕하세요')"
   ]
  },
  {
   "cell_type": "code",
   "execution_count": 12,
   "id": "c858dbe7-e210-45ed-aabb-36d58f0416fe",
   "metadata": {},
   "outputs": [
    {
     "name": "stdout",
     "output_type": "stream",
     "text": [
      "안녕하세요 박재훈입니다\n"
     ]
    }
   ],
   "source": [
    "print('안녕하세요 박재훈입니다')"
   ]
  },
  {
   "cell_type": "code",
   "execution_count": 21,
   "id": "9c21d1cf-3582-4fec-9d62-40a626c8869c",
   "metadata": {},
   "outputs": [
    {
     "name": "stdout",
     "output_type": "stream",
     "text": [
      "내 이름은 \n",
      "박재훈입니다\n"
     ]
    }
   ],
   "source": [
    "print('내 이름은 \\n박재훈입니다') # \\n 줄바꿈"
   ]
  },
  {
   "cell_type": "code",
   "execution_count": 19,
   "id": "5966635d-059f-4142-82cf-539df51baca6",
   "metadata": {},
   "outputs": [
    {
     "name": "stdout",
     "output_type": "stream",
     "text": [
      "안녕하세요 박재훈입니다\n"
     ]
    }
   ],
   "source": [
    "print('안녕하세요 박재훈입니다')"
   ]
  },
  {
   "cell_type": "code",
   "execution_count": 22,
   "id": "16b905fb-bab7-4350-8e39-7fd668c0d071",
   "metadata": {},
   "outputs": [
    {
     "name": "stdout",
     "output_type": "stream",
     "text": [
      "안녕하세요 \t박재훈입니다\n"
     ]
    }
   ],
   "source": [
    "print('안녕하세요 \\t박재훈입니다') # \\t 탭문자"
   ]
  },
  {
   "cell_type": "code",
   "execution_count": 23,
   "id": "022d9b53-aa77-4664-a429-7394a6fc405b",
   "metadata": {},
   "outputs": [
    {
     "name": "stdin",
     "output_type": "stream",
     "text": [
      "나이는 23살입니다\n"
     ]
    },
    {
     "data": {
      "text/plain": [
       "'23살입니다'"
      ]
     },
     "execution_count": 23,
     "metadata": {},
     "output_type": "execute_result"
    }
   ],
   "source": [
    "input('나이는')"
   ]
  },
  {
   "cell_type": "code",
   "execution_count": 25,
   "id": "7a6cf7b5-77b9-49b8-8508-46b2fbbfa838",
   "metadata": {},
   "outputs": [
    {
     "name": "stdout",
     "output_type": "stream",
     "text": [
      "안녕\n",
      "안녕\n"
     ]
    }
   ],
   "source": [
    "print('안녕') ; print('안녕')"
   ]
  },
  {
   "cell_type": "code",
   "execution_count": 28,
   "id": "a53201f2-eaa8-4529-90cf-7c9aca8b5364",
   "metadata": {},
   "outputs": [
    {
     "name": "stdout",
     "output_type": "stream",
     "text": [
      "ADULT\n"
     ]
    }
   ],
   "source": [
    "age = 20\n",
    "if(age >= 20) :\n",
    "    print('ADULT')"
   ]
  },
  {
   "cell_type": "code",
   "execution_count": 32,
   "id": "f0698731-84ad-47d7-a2c6-07e520395d17",
   "metadata": {},
   "outputs": [
    {
     "name": "stdout",
     "output_type": "stream",
     "text": [
      "프린트 끝\n"
     ]
    }
   ],
   "source": [
    "age = 10\n",
    "if(age >= 20) :\n",
    "    print('ADULT')\n",
    "print( '프린트 끝')"
   ]
  },
  {
   "cell_type": "code",
   "execution_count": 33,
   "id": "ad71c516-03b6-4b8e-b9d8-77e58d757799",
   "metadata": {},
   "outputs": [],
   "source": [
    "age = 10\n",
    "if(age >= 20) :\n",
    "    print('ADULT')\n",
    "    print( '프린트 끝')"
   ]
  },
  {
   "cell_type": "code",
   "execution_count": 34,
   "id": "9187e223-9ef2-4fac-af66-97265307f0c6",
   "metadata": {},
   "outputs": [],
   "source": [
    "age = 10\n",
    "\n",
    "# if(age >= 20) :\n",
    "#     print('ADULT')\n",
    "# print( '프린트 끝')"
   ]
  },
  {
   "cell_type": "code",
   "execution_count": 43,
   "id": "cc357555-ddd4-447b-9383-2f30c89b7d38",
   "metadata": {},
   "outputs": [
    {
     "name": "stdout",
     "output_type": "stream",
     "text": [
      "프린트 끝\n"
     ]
    }
   ],
   "source": [
    "# 주석입니다\n",
    "age = 10\n",
    "\n",
    "\"\"\"\n",
    "성인인지 확인하는 프로그램입니다\n",
    "\"\"\"\n",
    "'''\n",
    "'''\n",
    "if(age >= 20) :\n",
    "    print('ADULT') \n",
    "print( '프린트 끝')"
   ]
  },
  {
   "cell_type": "code",
   "execution_count": 2,
   "id": "e968114b-11b9-4eaa-a0a8-804630e18ee2",
   "metadata": {},
   "outputs": [
    {
     "name": "stdout",
     "output_type": "stream",
     "text": [
      "5.0\n"
     ]
    }
   ],
   "source": [
    "a = 5.0\n",
    "print(a)"
   ]
  },
  {
   "cell_type": "code",
   "execution_count": null,
   "id": "6a08fa4e-89ee-4e82-9f1c-e3b3946934a8",
   "metadata": {},
   "outputs": [],
   "source": []
  }
 ],
 "metadata": {
  "kernelspec": {
   "display_name": "Python 3 (ipykernel)",
   "language": "python",
   "name": "python3"
  },
  "language_info": {
   "codemirror_mode": {
    "name": "ipython",
    "version": 3
   },
   "file_extension": ".py",
   "mimetype": "text/x-python",
   "name": "python",
   "nbconvert_exporter": "python",
   "pygments_lexer": "ipython3",
   "version": "3.9.7"
  }
 },
 "nbformat": 4,
 "nbformat_minor": 5
}
