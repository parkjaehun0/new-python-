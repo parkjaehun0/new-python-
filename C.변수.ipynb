{
 "cells": [
  {
   "cell_type": "code",
   "execution_count": 12,
   "id": "f2730331-2c22-49a9-aa61-98a43aee62f1",
   "metadata": {},
   "outputs": [
    {
     "name": "stdout",
     "output_type": "stream",
     "text": [
      "5\n",
      "7\n",
      "<class 'int'>\n"
     ]
    }
   ],
   "source": [
    "a = 5\n",
    "print(a)\n",
    "a = 7\n",
    "print(a)\n",
    "# 3 = 5 3은 상수라 안됨.\n",
    "#print(3)\n",
    "print(type(a))"
   ]
  },
  {
   "cell_type": "code",
   "execution_count": 17,
   "id": "41e3ea41-1554-453b-ba6e-584a036812a6",
   "metadata": {},
   "outputs": [
    {
     "name": "stdout",
     "output_type": "stream",
     "text": [
      "3.0\n",
      "<class 'float'>\n",
      "hello\n",
      "<class 'str'>\n"
     ]
    }
   ],
   "source": [
    "b = 3.0\n",
    "print(b)\n",
    "print(type(b))\n",
    "\n",
    "b ='hello'\n",
    "print(b)\n",
    "\n",
    "print(type(b))"
   ]
  },
  {
   "cell_type": "code",
   "execution_count": 36,
   "id": "0005ff83-d1db-4d6d-a763-4b6ab5734795",
   "metadata": {},
   "outputs": [
    {
     "name": "stdout",
     "output_type": "stream",
     "text": [
      "12\n",
      "12\n",
      "-2\n",
      "-2\n",
      "35\n",
      "0.7142857142857143\n"
     ]
    }
   ],
   "source": [
    "a = 5\n",
    "b = 7\n",
    "\n",
    "print(a + b)\n",
    "\n",
    "c = a + b\n",
    "print(c)\n",
    "\n",
    "print(a - b)\n",
    "d = a - b\n",
    "print(d)\n",
    "\n",
    "e = a * b\n",
    "print(e)\n",
    "\n",
    "f = a / b\n",
    "print(f)"
   ]
  },
  {
   "cell_type": "code",
   "execution_count": 45,
   "id": "89635c13-2ead-478a-bf2e-e024be314cfc",
   "metadata": {},
   "outputs": [
    {
     "name": "stdout",
     "output_type": "stream",
     "text": [
      "40\n",
      "40\n",
      "<class 'int'>\n"
     ]
    }
   ],
   "source": [
    "a = 30\n",
    "b = 20\n",
    "c = a + b\n",
    "d = a - b\n",
    "print(c - d)\n",
    "\n",
    "a = 30\n",
    "b = 20\n",
    "c = (a + b) - (a - b)\n",
    "print(c)\n",
    "print(type(c))"
   ]
  },
  {
   "cell_type": "code",
   "execution_count": 1,
   "id": "92ce663b-4a94-4703-baa4-99b833964985",
   "metadata": {},
   "outputs": [
    {
     "name": "stdout",
     "output_type": "stream",
     "text": [
      "57\n",
      "<class 'str'>\n"
     ]
    }
   ],
   "source": [
    "a = '5'\n",
    "b = '7'\n",
    "print(a + b)\n",
    "c = a + b\n",
    "print(type(c))"
   ]
  },
  {
   "cell_type": "code",
   "execution_count": 15,
   "id": "76ad02d2-8c8c-4ae5-8e5c-8a4292f50076",
   "metadata": {},
   "outputs": [
    {
     "name": "stdin",
     "output_type": "stream",
     "text": [
      "숫자를 입력하세요 5\n",
      "숫자를 입력하세요 7\n"
     ]
    },
    {
     "name": "stdout",
     "output_type": "stream",
     "text": [
      "7\n",
      "<class 'str'>\n",
      "<class 'str'>\n",
      "57\n",
      "<class 'int'>\n",
      "<class 'float'>\n",
      "12.0\n"
     ]
    }
   ],
   "source": [
    "x = input('숫자를 입력하세요')\n",
    "y = input('숫자를 입력하세요')\n",
    "print(y)\n",
    "print(type(y))\n",
    "print(type(x))\n",
    "print(x + y)\n",
    "x = int(x)\n",
    "print(type(x))\n",
    "y = float(y)\n",
    "print(type(y))\n",
    "print(x + y)"
   ]
  },
  {
   "cell_type": "code",
   "execution_count": 3,
   "id": "489d7a36-5254-4229-a842-b25e65c71e88",
   "metadata": {},
   "outputs": [
    {
     "name": "stdin",
     "output_type": "stream",
     "text": [
      "영어점수를 입력하세요 55\n",
      "수학점수를 입력하세요 55\n",
      "국어점수를 입력하세요 44\n"
     ]
    },
    {
     "name": "stdout",
     "output_type": "stream",
     "text": [
      "<class 'int'>\n",
      "<class 'int'>\n",
      "<class 'int'>\n",
      "154\n",
      "내 점수는 154 입니다.\n",
      "51.333333333333336\n",
      "--------------------------------------------------\n",
      "내 총점은 154 이고 평균은 51.33 입니다.\n",
      "<class 'float'>\n",
      "<class 'int'>\n",
      "51\n"
     ]
    }
   ],
   "source": [
    "x = input('영어점수를 입력하세요')\n",
    "y = input('수학점수를 입력하세요')\n",
    "z = input('국어점수를 입력하세요')\n",
    "x = int(x)\n",
    "y = int(y)\n",
    "z = int(z)\n",
    "print(type(x))\n",
    "print(type(y))\n",
    "print(type(z))\n",
    "print(x + y + z)\n",
    "avg = x + y + z\n",
    "print('내 점수는 %d 입니다.' % avg) # 숫자와 문자열을 같이 쓰려면 %d는 정수\n",
    "print(avg/3)\n",
    "d = avg/3\n",
    "print('-'*50)\n",
    "print('내 총점은 %d 이고 평균은 %.2f 입니다.' % (avg, d)) # %f는 실수  %.2 = 소수점 둘째 자리까지 쓰는것을 의미\n",
    "print(type(avg/3))\n",
    "d = int(d)\n",
    "print(type(d))\n",
    "print(d)"
   ]
  },
  {
   "cell_type": "code",
   "execution_count": 29,
   "id": "0a7aa387-76a4-4bb9-b7b9-65f4e58a5d6f",
   "metadata": {},
   "outputs": [
    {
     "name": "stdin",
     "output_type": "stream",
     "text": [
      "이름을 입력하세요 박재훈\n"
     ]
    },
    {
     "name": "stdout",
     "output_type": "stream",
     "text": [
      "내 이름은 박재훈 입니다\n"
     ]
    }
   ],
   "source": [
    "name = input('이름을 입력하세요')\n",
    "print('내 이름은 ' + name + ' 입니다')"
   ]
  },
  {
   "cell_type": "code",
   "execution_count": 35,
   "id": "a4985cc2-3d0a-40ca-bd99-82e904d52ffe",
   "metadata": {},
   "outputs": [
    {
     "name": "stdin",
     "output_type": "stream",
     "text": [
      "이름을 입력하세요 이xx\n",
      "국어 점수를 입력하세요 100\n",
      "수학 점수를 입력하세요 30\n",
      "영어 점수를 입력하세요 50\n"
     ]
    },
    {
     "name": "stdout",
     "output_type": "stream",
     "text": [
      "이름\t국어\t영어\t수학\t 총점\t 평균\n",
      "--------------------------------------------------\n",
      "이xx \t 100 \t 50 \t 30 \t 180 \t 60.0\n"
     ]
    }
   ],
   "source": [
    "student = input('이름을 입력하세요')\n",
    "korean = int(input('국어 점수를 입력하세요'))\n",
    "math = int(input('수학 점수를 입력하세요'))\n",
    "english = int(input('영어 점수를 입력하세요'))\n",
    "\n",
    "jumsu = korean + math + english\n",
    "avg = jumsu/3\n",
    "\n",
    "print('이름\\t국어\\t영어\\t수학\\t 총점\\t 평균')\n",
    "print('-'*50)\n",
    "print('%s \\t %d \\t %d \\t %d \\t %d \\t %.1f' % (student, korean,  english, math, jumsu, avg)) # 문자열은 %s 라고 표시한다."
   ]
  },
  {
   "cell_type": "code",
   "execution_count": 30,
   "id": "4867ed72-5f11-475e-a29d-2811daf8bb37",
   "metadata": {},
   "outputs": [],
   "source": [
    "# + 는 덧셈연산자\n",
    "# - 는 뺄셈연산자\n",
    "# * 는 곱셈연산자\n",
    "# / 는 나눗셈연산자\n",
    "# // 는 나누기(몫)연산자\n",
    "# % 는 나눈 나머지연산자\n",
    "# ** 는 제곱연산자"
   ]
  },
  {
   "cell_type": "code",
   "execution_count": null,
   "id": "59c0b59a-b0e8-4116-ae3e-3e5c9693906e",
   "metadata": {},
   "outputs": [],
   "source": []
  },
  {
   "cell_type": "code",
   "execution_count": null,
   "id": "e1949370-10d5-4adb-ac68-b48bf8fb8c38",
   "metadata": {},
   "outputs": [],
   "source": []
  }
 ],
 "metadata": {
  "kernelspec": {
   "display_name": "Python 3 (ipykernel)",
   "language": "python",
   "name": "python3"
  },
  "language_info": {
   "codemirror_mode": {
    "name": "ipython",
    "version": 3
   },
   "file_extension": ".py",
   "mimetype": "text/x-python",
   "name": "python",
   "nbconvert_exporter": "python",
   "pygments_lexer": "ipython3",
   "version": "3.9.7"
  }
 },
 "nbformat": 4,
 "nbformat_minor": 5
}
