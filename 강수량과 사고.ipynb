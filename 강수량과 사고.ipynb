{
 "cells": [
  {
   "cell_type": "markdown",
   "id": "250dedc7-d193-4400-8004-3020d7f71902",
   "metadata": {
    "jp-MarkdownHeadingCollapsed": true,
    "tags": []
   },
   "source": [
    "# Import"
   ]
  },
  {
   "cell_type": "code",
   "execution_count": 13,
   "id": "846945b3-108e-456c-a3c3-08d6d4700fe1",
   "metadata": {},
   "outputs": [],
   "source": [
    "import pandas as pd\n",
    "import numpy as np\n",
    "import requests\n",
    "from bs4 import BeautifulSoup\n",
    "import matplotlib.pyplot as plt\n",
    "from selenium import webdriver\n",
    "import matplotlib.font_manager as fm"
   ]
  },
  {
   "cell_type": "markdown",
   "id": "a733eb4c-b6e4-4572-882d-eaba5bcffdca",
   "metadata": {
    "jp-MarkdownHeadingCollapsed": true,
    "tags": []
   },
   "source": [
    "# 2020년 사고 통계자료"
   ]
  },
  {
   "cell_type": "code",
   "execution_count": 321,
   "id": "6b8a7800-2f7a-4ba3-8878-1b265c4e7e0b",
   "metadata": {},
   "outputs": [
    {
     "data": {
      "text/plain": [
       "01월    16968\n",
       "02월    16285\n",
       "03월    14949\n",
       "04월    16186\n",
       "05월    18184\n",
       "06월    19017\n",
       "07월    18302\n",
       "08월    17616\n",
       "09월    18124\n",
       "10월    19255\n",
       "11월    18438\n",
       "12월    16330\n",
       "Name: 2020, dtype: int32"
      ]
     },
     "execution_count": 321,
     "metadata": {},
     "output_type": "execute_result"
    }
   ],
   "source": [
    "tong = pd.read_csv('Report.csv', '\\t') #, nrows = ['합계', '01월', '02월', '03월','04월','05월','06월','07월','08월','09월','10월','11월','12월'])\n",
    "tuong = tong.rename(index= {0:'합계',1:'01월',2:'02월',3:'03월',4:'04월',5:'05월',6:'06월',7:'07월',8:'08월',9:'09월',10:'10월',11:'11월',12:'12월'})\n",
    "acci = tuong.drop(columns = ['사고월'])\n",
    "acci\n",
    "accident = acci.T\n",
    "\n",
    "accide = accident.drop(columns = ['합계'])\n",
    "acc = accide.T\n",
    "ac = acc['2020'].astype(int)\n",
    "ac\n"
   ]
  },
  {
   "cell_type": "markdown",
   "id": "32812f1e-ec4d-4d25-b453-50251fd1970f",
   "metadata": {
    "jp-MarkdownHeadingCollapsed": true,
    "tags": []
   },
   "source": [
    "# 2020년 강수량 통계자료"
   ]
  },
  {
   "cell_type": "code",
   "execution_count": 324,
   "id": "4aefd203-f0f7-44b3-94aa-0b5cb7870ac2",
   "metadata": {},
   "outputs": [
    {
     "data": {
      "text/plain": [
       "1월      60.5\n",
       "2월      53.1\n",
       "3월      16.3\n",
       "4월      16.9\n",
       "5월     112.4\n",
       "6월     139.6\n",
       "7월     270.4\n",
       "8월     675.7\n",
       "9월     181.5\n",
       "10월      0.0\n",
       "11월    120.1\n",
       "12월      4.6\n",
       "Name: 합계, dtype: float64"
      ]
     },
     "execution_count": 324,
     "metadata": {},
     "output_type": "execute_result"
    }
   ],
   "source": [
    "weather = requests.get('https://www.weather.go.kr/weather/climate/past_table.jsp?stn=108&yy=2020&obs=21&x=25&y=11')\n",
    "html_doc = weather.text\n",
    "\n",
    "soup = BeautifulSoup(html_doc, 'html.parser')\n",
    "tables = soup.select('#content_weather > table')\n",
    "table_html = str(tables)\n",
    "table_df_list = pd.read_html(table_html)\n",
    "\n",
    "\n",
    "table_df = table_df_list[0]\n",
    "table_df\n",
    "tdf = table_df.fillna(value = 0)\n",
    "final = tdf.rename(index= {0:'1일',1:'2일',2:'3일',3:'4일',4:'5일',5:'6일',6:'7일',7:'8일',8:'9일',9:'10일',10:'11일',11:'12일',12:'13일',\\\n",
    "                  13:'14일',14:'15일',15:'16일',16:'17일',17:'18일',18:'19일',19:'20일',20:'21일',21:'22일',22:'23일',23:'24일',24:'25일',25:'26일',\\\n",
    "                  26:'27일',27:'28일',28:'29일',29:'30일',30:'31일',31:'합계'})\n",
    "\n",
    "the_final = final.drop(columns=['Unnamed: 0'])\n",
    "\n",
    "\n",
    "# 데이터 프레임 합계컬럼 갖고오기\n",
    "ac1 = the_final.T\n",
    "ac_1 = ac1['합계']\n",
    "ac_1"
   ]
  },
  {
   "cell_type": "markdown",
   "id": "1bb1060e-bba5-44ac-bf3e-8289658301c7",
   "metadata": {
    "jp-MarkdownHeadingCollapsed": true,
    "tags": []
   },
   "source": [
    "# 2019년 사고 통계자료"
   ]
  },
  {
   "cell_type": "code",
   "execution_count": 322,
   "id": "883b7aa1-76d5-4512-86d4-1e2db968572c",
   "metadata": {},
   "outputs": [
    {
     "name": "stdout",
     "output_type": "stream",
     "text": [
      "<class 'pandas.core.frame.DataFrame'>\n",
      "Index: 1 entries, 2019 to 2019\n",
      "Data columns (total 12 columns):\n",
      " #   Column  Non-Null Count  Dtype\n",
      "---  ------  --------------  -----\n",
      " 0   01월     1 non-null      int64\n",
      " 1   02월     1 non-null      int64\n",
      " 2   03월     1 non-null      int64\n",
      " 3   04월     1 non-null      int64\n",
      " 4   05월     1 non-null      int64\n",
      " 5   06월     1 non-null      int64\n",
      " 6   07월     1 non-null      int64\n",
      " 7   08월     1 non-null      int64\n",
      " 8   09월     1 non-null      int64\n",
      " 9   10월     1 non-null      int64\n",
      " 10  11월     1 non-null      int64\n",
      " 11  12월     1 non-null      int64\n",
      "dtypes: int64(12)\n",
      "memory usage: 104.0+ bytes\n"
     ]
    },
    {
     "data": {
      "text/plain": [
       "01월    16552\n",
       "02월    14752\n",
       "03월    18133\n",
       "04월    19104\n",
       "05월    20779\n",
       "06월    18968\n",
       "07월    19234\n",
       "08월    19992\n",
       "09월    19331\n",
       "10월    21690\n",
       "11월    21517\n",
       "12월    19548\n",
       "Name: 2019, dtype: int32"
      ]
     },
     "execution_count": 322,
     "metadata": {},
     "output_type": "execute_result"
    }
   ],
   "source": [
    "sago = pd.read_csv('Report1.csv', '\\t')\n",
    "sago_cs = sago.rename(index= {0:'합계',1:'01월',2:'02월',3:'03월',4:'04월',5:'05월',6:'06월',7:'07월',8:'08월',9:'09월',10:'10월',11:'11월',12:'12월'})\n",
    "sago_20 = sago_cs.drop(columns = ['사고월'])\n",
    "sago_T = sago_20.T\n",
    "sago_T.drop(columns = ['합계'], inplace = True)\n",
    "sago_T.info()\n",
    "sago_19 = sago_T.T\n",
    "\n",
    "\n",
    "\n",
    "sago_2019 = sago_19['2019'].astype(int)\n",
    "sago_2019"
   ]
  },
  {
   "cell_type": "markdown",
   "id": "4220f922-d16f-4649-bbae-e3516c090e1b",
   "metadata": {
    "jp-MarkdownHeadingCollapsed": true,
    "tags": []
   },
   "source": [
    "# 2019년 강수량 통계자료"
   ]
  },
  {
   "cell_type": "code",
   "execution_count": 325,
   "id": "19ff1465-6677-4113-bcdd-a677dcccfd2b",
   "metadata": {},
   "outputs": [
    {
     "data": {
      "text/plain": [
       "1월       0.0\n",
       "2월      23.8\n",
       "3월      26.8\n",
       "4월      47.3\n",
       "5월      37.8\n",
       "6월      74.4\n",
       "7월     194.4\n",
       "8월     190.5\n",
       "9월     139.8\n",
       "10월     55.5\n",
       "11월     78.8\n",
       "12월     22.6\n",
       "Name: 합계, dtype: float64"
      ]
     },
     "execution_count": 325,
     "metadata": {},
     "output_type": "execute_result"
    }
   ],
   "source": [
    "weather1 = requests.get('https://www.weather.go.kr/weather/climate/past_table.jsp?stn=108&yy=2019&obs=21&x=19&y=6')\n",
    "html_doc1 = weather1.text\n",
    "\n",
    "soup1 = BeautifulSoup(html_doc1, 'html.parser')\n",
    "tables1 = soup1.select('#content_weather > table')\n",
    "table_html1 = str(tables1)\n",
    "table_df_list1 = pd.read_html(table_html1)\n",
    "\n",
    "\n",
    "table_df1 = table_df_list1[0]\n",
    "tdf1 = table_df1.fillna(value = 0)\n",
    "final1 = tdf1.rename(index= {0:'1일',1:'2일',2:'3일',3:'4일',4:'5일',5:'6일',6:'7일',7:'8일',8:'9일',9:'10일',10:'11일',11:'12일',12:'13일',\\\n",
    "                  13:'14일',14:'15일',15:'16일',16:'17일',17:'18일',18:'19일',19:'20일',20:'21일',21:'22일',22:'23일',23:'24일',24:'25일',25:'26일',\\\n",
    "                  26:'27일',27:'28일',28:'29일',29:'30일',30:'31일',31:'합계'})\n",
    "\n",
    "the_final1 = final1.drop(columns=['Unnamed: 0'])\n",
    "the_final1\n",
    "\n",
    "# 데이터 프레임 합계컬럼 갖고오기\n",
    "ac2 = the_final1.T\n",
    "ac_2 = ac2['합계']\n",
    "ac_2"
   ]
  },
  {
   "cell_type": "markdown",
   "id": "8435e0ce-980d-4a77-843f-4974072d13e5",
   "metadata": {
    "jp-MarkdownHeadingCollapsed": true,
    "tags": []
   },
   "source": [
    "# 2018년 사고 통계자료"
   ]
  },
  {
   "cell_type": "code",
   "execution_count": 326,
   "id": "b7cf359b-5c94-4b9e-96dd-7ae2e0bebcf9",
   "metadata": {},
   "outputs": [
    {
     "name": "stdout",
     "output_type": "stream",
     "text": [
      "<class 'pandas.core.frame.DataFrame'>\n",
      "Index: 13 entries, 합계 to 12월\n",
      "Data columns (total 1 columns):\n",
      " #   Column  Non-Null Count  Dtype\n",
      "---  ------  --------------  -----\n",
      " 0   2018    13 non-null     int64\n",
      "dtypes: int64(1)\n",
      "memory usage: 208.0+ bytes\n"
     ]
    },
    {
     "data": {
      "text/plain": [
       "01월    17026\n",
       "02월    16208\n",
       "03월    17022\n",
       "04월    17992\n",
       "05월    18636\n",
       "06월    18082\n",
       "07월    18699\n",
       "08월    18335\n",
       "09월    18371\n",
       "10월    19738\n",
       "11월    19029\n",
       "12월    18010\n",
       "Name: 2018, dtype: int32"
      ]
     },
     "execution_count": 326,
     "metadata": {},
     "output_type": "execute_result"
    }
   ],
   "source": [
    "sago1 = pd.read_csv('Report2.csv', '\\t')\n",
    "sago_cs1 = sago1.rename(index= {0:'합계',1:'01월',2:'02월',3:'03월',4:'04월',5:'05월',6:'06월',7:'07월',8:'08월',9:'09월',10:'10월',11:'11월',12:'12월'})\n",
    "sago_201 = sago_cs1.drop(columns = ['사고월'])\n",
    "sago_201.info()\n",
    "sago_T1 = sago_201.T\n",
    "sago_T1.drop(columns = ['합계'], inplace = True)\n",
    "sago_T1\n",
    "sago_18 = sago_T1.T\n",
    "sago_18\n",
    "sago_2018 = sago_18['2018'].astype(int)\n",
    "sago_2018"
   ]
  },
  {
   "cell_type": "markdown",
   "id": "1157df79-2afe-4971-981b-168c57625ba5",
   "metadata": {
    "jp-MarkdownHeadingCollapsed": true,
    "tags": []
   },
   "source": [
    "# 2018년 강수량 통계자료"
   ]
  },
  {
   "cell_type": "code",
   "execution_count": 327,
   "id": "946e8de3-c229-4849-a14b-3dc991618d91",
   "metadata": {},
   "outputs": [
    {
     "data": {
      "text/plain": [
       "1월       8.5\n",
       "2월      29.6\n",
       "3월      49.5\n",
       "4월     130.3\n",
       "5월     222.0\n",
       "6월     171.5\n",
       "7월     185.6\n",
       "8월     202.6\n",
       "9월      68.5\n",
       "10월    120.5\n",
       "11월     79.1\n",
       "12월     16.4\n",
       "Name: 합계, dtype: float64"
      ]
     },
     "execution_count": 327,
     "metadata": {},
     "output_type": "execute_result"
    }
   ],
   "source": [
    "weather2 = requests.get('https://www.weather.go.kr/weather/climate/past_table.jsp?stn=108&yy=2018&obs=21&x=23&y=13')\n",
    "html_doc2 = weather2.text\n",
    "\n",
    "soup2 = BeautifulSoup(html_doc2, 'html.parser')\n",
    "tables2 = soup2.select('#content_weather > table')\n",
    "table_html2 = str(tables2)\n",
    "table_df_list2 = pd.read_html(table_html2)\n",
    "\n",
    "\n",
    "table_df2 = table_df_list2[0]\n",
    "tdf2 = table_df2.fillna(value = 0)\n",
    "final2 = tdf2.rename(index= {0:'1일',1:'2일',2:'3일',3:'4일',4:'5일',5:'6일',6:'7일',7:'8일',8:'9일',9:'10일',10:'11일',11:'12일',12:'13일',\\\n",
    "                  13:'14일',14:'15일',15:'16일',16:'17일',17:'18일',18:'19일',19:'20일',20:'21일',21:'22일',22:'23일',23:'24일',24:'25일',25:'26일',\\\n",
    "                  26:'27일',27:'28일',28:'29일',29:'30일',30:'31일',31:'합계'})\n",
    "\n",
    "the_final2 = final2.drop(columns=['Unnamed: 0'])\n",
    "the_final2\n",
    "\n",
    "# 데이터 프레임 합계컬럼 갖고오기\n",
    "ac3 = the_final2.T\n",
    "ac_3 = ac3['합계']\n",
    "ac_3\n"
   ]
  },
  {
   "cell_type": "markdown",
   "id": "4da44933-52da-411f-958e-559c5771568a",
   "metadata": {
    "jp-MarkdownHeadingCollapsed": true,
    "tags": []
   },
   "source": [
    "# 2017년 사고 통계자료"
   ]
  },
  {
   "cell_type": "code",
   "execution_count": 328,
   "id": "a1d09578-93a9-4e24-9123-0e8af8daa950",
   "metadata": {},
   "outputs": [
    {
     "name": "stdout",
     "output_type": "stream",
     "text": [
      "<class 'pandas.core.frame.DataFrame'>\n",
      "Index: 13 entries, 합계 to 12월\n",
      "Data columns (total 1 columns):\n",
      " #   Column  Non-Null Count  Dtype\n",
      "---  ------  --------------  -----\n",
      " 0   2017    13 non-null     int64\n",
      "dtypes: int64(1)\n",
      "memory usage: 208.0+ bytes\n"
     ]
    },
    {
     "data": {
      "text/plain": [
       "01월    16970\n",
       "02월    14832\n",
       "03월    17047\n",
       "04월    17717\n",
       "05월    18502\n",
       "06월    18047\n",
       "07월    18158\n",
       "08월    18682\n",
       "09월    19891\n",
       "10월    18863\n",
       "11월    19377\n",
       "12월    18249\n",
       "Name: 2017, dtype: int32"
      ]
     },
     "execution_count": 328,
     "metadata": {},
     "output_type": "execute_result"
    }
   ],
   "source": [
    "sago2 = pd.read_csv('Report3.csv', '\\t')\n",
    "sago_cs2 = sago2.rename(index= {0:'합계',1:'01월',2:'02월',3:'03월',4:'04월',5:'05월',6:'06월',7:'07월',8:'08월',9:'09월',10:'10월',11:'11월',12:'12월'})\n",
    "sago_cs2\n",
    "sago_202 = sago_cs2.drop(columns = ['사고월'])\n",
    "sago_202.info()\n",
    "sago_T2 = sago_202.T\n",
    "sago_T2.drop(columns = ['합계'], inplace = True)\n",
    "sago_T2\n",
    "sago_192 = sago_T2.T\n",
    "sago_2017 = sago_192['2017'].astype(int)\n",
    "sago_2017"
   ]
  },
  {
   "cell_type": "markdown",
   "id": "c4a7016a-5b04-44a6-a891-5362e7146ee1",
   "metadata": {
    "jp-MarkdownHeadingCollapsed": true,
    "tags": []
   },
   "source": [
    "# 2017년 강수량 통계자료"
   ]
  },
  {
   "cell_type": "code",
   "execution_count": 329,
   "id": "c8e6dad1-fe00-4e62-8449-3b6b19d728d6",
   "metadata": {},
   "outputs": [
    {
     "data": {
      "text/plain": [
       "1월      14.9\n",
       "2월      11.1\n",
       "3월       7.9\n",
       "4월      61.6\n",
       "5월      16.1\n",
       "6월      66.6\n",
       "7월     621.0\n",
       "8월     297.0\n",
       "9월      35.0\n",
       "10월     26.5\n",
       "11월     40.7\n",
       "12월     34.8\n",
       "Name: 합계, dtype: float64"
      ]
     },
     "execution_count": 329,
     "metadata": {},
     "output_type": "execute_result"
    }
   ],
   "source": [
    "weather21 = requests.get('https://www.weather.go.kr/weather/climate/past_table.jsp?stn=108&yy=2017&obs=21&x=34&y=10')\n",
    "html_doc12 = weather21.text\n",
    "\n",
    "soup12 = BeautifulSoup(html_doc12, 'html.parser')\n",
    "tables12 = soup12.select('#content_weather > table')\n",
    "table_html12 = str(tables12)\n",
    "table_df_list12 = pd.read_html(table_html12)\n",
    "\n",
    "\n",
    "table_df12 = table_df_list12[0]\n",
    "tdf12 = table_df12.fillna(value = 0)\n",
    "final12 = tdf12.rename(index= {0:'1일',1:'2일',2:'3일',3:'4일',4:'5일',5:'6일',6:'7일',7:'8일',8:'9일',9:'10일',10:'11일',11:'12일',12:'13일',\\\n",
    "                  13:'14일',14:'15일',15:'16일',16:'17일',17:'18일',18:'19일',19:'20일',20:'21일',21:'22일',22:'23일',23:'24일',24:'25일',25:'26일',\\\n",
    "                  26:'27일',27:'28일',28:'29일',29:'30일',30:'31일',31:'합계'})\n",
    "\n",
    "the_final12 = final12.drop(columns=['Unnamed: 0'])\n",
    "the_final12\n",
    "\n",
    "\n",
    "# 데이터 프레임 합계컬럼 갖고오기\n",
    "ac4 = the_final12.T\n",
    "ac_4 = ac4['합계']\n",
    "ac_4"
   ]
  },
  {
   "cell_type": "markdown",
   "id": "9dc5b816-e828-42e1-bdda-bec2febf533c",
   "metadata": {
    "jp-MarkdownHeadingCollapsed": true,
    "tags": []
   },
   "source": [
    "# 2017~2020년 강수,사고량 데이터프레임"
   ]
  },
  {
   "cell_type": "code",
   "execution_count": 342,
   "id": "2e314d1d-c287-40b3-8536-c3036267eb0a",
   "metadata": {},
   "outputs": [
    {
     "data": {
      "text/html": [
       "<div>\n",
       "<style scoped>\n",
       "    .dataframe tbody tr th:only-of-type {\n",
       "        vertical-align: middle;\n",
       "    }\n",
       "\n",
       "    .dataframe tbody tr th {\n",
       "        vertical-align: top;\n",
       "    }\n",
       "\n",
       "    .dataframe thead th {\n",
       "        text-align: right;\n",
       "    }\n",
       "</style>\n",
       "<table border=\"1\" class=\"dataframe\">\n",
       "  <thead>\n",
       "    <tr style=\"text-align: right;\">\n",
       "      <th></th>\n",
       "      <th>2020강수량</th>\n",
       "      <th>2019강수량</th>\n",
       "      <th>2018강수량</th>\n",
       "      <th>2017강수량</th>\n",
       "    </tr>\n",
       "  </thead>\n",
       "  <tbody>\n",
       "    <tr>\n",
       "      <th>1월</th>\n",
       "      <td>60.5</td>\n",
       "      <td>0.0</td>\n",
       "      <td>8.5</td>\n",
       "      <td>14.9</td>\n",
       "    </tr>\n",
       "    <tr>\n",
       "      <th>2월</th>\n",
       "      <td>53.1</td>\n",
       "      <td>23.8</td>\n",
       "      <td>29.6</td>\n",
       "      <td>11.1</td>\n",
       "    </tr>\n",
       "    <tr>\n",
       "      <th>3월</th>\n",
       "      <td>16.3</td>\n",
       "      <td>26.8</td>\n",
       "      <td>49.5</td>\n",
       "      <td>7.9</td>\n",
       "    </tr>\n",
       "    <tr>\n",
       "      <th>4월</th>\n",
       "      <td>16.9</td>\n",
       "      <td>47.3</td>\n",
       "      <td>130.3</td>\n",
       "      <td>61.6</td>\n",
       "    </tr>\n",
       "    <tr>\n",
       "      <th>5월</th>\n",
       "      <td>112.4</td>\n",
       "      <td>37.8</td>\n",
       "      <td>222.0</td>\n",
       "      <td>16.1</td>\n",
       "    </tr>\n",
       "    <tr>\n",
       "      <th>6월</th>\n",
       "      <td>139.6</td>\n",
       "      <td>74.4</td>\n",
       "      <td>171.5</td>\n",
       "      <td>66.6</td>\n",
       "    </tr>\n",
       "    <tr>\n",
       "      <th>7월</th>\n",
       "      <td>270.4</td>\n",
       "      <td>194.4</td>\n",
       "      <td>185.6</td>\n",
       "      <td>621.0</td>\n",
       "    </tr>\n",
       "    <tr>\n",
       "      <th>8월</th>\n",
       "      <td>675.7</td>\n",
       "      <td>190.5</td>\n",
       "      <td>202.6</td>\n",
       "      <td>297.0</td>\n",
       "    </tr>\n",
       "    <tr>\n",
       "      <th>9월</th>\n",
       "      <td>181.5</td>\n",
       "      <td>139.8</td>\n",
       "      <td>68.5</td>\n",
       "      <td>35.0</td>\n",
       "    </tr>\n",
       "    <tr>\n",
       "      <th>10월</th>\n",
       "      <td>0.0</td>\n",
       "      <td>55.5</td>\n",
       "      <td>120.5</td>\n",
       "      <td>26.5</td>\n",
       "    </tr>\n",
       "    <tr>\n",
       "      <th>11월</th>\n",
       "      <td>120.1</td>\n",
       "      <td>78.8</td>\n",
       "      <td>79.1</td>\n",
       "      <td>40.7</td>\n",
       "    </tr>\n",
       "    <tr>\n",
       "      <th>12월</th>\n",
       "      <td>4.6</td>\n",
       "      <td>22.6</td>\n",
       "      <td>16.4</td>\n",
       "      <td>34.8</td>\n",
       "    </tr>\n",
       "  </tbody>\n",
       "</table>\n",
       "</div>"
      ],
      "text/plain": [
       "     2020강수량  2019강수량  2018강수량  2017강수량\n",
       "1월      60.5      0.0      8.5     14.9\n",
       "2월      53.1     23.8     29.6     11.1\n",
       "3월      16.3     26.8     49.5      7.9\n",
       "4월      16.9     47.3    130.3     61.6\n",
       "5월     112.4     37.8    222.0     16.1\n",
       "6월     139.6     74.4    171.5     66.6\n",
       "7월     270.4    194.4    185.6    621.0\n",
       "8월     675.7    190.5    202.6    297.0\n",
       "9월     181.5    139.8     68.5     35.0\n",
       "10월      0.0     55.5    120.5     26.5\n",
       "11월    120.1     78.8     79.1     40.7\n",
       "12월      4.6     22.6     16.4     34.8"
      ]
     },
     "execution_count": 342,
     "metadata": {},
     "output_type": "execute_result"
    }
   ],
   "source": [
    "# 2017-2020 강수량\n",
    "rain_df = pd.DataFrame({'2020강수량' : ac_1,\n",
    "                        '2019강수량' : ac_2,\n",
    "                        '2018강수량' : ac_3,\n",
    "                        '2017강수량' : ac_4})\n",
    "rain_df"
   ]
  },
  {
   "cell_type": "code",
   "execution_count": 343,
   "id": "5b78ee52-e8c4-4eeb-9be6-2f0b11032647",
   "metadata": {},
   "outputs": [
    {
     "data": {
      "text/html": [
       "<div>\n",
       "<style scoped>\n",
       "    .dataframe tbody tr th:only-of-type {\n",
       "        vertical-align: middle;\n",
       "    }\n",
       "\n",
       "    .dataframe tbody tr th {\n",
       "        vertical-align: top;\n",
       "    }\n",
       "\n",
       "    .dataframe thead th {\n",
       "        text-align: right;\n",
       "    }\n",
       "</style>\n",
       "<table border=\"1\" class=\"dataframe\">\n",
       "  <thead>\n",
       "    <tr style=\"text-align: right;\">\n",
       "      <th></th>\n",
       "      <th>2020사고량</th>\n",
       "      <th>2019사고량</th>\n",
       "      <th>2018사고량</th>\n",
       "      <th>2017사고량</th>\n",
       "    </tr>\n",
       "  </thead>\n",
       "  <tbody>\n",
       "    <tr>\n",
       "      <th>01월</th>\n",
       "      <td>16968</td>\n",
       "      <td>16552</td>\n",
       "      <td>17026</td>\n",
       "      <td>16970</td>\n",
       "    </tr>\n",
       "    <tr>\n",
       "      <th>02월</th>\n",
       "      <td>16285</td>\n",
       "      <td>14752</td>\n",
       "      <td>16208</td>\n",
       "      <td>14832</td>\n",
       "    </tr>\n",
       "    <tr>\n",
       "      <th>03월</th>\n",
       "      <td>14949</td>\n",
       "      <td>18133</td>\n",
       "      <td>17022</td>\n",
       "      <td>17047</td>\n",
       "    </tr>\n",
       "    <tr>\n",
       "      <th>04월</th>\n",
       "      <td>16186</td>\n",
       "      <td>19104</td>\n",
       "      <td>17992</td>\n",
       "      <td>17717</td>\n",
       "    </tr>\n",
       "    <tr>\n",
       "      <th>05월</th>\n",
       "      <td>18184</td>\n",
       "      <td>20779</td>\n",
       "      <td>18636</td>\n",
       "      <td>18502</td>\n",
       "    </tr>\n",
       "    <tr>\n",
       "      <th>06월</th>\n",
       "      <td>19017</td>\n",
       "      <td>18968</td>\n",
       "      <td>18082</td>\n",
       "      <td>18047</td>\n",
       "    </tr>\n",
       "    <tr>\n",
       "      <th>07월</th>\n",
       "      <td>18302</td>\n",
       "      <td>19234</td>\n",
       "      <td>18699</td>\n",
       "      <td>18158</td>\n",
       "    </tr>\n",
       "    <tr>\n",
       "      <th>08월</th>\n",
       "      <td>17616</td>\n",
       "      <td>19992</td>\n",
       "      <td>18335</td>\n",
       "      <td>18682</td>\n",
       "    </tr>\n",
       "    <tr>\n",
       "      <th>09월</th>\n",
       "      <td>18124</td>\n",
       "      <td>19331</td>\n",
       "      <td>18371</td>\n",
       "      <td>19891</td>\n",
       "    </tr>\n",
       "    <tr>\n",
       "      <th>10월</th>\n",
       "      <td>19255</td>\n",
       "      <td>21690</td>\n",
       "      <td>19738</td>\n",
       "      <td>18863</td>\n",
       "    </tr>\n",
       "    <tr>\n",
       "      <th>11월</th>\n",
       "      <td>18438</td>\n",
       "      <td>21517</td>\n",
       "      <td>19029</td>\n",
       "      <td>19377</td>\n",
       "    </tr>\n",
       "    <tr>\n",
       "      <th>12월</th>\n",
       "      <td>16330</td>\n",
       "      <td>19548</td>\n",
       "      <td>18010</td>\n",
       "      <td>18249</td>\n",
       "    </tr>\n",
       "  </tbody>\n",
       "</table>\n",
       "</div>"
      ],
      "text/plain": [
       "     2020사고량  2019사고량  2018사고량  2017사고량\n",
       "01월    16968    16552    17026    16970\n",
       "02월    16285    14752    16208    14832\n",
       "03월    14949    18133    17022    17047\n",
       "04월    16186    19104    17992    17717\n",
       "05월    18184    20779    18636    18502\n",
       "06월    19017    18968    18082    18047\n",
       "07월    18302    19234    18699    18158\n",
       "08월    17616    19992    18335    18682\n",
       "09월    18124    19331    18371    19891\n",
       "10월    19255    21690    19738    18863\n",
       "11월    18438    21517    19029    19377\n",
       "12월    16330    19548    18010    18249"
      ]
     },
     "execution_count": 343,
     "metadata": {},
     "output_type": "execute_result"
    }
   ],
   "source": [
    "# 2017-2020 사고량\n",
    "accident_df = pd.DataFrame({'2020사고량' : ac,\n",
    "                            '2019사고량' : sago_2019,\n",
    "                            '2018사고량' : sago_2018,\n",
    "                            '2017사고량' : sago_2017})\n",
    "accident_df"
   ]
  },
  {
   "cell_type": "code",
   "execution_count": 344,
   "id": "6a0db560-9ba1-4318-90db-d62c9c797eba",
   "metadata": {},
   "outputs": [
    {
     "data": {
      "text/html": [
       "<div>\n",
       "<style scoped>\n",
       "    .dataframe tbody tr th:only-of-type {\n",
       "        vertical-align: middle;\n",
       "    }\n",
       "\n",
       "    .dataframe tbody tr th {\n",
       "        vertical-align: top;\n",
       "    }\n",
       "\n",
       "    .dataframe thead th {\n",
       "        text-align: right;\n",
       "    }\n",
       "</style>\n",
       "<table border=\"1\" class=\"dataframe\">\n",
       "  <thead>\n",
       "    <tr style=\"text-align: right;\">\n",
       "      <th></th>\n",
       "      <th>2020사고량</th>\n",
       "      <th>2020강수량</th>\n",
       "      <th>2019사고량</th>\n",
       "      <th>2019강수량</th>\n",
       "      <th>2018사고량</th>\n",
       "      <th>2018강수량</th>\n",
       "      <th>2017사고량</th>\n",
       "      <th>2017강수량</th>\n",
       "    </tr>\n",
       "  </thead>\n",
       "  <tbody>\n",
       "    <tr>\n",
       "      <th>1월</th>\n",
       "      <td>16968</td>\n",
       "      <td>60.5</td>\n",
       "      <td>16552</td>\n",
       "      <td>0.0</td>\n",
       "      <td>17026</td>\n",
       "      <td>8.5</td>\n",
       "      <td>16970</td>\n",
       "      <td>14.9</td>\n",
       "    </tr>\n",
       "    <tr>\n",
       "      <th>2월</th>\n",
       "      <td>16285</td>\n",
       "      <td>53.1</td>\n",
       "      <td>14752</td>\n",
       "      <td>23.8</td>\n",
       "      <td>16208</td>\n",
       "      <td>29.6</td>\n",
       "      <td>14832</td>\n",
       "      <td>11.1</td>\n",
       "    </tr>\n",
       "    <tr>\n",
       "      <th>3월</th>\n",
       "      <td>14949</td>\n",
       "      <td>16.3</td>\n",
       "      <td>18133</td>\n",
       "      <td>26.8</td>\n",
       "      <td>17022</td>\n",
       "      <td>49.5</td>\n",
       "      <td>17047</td>\n",
       "      <td>7.9</td>\n",
       "    </tr>\n",
       "    <tr>\n",
       "      <th>4월</th>\n",
       "      <td>16186</td>\n",
       "      <td>16.9</td>\n",
       "      <td>19104</td>\n",
       "      <td>47.3</td>\n",
       "      <td>17992</td>\n",
       "      <td>130.3</td>\n",
       "      <td>17717</td>\n",
       "      <td>61.6</td>\n",
       "    </tr>\n",
       "    <tr>\n",
       "      <th>5월</th>\n",
       "      <td>18184</td>\n",
       "      <td>112.4</td>\n",
       "      <td>20779</td>\n",
       "      <td>37.8</td>\n",
       "      <td>18636</td>\n",
       "      <td>222.0</td>\n",
       "      <td>18502</td>\n",
       "      <td>16.1</td>\n",
       "    </tr>\n",
       "    <tr>\n",
       "      <th>6월</th>\n",
       "      <td>19017</td>\n",
       "      <td>139.6</td>\n",
       "      <td>18968</td>\n",
       "      <td>74.4</td>\n",
       "      <td>18082</td>\n",
       "      <td>171.5</td>\n",
       "      <td>18047</td>\n",
       "      <td>66.6</td>\n",
       "    </tr>\n",
       "    <tr>\n",
       "      <th>7월</th>\n",
       "      <td>18302</td>\n",
       "      <td>270.4</td>\n",
       "      <td>19234</td>\n",
       "      <td>194.4</td>\n",
       "      <td>18699</td>\n",
       "      <td>185.6</td>\n",
       "      <td>18158</td>\n",
       "      <td>621.0</td>\n",
       "    </tr>\n",
       "    <tr>\n",
       "      <th>8월</th>\n",
       "      <td>17616</td>\n",
       "      <td>675.7</td>\n",
       "      <td>19992</td>\n",
       "      <td>190.5</td>\n",
       "      <td>18335</td>\n",
       "      <td>202.6</td>\n",
       "      <td>18682</td>\n",
       "      <td>297.0</td>\n",
       "    </tr>\n",
       "    <tr>\n",
       "      <th>9월</th>\n",
       "      <td>18124</td>\n",
       "      <td>181.5</td>\n",
       "      <td>19331</td>\n",
       "      <td>139.8</td>\n",
       "      <td>18371</td>\n",
       "      <td>68.5</td>\n",
       "      <td>19891</td>\n",
       "      <td>35.0</td>\n",
       "    </tr>\n",
       "    <tr>\n",
       "      <th>10월</th>\n",
       "      <td>19255</td>\n",
       "      <td>0.0</td>\n",
       "      <td>21690</td>\n",
       "      <td>55.5</td>\n",
       "      <td>19738</td>\n",
       "      <td>120.5</td>\n",
       "      <td>18863</td>\n",
       "      <td>26.5</td>\n",
       "    </tr>\n",
       "    <tr>\n",
       "      <th>11월</th>\n",
       "      <td>18438</td>\n",
       "      <td>120.1</td>\n",
       "      <td>21517</td>\n",
       "      <td>78.8</td>\n",
       "      <td>19029</td>\n",
       "      <td>79.1</td>\n",
       "      <td>19377</td>\n",
       "      <td>40.7</td>\n",
       "    </tr>\n",
       "    <tr>\n",
       "      <th>12월</th>\n",
       "      <td>16330</td>\n",
       "      <td>4.6</td>\n",
       "      <td>19548</td>\n",
       "      <td>22.6</td>\n",
       "      <td>18010</td>\n",
       "      <td>16.4</td>\n",
       "      <td>18249</td>\n",
       "      <td>34.8</td>\n",
       "    </tr>\n",
       "  </tbody>\n",
       "</table>\n",
       "</div>"
      ],
      "text/plain": [
       "     2020사고량  2020강수량  2019사고량  2019강수량  2018사고량  2018강수량  2017사고량  2017강수량\n",
       "1월     16968     60.5    16552      0.0    17026      8.5    16970     14.9\n",
       "2월     16285     53.1    14752     23.8    16208     29.6    14832     11.1\n",
       "3월     14949     16.3    18133     26.8    17022     49.5    17047      7.9\n",
       "4월     16186     16.9    19104     47.3    17992    130.3    17717     61.6\n",
       "5월     18184    112.4    20779     37.8    18636    222.0    18502     16.1\n",
       "6월     19017    139.6    18968     74.4    18082    171.5    18047     66.6\n",
       "7월     18302    270.4    19234    194.4    18699    185.6    18158    621.0\n",
       "8월     17616    675.7    19992    190.5    18335    202.6    18682    297.0\n",
       "9월     18124    181.5    19331    139.8    18371     68.5    19891     35.0\n",
       "10월    19255      0.0    21690     55.5    19738    120.5    18863     26.5\n",
       "11월    18438    120.1    21517     78.8    19029     79.1    19377     40.7\n",
       "12월    16330      4.6    19548     22.6    18010     16.4    18249     34.8"
      ]
     },
     "execution_count": 344,
     "metadata": {},
     "output_type": "execute_result"
    }
   ],
   "source": [
    "# # 2017-2020 강수 + 사고량\n",
    "ra11 = rain_df.reset_index()\n",
    "acc22 = accident_df.reset_index()\n",
    "acra1 = pd.concat([acc22, ra11], axis=1)\n",
    "accra = acra1.drop(columns = ['index'])\n",
    "acc_rain_df = accra.reindex(columns = ['2020사고량', '2020강수량','2019사고량','2019강수량','2018사고량','2018강수량','2017사고량','2017강수량'])\n",
    "final_accrain_df = acc_rain_df.rename(index = {0:'1월',1:'2월',2:'3월',3:'4월',4:'5월',5:'6월',6:'7월',7:'8월',8:'9월',\\\n",
    "                                               9:'10월',10:'11월',11:'12월'})\n",
    "final_accrain_df"
   ]
  },
  {
   "cell_type": "code",
   "execution_count": 339,
   "id": "3d4611e9-fff2-413b-b09c-9e4f3915cfe7",
   "metadata": {},
   "outputs": [],
   "source": [
    "# 데이터프레임 csv파일로 저장\n",
    "final_accrain_df.to_csv(\"17~20년 강수,사고.csv\")"
   ]
  },
  {
   "cell_type": "markdown",
   "id": "d01bf7b6-76b5-4bd1-adf2-35b81b893d1d",
   "metadata": {
    "tags": []
   },
   "source": [
    "# 2017~2020년 강수량사고량 그래프"
   ]
  },
  {
   "cell_type": "code",
   "execution_count": 330,
   "id": "b2405025-d12d-4124-95ed-d4fe8df2be35",
   "metadata": {},
   "outputs": [],
   "source": [
    "y = the_final.loc['합계']  # 20년 강수량 월별합계통계\n",
    "yy = the_final1.loc['합계']  # 19년 강수량 월별합계통계\n",
    "yyy = the_final2.loc['합계'] # 18년 강수량 월별합계통계\n",
    "yyyy = the_final12.loc['합계'] # 17년 강수량 월별합계통계\n",
    "\n",
    "month = ['1월','2월','3월','4월','5월','6월','7월','8월','9월','10월','11월','12월']  # x축"
   ]
  },
  {
   "cell_type": "code",
   "execution_count": 341,
   "id": "ab754e65-4947-47b0-bad5-8b65a1e4b929",
   "metadata": {},
   "outputs": [
    {
     "data": {
      "image/png": "[encoded data removed]",
      "text/plain": [
       "<Figure size 1152x360 with 4 Axes>"
      ]
     },
     "metadata": {},
     "output_type": "display_data"
    },
    {
     "data": {
      "image/png": "[encoded data removed]",
      "text/plain": [
       "<Figure size 1152x720 with 4 Axes>"
      ]
     },
     "metadata": {},
     "output_type": "display_data"
    }
   ],
   "source": [
    "plt.rc('font', family ='Malgun Gothic')\n",
    "#################################################################################################################################\n",
    "\n",
    "\n",
    "fig = plt.figure(figsize=(16,5)) ## 캔버스 생성\n",
    "fig.set_facecolor('white')\n",
    "ax1 = fig.add_subplot(1,2 ,1) ## axes 생성\n",
    "ax1.set_title('2020년')\n",
    "color1 = 'C9'\n",
    "ax1.bar(month, ac, color=color1)\n",
    "ax1.tick_params(axis='y', labelcolor=color1)\n",
    "\n",
    "color2 = 'hotpink'\n",
    "ax2 = ax1.twinx()\n",
    "ax2.plot(month, y, color=color2, marker = 'D')\n",
    "ax2.tick_params(axis='y', labelcolor=color2)\n",
    "ax1.legend(['사고량'], loc = 'upper left')\n",
    "ax2.legend(['강수량'])\n",
    "\n",
    "#################################################################################################################################\n",
    "\n",
    "\n",
    "ax11 = fig.add_subplot(1,2,2) ## axes 생성\n",
    "ax11.set_title('2019년')\n",
    "color11 = 'C9'\n",
    "ax11.bar(month, sago_2019, color=color11)\n",
    "ax11.tick_params(axis='y', labelcolor=color11)\n",
    "\n",
    "color21 = 'hotpink'\n",
    "ax21 = ax11.twinx()\n",
    "ax21.plot(month, yy, color=color21, marker = 'D')\n",
    "ax21.tick_params(axis='y', labelcolor=color21)\n",
    "ax11.legend(['사고량'], loc = 'upper left')\n",
    "ax21.legend(['강수량'])\n",
    "\n",
    "#################################################################################################################################\n",
    "\n",
    "\n",
    "fig2 = plt.figure(figsize=(16,10)) ## 캔버스 생성\n",
    "fig2.set_facecolor('white')\n",
    "\n",
    "ax12 = fig2.add_subplot(2,2,1) ## axes 생성\n",
    "ax12.set_title('2018년')\n",
    "color12 = 'C9'\n",
    "ax12.bar(month, sago_2018, color=color12)\n",
    "ax12.tick_params(axis='y', labelcolor=color12)\n",
    "\n",
    "color22 = 'hotpink'\n",
    "ax22 = ax12.twinx()\n",
    "ax22.plot(month, yyy, color=color22, marker = 'D')\n",
    "ax22.tick_params(axis='y', labelcolor=color22)\n",
    "ax12.legend(['사고량'], loc = 'upper left')\n",
    "ax22.legend(['강수량'])\n",
    "\n",
    "#################################################################################################################################\n",
    "\n",
    "\n",
    "ax13 = fig2.add_subplot(2,2,2) ## axes 생성\n",
    "ax13.set_title('2017년')\n",
    "color13 = 'C9'\n",
    "ax13.bar(month, sago_2017, color=color13)\n",
    "ax13.tick_params(axis='y', labelcolor=color13)\n",
    "\n",
    "color23 = 'hotpink'\n",
    "ax23 = ax13.twinx()\n",
    "ax23.plot(month, yyyy, color=color23, marker = 'D')\n",
    "ax23.tick_params(axis='y', labelcolor=color23)\n",
    "ax13.legend(['사고량'], loc = 'upper left')\n",
    "ax23.legend(['강수량'])\n",
    " \n",
    "\n",
    "plt.show()"
   ]
  },
  {
   "cell_type": "code",
   "execution_count": null,
   "id": "0342b88c-6fff-412e-825e-9fea18270f9d",
   "metadata": {},
   "outputs": [],
   "source": []
  }
 ],
 "metadata": {
  "kernelspec": {
   "display_name": "Python 3 (ipykernel)",
   "language": "python",
   "name": "python3"
  },
  "language_info": {
   "codemirror_mode": {
    "name": "ipython",
    "version": 3
   },
   "file_extension": ".py",
   "mimetype": "text/x-python",
   "name": "python",
   "nbconvert_exporter": "python",
   "pygments_lexer": "ipython3",
   "version": "3.9.7"
  }
 },
 "nbformat": 4,
 "nbformat_minor": 5
}
