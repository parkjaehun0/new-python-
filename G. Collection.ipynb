{
 "cells": [
  {
   "cell_type": "code",
   "execution_count": 1,
   "id": "aea87d2d-a5ff-4e4e-8ad3-6a16267e5a05",
   "metadata": {},
   "outputs": [],
   "source": [
    "# Collection 종류\n",
    "# list[] 데이터가 순서대로 있으며 추가해도 순서를 유지한다.\n",
    "# Tuple() 수정 및 삭제가 안된다.\n",
    "# Set{} 데이터를 넣으면 순서대로 있지 않고 데이터 추가도 안된다. 집합데이터\n",
    "# Dictionary {키:값}\n",
    "# https://www.w3schools.com/python/python_lists_add.asp 모르면 이 사이트 보기."
   ]
  },
  {
   "cell_type": "code",
   "execution_count": 33,
   "id": "4a20b4b8-2b4b-418d-8fbd-b682bc23cf29",
   "metadata": {},
   "outputs": [
    {
     "name": "stdout",
     "output_type": "stream",
     "text": [
      "['사과', '바나나', '수박', '복숭아', '메론']\n",
      "<class 'list'>\n",
      "5\n",
      "사과\n",
      "<class 'str'>\n",
      "2\n",
      "나는 사과를(을) 좋아합니다.\n",
      "나는 바나나를(을) 좋아합니다.\n",
      "나는 수박를(을) 좋아합니다.\n",
      "나는 복숭아를(을) 좋아합니다.\n",
      "나는 메론를(을) 좋아합니다.\n",
      "['바나나', '수박']\n",
      "['사과', '바나나', '수박']\n",
      "['수박', '복숭아', '메론']\n"
     ]
    }
   ],
   "source": [
    "fruits = ['사과', '바나나', '수박', '복숭아', '메론']\n",
    "print(fruits)\n",
    "print(type(fruits))\n",
    "print(len(fruits))\n",
    "print(fruits[0])\n",
    "print(type(fruits[0]))\n",
    "print(len(fruits[0]))\n",
    "\n",
    "for i in fruits:\n",
    "    print('나는 ' + i + '를(을) 좋아합니다.')\n",
    "    \n",
    "print(fruits[1:3])\n",
    "print(fruits[:3])\n",
    "print(fruits[2:])"
   ]
  },
  {
   "cell_type": "code",
   "execution_count": null,
   "id": "6bc841d2-d613-4d2a-ad93-baaf2752c46a",
   "metadata": {},
   "outputs": [],
   "source": [
    "# 리스트 수정\n",
    "fruits[0] = '오렌지'\n",
    "print(fruits)\n",
    "\n",
    "a = input(' ')\n",
    "fruits = ['사과', '딸기', '배']\n",
    "fruits[2] = a\n",
    "\n",
    "print(fruits)"
   ]
  },
  {
   "cell_type": "code",
   "execution_count": null,
   "id": "ae5b76e5-0713-46d5-9130-787346e85b8b",
   "metadata": {},
   "outputs": [
    {
     "name": "stdout",
     "output_type": "stream",
     "text": [
      "[10, 21, 31, 41, 51, 60, 71, 81, 91, 101]\n",
      "<class 'list'>\n",
      "60\n",
      "<class 'int'>\n",
      "10\n",
      "__________________________________________________\n",
      "10\n",
      "21\n",
      "31\n",
      "41\n",
      "51\n",
      "60\n",
      "71\n",
      "81\n",
      "91\n",
      "101\n",
      "__________________________________________________\n",
      "558\n",
      "__________________________________________________\n",
      "10\n",
      "60\n",
      "600\n",
      "-70\n",
      "70\n",
      "2\n"
     ]
    }
   ],
   "source": [
    "number = [10,21,31,41,51,60,71,81,91,101]\n",
    "print(number)\n",
    "print(type(number))\n",
    "print(number[5])\n",
    "print(type(number[5]))\n",
    "print(len(number))\n",
    "\n",
    "print('_'*50)\n",
    "for j in number:\n",
    "    print(j)\n",
    "\n",
    "print('_'*50)  # 누적해서 덧셈\n",
    "q = 0\n",
    "for j in number:\n",
    "    q = q + j\n",
    "print(q)\n",
    "\n",
    "print('_'*50)\n",
    "c = 0\n",
    "g = 0\n",
    "t = 0\n",
    "p = 1\n",
    "for j in number:\n",
    "    if j % 2 == 0:\n",
    "        print(j)\n",
    "        p = p * j\n",
    "        t = t - j\n",
    "        g = g + j\n",
    "        c = c + 1\n",
    "print(p) # 짝수곱셈\n",
    "print(t) # 짝수뺄셈       \n",
    "print(g) # 짝수덧셈\n",
    "print(c) # 짝수갯수\n"
   ]
  },
  {
   "cell_type": "code",
   "execution_count": 67,
   "id": "482f6a79-238f-48c0-be31-888932a16950",
   "metadata": {},
   "outputs": [
    {
     "name": "stdout",
     "output_type": "stream",
     "text": [
      "[] <class 'list'>\n",
      "[] <class 'list'>\n",
      "__________________________________________________\n",
      "['peach', 'banana', 'kiwi', 'water melon', 'apple'] <class 'list'>\n",
      "['peach', 'banana', 'water melon'] <class 'list'>\n",
      "3\n",
      "6\n",
      "['k8'] <class 'list'>\n"
     ]
    }
   ],
   "source": [
    "my_fruits = list()\n",
    "my_car = list()\n",
    "print(my_fruits, type(my_fruits)) # ,를 사용해서 같이 프린트가 가능하다.\n",
    "print(my_car, type(my_car))\n",
    "\n",
    "print('_'*50)\n",
    "my_fruits.append('peach')\n",
    "my_fruits.append('banana')        # append 와 insert함수는 멤버함수이다. 그러므로 .을 사용한다.\n",
    "my_fruits.append('water melon')\n",
    "my_fruits.append('apple')\n",
    "my_fruits.insert(2,'kiwi')        # insert는 원하는위치(인덱스), 원하는 값 순서대로 적는다.\n",
    "print(my_fruits, type(my_fruits))\n",
    "my_fruits.remove(my_fruits[2])   # remove(list이름[인덱스]) 를 하여 리스트안에 인덱스번호에 해당되는 값 삭제\n",
    "my_fruits.remove('apple')        # remove는 '인덱스값'을 입력해도된다.\n",
    "my_car.append('k8')\n",
    "\n",
    "print(my_fruits, type(my_fruits))\n",
    "print(len(my_fruits))              #  len(my_fruits)은 길이\n",
    "print(len(my_fruits[1]))           #  len(my_fruits[3])은 3번째 인덱스의 길이\n",
    "print(my_car, type(my_car))\n"
   ]
  },
  {
   "cell_type": "code",
   "execution_count": 68,
   "id": "4e54dd26-1685-453d-9d0a-08527283ca51",
   "metadata": {},
   "outputs": [
    {
     "name": "stdout",
     "output_type": "stream",
     "text": [
      "['peach', 'banana', 'water melon']\n",
      "['banana', 'peach', 'water melon']\n",
      "['water melon', 'peach', 'banana']\n",
      "['banana', 'peach', 'water melon']\n",
      "__________________________________________________\n",
      "['banana', 'peach', 'water melon']\n",
      "water melon\n",
      "['banana', 'peach']\n"
     ]
    }
   ],
   "source": [
    "print(my_fruits)\n",
    "\n",
    "my_fruits.sort()    # sort는 리스트안에 내용을 오름차순으로 정렬한다.\n",
    "print(my_fruits)\n",
    "\n",
    "my_fruits.sort(reverse=True)   # my_fruits.sort(reverse=True) 는 내림차순으로 정렬한다.\n",
    "print(my_fruits)\n",
    "my_fruits.sort(reverse=False)   # my_fruits.sort(reverse=False)는 오름차순 정렬.\n",
    "print(my_fruits)\n",
    "\n",
    "print('_'*50)\n",
    "\n",
    "print(my_fruits)\n",
    "a = my_fruits.pop()      # .pop()은 마지막값을 변수에 대입한다. .pop(-1)은 리스트에 마지막값을 의미 -2 는 뒤에서 두번째꺼는 의미.\n",
    "print(a)\n",
    "print(my_fruits)"
   ]
  },
  {
   "cell_type": "markdown",
   "id": "554762aa-c664-4c31-91ff-7c6c64a6f4d9",
   "metadata": {},
   "source": [
    "# Tuple()\n",
    "중복값은 가능하나 수정이 불가능하다."
   ]
  },
  {
   "cell_type": "code",
   "execution_count": 73,
   "id": "1385d230-7be0-4bf3-8d54-7752121f1d1c",
   "metadata": {},
   "outputs": [
    {
     "name": "stdout",
     "output_type": "stream",
     "text": [
      "() <class 'tuple'>\n",
      "() <class 'tuple'>\n"
     ]
    }
   ],
   "source": [
    "my_acr = tuple()\n",
    "my_rfuits = ()\n",
    "\n",
    "print(my_rfuits, type(my_rfuits))\n",
    "print(my_acr, type(my_acr))"
   ]
  },
  {
   "cell_type": "code",
   "execution_count": 100,
   "id": "56a59282-ebb8-4f7e-9bf5-fb4686f3b63e",
   "metadata": {},
   "outputs": [
    {
     "name": "stdout",
     "output_type": "stream",
     "text": [
      "('apple', 'peach', 'kiwi', 'orange') <class 'tuple'>\n",
      "('peach', 'kiwi')\n",
      "__________________________________________________\n",
      "['apple', 'peach', 'kiwi', 'orange'] <class 'list'>\n",
      "('apple', 'peach', 'kiwi', 'orange') <class 'tuple'>\n",
      "['apple', 'peach', 'kiwi', 'orange', 'pear']\n",
      "__________________________________________________\n",
      "('apple', 'peach', 'kiwi', 'orange', 'pear') <class 'tuple'>\n",
      "1\n"
     ]
    }
   ],
   "source": [
    "my_rfuits = ('apple', 'peach', 'kiwi', 'orange')\n",
    "print(my_rfuits, type(my_rfuits))\n",
    "\n",
    "# my_rfuits[0] = 'pear'  tuple은 수정이 안된다.\n",
    "print(my_rfuits[1:3])\n",
    "\n",
    "print('_'*50)\n",
    "\n",
    "my_rfuits_list = list(my_rfuits)   # tuple은 list로 바꿔서 추가가 가능하다.\n",
    "print(my_rfuits_list, type(my_rfuits_list))  \n",
    "print(my_rfuits, type(my_rfuits))\n",
    "\n",
    "my_rfuits_list.append('pear')\n",
    "print(my_rfuits_list)\n",
    "print('_'*50)\n",
    "\n",
    "my_rfuits_tuple = tuple(my_rfuits_list)   # 수정이 완료되면 다시 tuple로 바꾼다.\n",
    "\n",
    "print(my_rfuits_tuple, type(my_rfuits_tuple))  \n",
    "\n",
    "my_rfuits_tuple.count('peach')   # return값이 있으므로 print가 가능하다.\n",
    "print(my_rfuits_tuple.count('peach'))\n"
   ]
  },
  {
   "cell_type": "markdown",
   "id": "ff5ec6d9-6434-4fcc-938a-fec0e9337c3c",
   "metadata": {},
   "source": [
    "# Set{}\n",
    "추가 수정은 가능하나 중복값을 허용하지 못한다."
   ]
  },
  {
   "cell_type": "code",
   "execution_count": 111,
   "id": "c75d5754-f2c7-48ad-9479-e6b2cdb9d930",
   "metadata": {},
   "outputs": [
    {
     "name": "stdout",
     "output_type": "stream",
     "text": [
      "{} <class 'dict'>\n",
      "{'k9', 'k5', 'k7', 'k8'} <class 'set'>\n",
      "__________________________________________________\n",
      "True\n",
      "False\n",
      "{'k9', 'k8'}\n"
     ]
    }
   ],
   "source": [
    "my_gwail = {}\n",
    "my_cha = set()\n",
    "\n",
    "my_cha.add('k8')    # set은 값추가를 add로 한다.\n",
    "my_cha.add('k7')    # set은 값이 랜덤으로 정렬된다.\n",
    "my_cha.add('k9')\n",
    "my_cha.add('k5')\n",
    "\n",
    "print(my_gwail, type(my_gwail))\n",
    "print(my_cha, type(my_cha))\n",
    "\n",
    "print('_'*50)\n",
    "\n",
    "# 안에 그 값이 있는 확인.\n",
    "print('k9' in my_cha)  # 출력값은 있으면 True\n",
    "print('k3' in my_cha)  # 없으면 False\n",
    "\n",
    "# 값 삭제\n",
    "my_cha.remove('k7')\n",
    "my_cha.discard('k5')  # remove, discard 둘다 삭제가능\n",
    "print(my_cha)"
   ]
  },
  {
   "cell_type": "code",
   "execution_count": 130,
   "id": "dc04f6b8-e129-4861-a89d-de1c901667ae",
   "metadata": {},
   "outputs": [
    {
     "name": "stdin",
     "output_type": "stream",
     "text": [
      "숫자입력 11\n",
      "숫자입력 22\n",
      "숫자입력 3\n",
      "숫자입력 3\n",
      "숫자입력 5\n"
     ]
    },
    {
     "name": "stdout",
     "output_type": "stream",
     "text": [
      "[11, 22, 3, 3, 5]\n"
     ]
    }
   ],
   "source": [
    "gift = []\n",
    "gift.append(int(input('숫자입력')))\n",
    "gift.append(int(input('숫자입력')))\n",
    "gift.append(int(input('숫자입력')))\n",
    "gift.append(int(input('숫자입력')))\n",
    "gift.append(int(input('숫자입력')))\n",
    "\n",
    "print(gift)"
   ]
  },
  {
   "cell_type": "code",
   "execution_count": 5,
   "id": "7c6f6ec1-67d4-4dba-be70-0ffee78b0d1f",
   "metadata": {},
   "outputs": [
    {
     "name": "stdin",
     "output_type": "stream",
     "text": [
      "점수 입력 1\n",
      "점수 입력 11\n",
      "점수 입력 1\n",
      "점수 입력 1\n",
      "점수 입력 1\n"
     ]
    },
    {
     "name": "stdout",
     "output_type": "stream",
     "text": [
      "[1, 11, 1, 1, 1]\n"
     ]
    }
   ],
   "source": [
    "jumsu_list = []\n",
    "\n",
    "for i in range(5): \n",
    "    jumsu = int(input('점수 입력'))\n",
    "    jumsu_list.append(jumsu)\n",
    "print(jumsu_list)"
   ]
  },
  {
   "cell_type": "code",
   "execution_count": 47,
   "id": "4420b6f0-f999-40e4-a8b1-ebd35e237bdc",
   "metadata": {},
   "outputs": [
    {
     "name": "stdin",
     "output_type": "stream",
     "text": [
      "1번째 학생의 점수 50\n",
      "2번째 학생의 점수 50\n",
      "3번째 학생의 점수 50\n",
      "4번째 학생의 점수 50\n",
      "5번째 학생의 점수 50\n"
     ]
    },
    {
     "name": "stdout",
     "output_type": "stream",
     "text": [
      "[50, 50, 50, 50, 50]\n",
      "5명의 점수 총 점수는 250점 입니다.\n"
     ]
    }
   ],
   "source": [
    "student_list = []\n",
    "\n",
    "for h in range(5):\n",
    "    zumsu = int(input('%d번째 학생의 점수' % (h + 1)))\n",
    "    student_list.append(zumsu)\n",
    "print(student_list)\n",
    "\n",
    "su_m = 0\n",
    "for m in student_list:\n",
    "    su_m = su_m + m\n",
    "\n",
    "print('5명의 점수 총 점수는 %d점 입니다.' % su_m)"
   ]
  },
  {
   "cell_type": "code",
   "execution_count": 52,
   "id": "a72dc25d-aabe-47ec-b9c6-50c3a3735874",
   "metadata": {},
   "outputs": [
    {
     "name": "stdin",
     "output_type": "stream",
     "text": [
      "숫자 입력 500\n",
      "숫자 입력 500\n",
      "숫자 입력 500\n",
      "숫자 입력 500\n",
      "숫자 입력 500\n",
      "숫자 입력 500\n",
      "숫자 입력 500\n"
     ]
    },
    {
     "name": "stdout",
     "output_type": "stream",
     "text": [
      "[500, 500, 500, 500, 500, 500, 500]\n",
      "총합은 3500 입니다.\n"
     ]
    }
   ],
   "source": [
    "hamsu_list = []\n",
    "for p in range(7):\n",
    "    hamsu = int(input('숫자 입력'))\n",
    "    if hamsu > 0 and hamsu <= 999:\n",
    "        hamsu_list.append(hamsu)\n",
    "print(hamsu_list)\n",
    "\n",
    "ham = 0\n",
    "for n in hamsu_list:\n",
    "    ham = ham + n\n",
    "print('총합은 %d 입니다.' % ham)"
   ]
  },
  {
   "cell_type": "markdown",
   "id": "fdd0dc98-89a1-4179-bbb4-912adfdd7594",
   "metadata": {},
   "source": [
    "# Dictionary\n",
    "{키(key) : 값(value)} 로 형성"
   ]
  },
  {
   "cell_type": "code",
   "execution_count": 80,
   "id": "9e9de8ab-e61c-429c-89ac-c4c56b781f1d",
   "metadata": {},
   "outputs": [
    {
     "name": "stdout",
     "output_type": "stream",
     "text": [
      "{'name': '박재훈', 'mame': '박재훈', 'age': 23, 'gender': True} <class 'dict'>\n",
      "4\n",
      "{} <class 'dict'>\n",
      "__________________________________________________\n",
      "dict_keys(['name', 'mame', 'age', 'gender']) <class 'dict_keys'>\n",
      "dict_values(['박재훈', '박재훈', 23, True]) <class 'dict_values'>\n",
      "dict_items([('name', '박재훈'), ('mame', '박재훈'), ('age', 23), ('gender', True)]) <class 'dict_items'>\n",
      "__________________________________________________\n",
      "박재훈 <class 'str'>\n",
      "23 <class 'int'>\n",
      "True <class 'bool'>\n",
      "박재훈 <class 'str'>\n",
      "__________________________________________________\n",
      "박재훈 <class 'str'>\n",
      "__________________________________________________\n",
      "{'name': '박재훈', 'mame': '박재훈', 'age': 23, 'gender': True}\n",
      "{'name': '박재훈', 'mame': '박재훈', 'age': 20, 'gender': True, 'add': 'SEOUL'}\n"
     ]
    }
   ],
   "source": [
    "my_dict = {'name':'박재훈',   # key값은 '' 를 쓰고 해야한다.\n",
    "           'mame':'박재훈',   # key값은 중복이 안되지만 value는 중복이 가능하다.\n",
    "           'age':23,\n",
    "           'gender':True}\n",
    "my_dict2 = dict()\n",
    "\n",
    "print(my_dict, type(my_dict))\n",
    "print(len(my_dict))\n",
    "print(my_dict2, type(my_dict2))\n",
    "\n",
    "print('_'*50)\n",
    "keys = my_dict.keys()      # dict안에 있는 모든 key 를 불러온다\n",
    "values = my_dict.values()  # dict안에 있는 모든 value 을 불러온다\n",
    "items = my_dict.items()    # dict안에 있는 모든 key:value 을 불러온다\n",
    "\n",
    "print(keys, type(keys))\n",
    "print(values, type(values))\n",
    "print(items, type(items))\n",
    "\n",
    "print('_'*50)\n",
    "\n",
    "name = my_dict.get('name')  # get('') 은 괄호안에 있는 키값에 value를 가져온다.\n",
    "age = my_dict.get('age')\n",
    "gender = my_dict.get('gender')\n",
    "mame = my_dict.get('mame')\n",
    "print(name, type(name))\n",
    "print(age, type(age))\n",
    "print(gender, type(gender))\n",
    "print(mame, type(mame))\n",
    "\n",
    "print('_'*50)\n",
    "\n",
    "name1 = my_dict['name']\n",
    "print(name1, type(name1))\n",
    "\n",
    "print('_'*50)\n",
    "\n",
    "print(my_dict)\n",
    "my_dict['age'] = 20       #  변경 : my_dict['기존 key'] = 변경할 value\n",
    "my_dict['add'] = 'SEOUL'  #  추가 : my_dict['key'] = value\n",
    "print(my_dict)"
   ]
  },
  {
   "cell_type": "code",
   "execution_count": 3,
   "id": "bb4ba671-2101-4f6f-8f39-da68bef4bd91",
   "metadata": {},
   "outputs": [
    {
     "name": "stdout",
     "output_type": "stream",
     "text": [
      "[{'name': '사람', 'age': 1, 'gender': False}, {'name': '인간', 'age': 5, 'gender': True}] <class 'list'>\n"
     ]
    }
   ],
   "source": [
    "person = [\n",
    "    {'name':'사람',\n",
    "     'age':1,\n",
    "     'gender':False},\n",
    "    {'name':'인간',\n",
    "     'age':5,\n",
    "     'gender':True}\n",
    "]\n",
    "\n",
    "print(person, type(person))"
   ]
  },
  {
   "cell_type": "code",
   "execution_count": 4,
   "id": "06ed6c9b-92e5-4fbf-a5ac-e4866a61dc63",
   "metadata": {},
   "outputs": [
    {
     "name": "stdout",
     "output_type": "stream",
     "text": [
      "<class 'dict'>\n",
      "dict_values(['사람', 1, False])\n",
      "1\n",
      "<class 'dict'>\n",
      "dict_values(['인간', 5, True])\n",
      "5\n"
     ]
    }
   ],
   "source": [
    "for k in person:\n",
    "    print(type(k))\n",
    "    print(k.values())\n",
    "    print(k.get('age'))"
   ]
  },
  {
   "cell_type": "code",
   "execution_count": null,
   "id": "9d8a96df-2e43-4c1e-b037-6cb1f75e1e0e",
   "metadata": {},
   "outputs": [
    {
     "name": "stdin",
     "output_type": "stream",
     "text": [
      "name qr \n",
      "kor 2\n",
      "eng 2\n",
      "math 2\n"
     ]
    },
    {
     "name": "stdout",
     "output_type": "stream",
     "text": [
      "{'name': 'qr ', 'kor': 2, 'eng': 2, 'math': 2} <class 'dict'>\n",
      "총점은 6 입니다\n"
     ]
    }
   ],
   "source": [
    "per_son = dict()\n",
    "\n",
    "name = input('name')\n",
    "kor = int(input('kor'))\n",
    "eng = int(input('eng'))\n",
    "math = int(input('math'))\n",
    "\n",
    "per_son['name'] = name\n",
    "per_son['kor'] = kor\n",
    "per_son['eng'] = eng\n",
    "per_son['math'] = math\n",
    "\n",
    "print(per_son, type(per_son))\n",
    "\n",
    "total = per_son['kor'] + per_son['eng'] +per_son['math']\n",
    "print('총점은 %d 입니다' % total)"
   ]
  },
  {
   "cell_type": "code",
   "execution_count": null,
   "id": "f1fbd3c1-1f33-44c1-a4f1-065c68abd1ca",
   "metadata": {},
   "outputs": [],
   "source": []
  }
 ],
 "metadata": {
  "kernelspec": {
   "display_name": "Python 3 (ipykernel)",
   "language": "python",
   "name": "python3"
  },
  "language_info": {
   "codemirror_mode": {
    "name": "ipython",
    "version": 3
   },
   "file_extension": ".py",
   "mimetype": "text/x-python",
   "name": "python",
   "nbconvert_exporter": "python",
   "pygments_lexer": "ipython3",
   "version": "3.9.7"
  }
 },
 "nbformat": 4,
 "nbformat_minor": 5
}
