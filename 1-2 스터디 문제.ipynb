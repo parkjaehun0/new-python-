{
 "cells": [
  {
   "cell_type": "code",
   "execution_count": 1,
   "id": "8e1699da-36e0-4571-80f6-bd23470175a8",
   "metadata": {},
   "outputs": [],
   "source": [
    "def print_max(q, w, e):\n",
    "    if q > w and q > e:\n",
    "        ma_x = q\n",
    "    elif w > q and w > e:\n",
    "        ma_x = w\n",
    "    else:\n",
    "        ma_x = e\n",
    "    print(ma_x)\n",
    "    \n",
    "    \n",
    "    "
   ]
  },
  {
   "cell_type": "code",
   "execution_count": 2,
   "id": "b942cb95-3156-460b-b937-68c27a656159",
   "metadata": {},
   "outputs": [
    {
     "name": "stdin",
     "output_type": "stream",
     "text": [
      "숫자1 15\n",
      "숫자2 156\n",
      "숫자3 135\n"
     ]
    },
    {
     "name": "stdout",
     "output_type": "stream",
     "text": [
      "156\n"
     ]
    }
   ],
   "source": [
    "q = int(input('숫자1'))\n",
    "w = int(input('숫자2'))\n",
    "e = int(input('숫자3'))\n",
    "\n",
    "print_max(q, w, e)"
   ]
  },
  {
   "cell_type": "code",
   "execution_count": 10,
   "id": "f8e69366-3e99-410a-b396-110d2ffe4af3",
   "metadata": {},
   "outputs": [
    {
     "name": "stdin",
     "output_type": "stream",
     "text": [
      "가로 15\n",
      "세로 15\n"
     ]
    },
    {
     "name": "stdout",
     "output_type": "stream",
     "text": [
      "직삼각형 넓이\n",
      "112.5\n"
     ]
    }
   ],
   "source": [
    "def triangle(tri, tria):\n",
    "    dab = tri * tria / 2\n",
    "    print(dab)\n",
    "   \n",
    "\n",
    "    \n",
    "tri = int(input('가로'))\n",
    "tria = int(input('세로'))\n",
    "print('직삼각형 넓이')\n",
    "\n",
    "triangle(tri, tria)  "
   ]
  },
  {
   "cell_type": "code",
   "execution_count": 9,
   "id": "6296a205-1ca1-49be-9420-f38e91869337",
   "metadata": {},
   "outputs": [
    {
     "name": "stdin",
     "output_type": "stream",
     "text": [
      "가로 10\n",
      "세로 11\n"
     ]
    },
    {
     "name": "stdout",
     "output_type": "stream",
     "text": [
      "직사각형 넓이\n",
      "110\n"
     ]
    }
   ],
   "source": [
    "def quadrangle(qua, quad):\n",
    "    dab = qua * quad\n",
    "    print(dab)\n",
    "    \n",
    "    \n",
    "    \n",
    "qua = int(input('가로'))\n",
    "quad = int(input('세로'))\n",
    "print('직사각형 넓이')\n",
    "\n",
    "quadrangle(qua, quad)"
   ]
  },
  {
   "cell_type": "code",
   "execution_count": 11,
   "id": "d601d384-d746-47e3-91ba-dc3d3176a4e4",
   "metadata": {},
   "outputs": [
    {
     "name": "stdin",
     "output_type": "stream",
     "text": [
      "반지름 10\n"
     ]
    },
    {
     "name": "stdout",
     "output_type": "stream",
     "text": [
      "원 넓이\n",
      "314.0\n"
     ]
    }
   ],
   "source": [
    "def circle(cir):\n",
    "    dab = 3.14 * cir * cir\n",
    "    print(dab)\n",
    "    \n",
    "    \n",
    "    \n",
    "cir = int(input('반지름'))\n",
    "print('원 넓이')\n",
    "\n",
    "circle(cir)"
   ]
  },
  {
   "cell_type": "code",
   "execution_count": 12,
   "id": "35b31c1e-2a32-40dd-99cd-4a9f93a5bc2b",
   "metadata": {},
   "outputs": [
    {
     "name": "stdin",
     "output_type": "stream",
     "text": [
      "한 변의 길이 10\n"
     ]
    },
    {
     "name": "stdout",
     "output_type": "stream",
     "text": [
      "정사각형 넓이\n",
      "100\n"
     ]
    }
   ],
   "source": [
    "def square(squ):\n",
    "    dab = squ * squ\n",
    "    print(dab)\n",
    "    \n",
    "    \n",
    "    \n",
    "squ = int(input('한 변의 길이'))\n",
    "print('정사각형 넓이')\n",
    "\n",
    "square(squ)"
   ]
  },
  {
   "cell_type": "code",
   "execution_count": 20,
   "id": "327892b7-1a11-406e-a619-4e039d227c3d",
   "metadata": {},
   "outputs": [
    {
     "name": "stdout",
     "output_type": "stream",
     "text": [
      "[4, 6, 8]\n"
     ]
    }
   ],
   "source": [
    "new_list = list()\n",
    "\n",
    "def pickup_even(s):\n",
    "    for i in s:\n",
    "        if i % 2 == 0:\n",
    "            new_list.append(i)\n",
    "    \n",
    "    print(new_list)\n",
    "    \n",
    "    \n",
    "    \n",
    "pick_list = [3, 4, 5, 6, 7, 8]\n",
    "pickup_even(pick_list)"
   ]
  },
  {
   "cell_type": "code",
   "execution_count": 25,
   "id": "0584a1c9-554a-4545-be5d-0550c7c1fd92",
   "metadata": {},
   "outputs": [
    {
     "name": "stdout",
     "output_type": "stream",
     "text": [
      "15\n"
     ]
    }
   ],
   "source": [
    "def pickup_odd(a):\n",
    "    suu = 0\n",
    "    for i in a:\n",
    "        if i % 2 != 0:\n",
    "            suu = suu + i\n",
    "    print(suu)\n",
    "    \n",
    "    \n",
    "\n",
    "odd_list = [3, 4, 5, 6, 7, 8]    \n",
    "pickup_odd(odd_list)"
   ]
  },
  {
   "cell_type": "code",
   "execution_count": 3,
   "id": "f2501bb7-c4f1-4857-88b1-fa1560441b79",
   "metadata": {},
   "outputs": [
    {
     "name": "stdin",
     "output_type": "stream",
     "text": [
      "1.직삼각형 2.원 3.정사각형 4.직사각형 입력한 번호: 1\n",
      "가로 15\n",
      "세로 15\n"
     ]
    },
    {
     "name": "stdout",
     "output_type": "stream",
     "text": [
      "직삼각형의 넓이\n",
      "112.5\n"
     ]
    }
   ],
   "source": [
    "def shape(a):\n",
    "    #a = int(input('1.직삼각형 2.원 3.정사각형 4.직사각형'))\n",
    "    if a == 1:\n",
    "        tri = float(input('가로'))\n",
    "        tria = float(input('세로'))\n",
    "        dab = tri * tria / 2\n",
    "        print('직삼각형의 넓이')\n",
    "        print(dab)\n",
    "    elif a == 2:\n",
    "        cir = float(input('반지름'))\n",
    "        dab3 = 3.14 * (cir ** 2)\n",
    "        print('원의 넓이')\n",
    "        print(dab3)\n",
    "    elif a == 3:\n",
    "        squ = int(input('한 변의 길이'))\n",
    "        dab2 = squ ** 2\n",
    "        print('정사각형의 넓이')\n",
    "        print(dab2)\n",
    "    elif a == 4:\n",
    "        qua = int(input('가로'))\n",
    "        quad = int(input('세로'))\n",
    "        dab1 = qua * quad\n",
    "        print('직사각형의 넓이')\n",
    "        print(dab1)\n",
    "    else:\n",
    "        print('번호를 다시 입력하세요.')\n",
    "    \n",
    "\n",
    "    \n",
    "    \n",
    "\n",
    "sha = int(input('1.직삼각형 2.원 3.정사각형 4.직사각형 입력한 번호:'))\n",
    "shape(sha)"
   ]
  },
  {
   "cell_type": "code",
   "execution_count": null,
   "id": "b08a6b5f-cd86-4990-9373-03e9002131d4",
   "metadata": {},
   "outputs": [],
   "source": []
  }
 ],
 "metadata": {
  "kernelspec": {
   "display_name": "Python 3 (ipykernel)",
   "language": "python",
   "name": "python3"
  },
  "language_info": {
   "codemirror_mode": {
    "name": "ipython",
    "version": 3
   },
   "file_extension": ".py",
   "mimetype": "text/x-python",
   "name": "python",
   "nbconvert_exporter": "python",
   "pygments_lexer": "ipython3",
   "version": "3.9.7"
  }
 },
 "nbformat": 4,
 "nbformat_minor": 5
}
