{
 "cells": [
  {
   "cell_type": "markdown",
   "id": "1ecfcb0d-8e6d-467b-ade0-338a4c726735",
   "metadata": {},
   "source": [
    "input으로 계좌개설하기 입금하기 송금하기 출금하기 만들기<<"
   ]
  },
  {
   "cell_type": "code",
   "execution_count": 46,
   "id": "883c3223-6fe1-4b22-b13d-e2e1cae9d1e1",
   "metadata": {},
   "outputs": [],
   "source": [
    "class Account:\n",
    "    account_cnt = 0\n",
    "    \n",
    "    def __init__(self, num):  # 생성자\n",
    "        self.__num = num    # self.__ << 로 쓰면 다른 곳에서는 불러오는것이 불가능하다 \n",
    "        self.__balance = 0\n",
    "        Account.account_cnt = Account.account_cnt + 1\n",
    "        \n",
    "        \n",
    "    def get_num(self):      # get 함수를 쓰면 다른 곳에서 불러 오는 것이 가능하다.\n",
    "        return self.__num     # self.__ << 작성하면 __ 을 꼭 같이 붙여줘야한다.\n",
    "    def get_balance(self):\n",
    "        return self.__balance\n",
    "    \n",
    "    def set_num(self, num):  # set함수는 외부값을 주면 내부에 설정한다.\n",
    "        self.__num = num\n",
    "    def set_balance(self, balance):\n",
    "        self.__balance = balance\n",
    "        \n",
    "    # 입금\n",
    "    def deposit(self, money):\n",
    "        self.__balance = self.__balance + money\n",
    "        \n",
    "    #출금\n",
    "    def withdraw(self, won):\n",
    "        if self.__balance - won < 0:\n",
    "            print('잔액이 부족합니다')\n",
    "        else:\n",
    "            self.__balance = self.__balance - won\n",
    "        \n",
    "    # 정보출력\n",
    "    def print_info(self):\n",
    "        print('%s의 잔액 %d 원' % (self.__num, self.__balance))\n",
    "        \n",
    "        \n",
    "    # 계좌 개수 출력\n",
    "    @classmethod\n",
    "    def print_account_cnt(cls):\n",
    "        print(cls.account_cnt)\n",
    "        \n",
    "    # 송금\n",
    "    def transfer(self, money, other):\n",
    "        if self.__balance - money < 0:\n",
    "            print('잔액부족')\n",
    "        else:\n",
    "            self.__balance = self.__balance - money\n",
    "            other.set_balance(other.get_balance() + money)\n",
    "        "
   ]
  },
  {
   "cell_type": "code",
   "execution_count": 44,
   "id": "7c44af30-3f61-4030-8eb9-d50de0135ecb",
   "metadata": {},
   "outputs": [],
   "source": [
    "tongjang_li = []\n",
    "def tj_id():\n",
    "    name = input('이름입력')\n",
    "    name = Account(name)\n",
    "    tongjang_li.append(name)"
   ]
  },
  {
   "cell_type": "code",
   "execution_count": 1,
   "id": "b300e256-a884-4b7c-a444-87a60280d5db",
   "metadata": {},
   "outputs": [
    {
     "name": "stdin",
     "output_type": "stream",
     "text": [
      "1.계좌개설, 2.입금, 3.출금, 4.잔액확인, 0.종료 0\n"
     ]
    }
   ],
   "source": [
    "while True:\n",
    "    num = input('1.계좌개설, 2.입금, 3.출금, 4.잔액확인, 0.종료')\n",
    "    if num == '0':\n",
    "        break\n",
    "    elif num == '1':\n",
    "        tj_id()\n",
    "    elif num == '2':\n",
    "        account_nm = input('계좌이름 입력')\n",
    "        for i in tongjang_li:\n",
    "            if account_nm == i.get_num():\n",
    "                money = int(input('입금할 금액 입력'))\n",
    "                i.deposit(money)\n",
    "                i.print_info()\n",
    "                break\n",
    "    elif num == '3':\n",
    "        account_nm = input('계좌이름 입력')\n",
    "        for i in tongjang_li:\n",
    "            if account_nm == i.get_num():\n",
    "                won = int(input('출금할 금액 입력'))\n",
    "                i.withdraw(won)\n",
    "                i.print_info\n",
    "                break\n",
    "    elif num == '4':\n",
    "        account_nm = input('계좌이름 입력')\n",
    "        for i in account_nm:\n",
    "            if account_nm == i.get_num():\n",
    "                i.print_info\n",
    "                break\n",
    "                \n",
    "                "
   ]
  },
  {
   "cell_type": "code",
   "execution_count": 31,
   "id": "23f54ae3-9753-4d30-ab66-88f849976819",
   "metadata": {},
   "outputs": [
    {
     "name": "stdout",
     "output_type": "stream",
     "text": [
      "<bound method Account.get_num of <__main__.Account object at 0x000002E534ADAF10>>\n",
      "1 0\n",
      "2 0\n",
      "_____________입 금_____________\n",
      "____________잔액알림___________\n",
      "User1의 잔액 100 원\n",
      "_____________출 금_____________\n",
      "____________잔액알림___________\n",
      "User1의 잔액 50 원\n",
      "User2의 잔액 0 원\n",
      "____________계좌개수___________\n",
      "14\n",
      "_____________송 금_____________\n",
      "잔액부족\n"
     ]
    }
   ],
   "source": [
    "\n",
    "user1 = Account(1)\n",
    "user2 = Account(2)\n",
    "\n",
    "print(user1.get_num(), user1.get_balance())\n",
    "print(user2.get_num(), user2.get_balance())\n",
    "\n",
    "print('_____________입 금_____________')\n",
    "\n",
    "user1.deposit(100)\n",
    "user2.deposit(100)\n",
    "\n",
    "\n",
    "print('____________잔액알림___________')   # 리턴값이 없으면 print() 안에 쓰지않는다.\n",
    "user1.print_info()\n",
    "\n",
    "\n",
    "print('_____________출 금_____________')\n",
    "user1.withdraw(50)\n",
    "\n",
    "user2.withdraw(100)\n",
    "\n",
    "print('____________잔액알림___________')   \n",
    "user1.print_info()\n",
    "user2.print_info()\n",
    "\n",
    "print('____________계좌개수___________') \n",
    "Account.print_account_cnt()\n",
    "\n",
    "print('_____________송 금_____________')\n",
    " \n",
    "user1.transfer(500, user2)\n"
   ]
  },
  {
   "cell_type": "code",
   "execution_count": null,
   "id": "9afa61c9-2818-4dc5-b34c-77da62eb60f2",
   "metadata": {},
   "outputs": [],
   "source": []
  },
  {
   "cell_type": "code",
   "execution_count": null,
   "id": "651e35cb-919e-499e-9e42-a7c6614468ad",
   "metadata": {},
   "outputs": [],
   "source": []
  }
 ],
 "metadata": {
  "kernelspec": {
   "display_name": "Python 3 (ipykernel)",
   "language": "python",
   "name": "python3"
  },
  "language_info": {
   "codemirror_mode": {
    "name": "ipython",
    "version": 3
   },
   "file_extension": ".py",
   "mimetype": "text/x-python",
   "name": "python",
   "nbconvert_exporter": "python",
   "pygments_lexer": "ipython3",
   "version": "3.9.7"
  }
 },
 "nbformat": 4,
 "nbformat_minor": 5
}
